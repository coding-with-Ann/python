{
 "cells": [
  {
   "cell_type": "code",
   "execution_count": 1,
   "id": "d6159104",
   "metadata": {},
   "outputs": [
    {
     "name": "stdout",
     "output_type": "stream",
     "text": [
      "2\n",
      "4\n",
      "5\n",
      "10\n",
      "36\n",
      "49\n",
      "50\n",
      "50\n"
     ]
    }
   ],
   "source": [
    "#Arrange the values in a list using for loop python sorted fn\n",
    "num = [2,5,10,4,50,36,50,49]\n",
    "for i in sorted(num):\n",
    "    print(i)\n"
   ]
  },
  {
   "cell_type": "code",
   "execution_count": 2,
   "id": "9ba3b9c0",
   "metadata": {},
   "outputs": [
    {
     "name": "stdout",
     "output_type": "stream",
     "text": [
      "50\n",
      "50\n",
      "49\n",
      "36\n",
      "10\n",
      "5\n",
      "4\n",
      "2\n"
     ]
    }
   ],
   "source": [
    "#desc order\n",
    "num = [2,5,10,4,50,36,50,49]\n",
    "for i in sorted(num, reverse= True):\n",
    "    print(i)"
   ]
  },
  {
   "cell_type": "code",
   "execution_count": 6,
   "id": "9ce845ac",
   "metadata": {},
   "outputs": [
    {
     "name": "stdout",
     "output_type": "stream",
     "text": [
      "Harry\n",
      "Messi\n",
      "Ronaldo\n",
      "Sarah\n",
      "\n",
      "Sarah\n",
      "Ronaldo\n",
      "Messi\n",
      "Harry\n"
     ]
    }
   ],
   "source": [
    "players = ['Messi', 'Ronaldo', 'Sarah', 'Harry']\n",
    "for player in sorted(players):\n",
    "    print(player)\n",
    "print()\n",
    "for player in sorted(players, reverse = True):\n",
    "    print(player) "
   ]
  },
  {
   "cell_type": "code",
   "execution_count": 13,
   "id": "5392ff30",
   "metadata": {},
   "outputs": [
    {
     "name": "stdout",
     "output_type": "stream",
     "text": [
      "('a', 3)\n",
      "('b', 4)\n",
      "('c', 2)\n",
      "('e', 9)\n",
      "('f', 1)\n",
      "a\n",
      "b\n",
      "c\n",
      "e\n",
      "f\n",
      "1\n",
      "2\n",
      "3\n",
      "4\n",
      "9\n"
     ]
    }
   ],
   "source": [
    "#Sort dictionary\n",
    "\n",
    "d = {'f':1, 'b':4, 'a':3, 'e':9, 'c':2}\n",
    "for i in sorted(d.items()):       \n",
    "    print(i)\n",
    "\n",
    "#d.keys() returns the keys and d.values() returns the values\n",
    "d = {'f':1, 'b':4, 'a':3, 'e':9, 'c':2}\n",
    "for i in sorted(d.keys()):       \n",
    "    print(i)\n",
    "\n",
    "d = {'f':1, 'b':4, 'a':3, 'e':9, 'c':2}\n",
    "for i in sorted(d.values()):       \n",
    "    print(i)\n"
   ]
  },
  {
   "cell_type": "code",
   "execution_count": 14,
   "id": "5994dd21",
   "metadata": {},
   "outputs": [
    {
     "name": "stdout",
     "output_type": "stream",
     "text": [
      "Harry\n",
      "Sarah\n",
      "Ronaldo\n",
      "Messi\n"
     ]
    }
   ],
   "source": [
    "#Reverse fn in loops to reverse the items in a list\n",
    "players = ['Messi', 'Ronaldo', 'Sarah', 'Harry']\n",
    "for i in reversed(players):\n",
    "    print(i)"
   ]
  },
  {
   "cell_type": "code",
   "execution_count": 18,
   "id": "8e803eb0",
   "metadata": {},
   "outputs": [
    {
     "name": "stdout",
     "output_type": "stream",
     "text": [
      "{'name': 'lion', 'age': 30}\n",
      "{'name': 'lepard', 'age': 18}\n"
     ]
    }
   ],
   "source": [
    "#use filter fn in loop and filter specific elements in list based on some conditions\n",
    "#To giv e condition we will be using an anonymous fn in python often called as lambda fn\n",
    "\n",
    "animals = [{'name':'dog', 'age':11}, {'name':'lion', 'age':30}, \n",
    "           {'name':'elephant', 'age':63}, {\"name\":'lepard', 'age':18}]\n",
    "for animals in filter(lambda i : i[\"age\"]%2 == 0, animals):\n",
    "    print(animals)\n"
   ]
  },
  {
   "cell_type": "code",
   "execution_count": 21,
   "id": "ca4e584f",
   "metadata": {},
   "outputs": [
    {
     "name": "stdout",
     "output_type": "stream",
     "text": [
      "Israel\n",
      "Japan\n",
      "Brazil\n",
      "Canada\n",
      "India\n",
      "\n",
      "[]\n"
     ]
    }
   ],
   "source": [
    "#Remove items in a list using while loop\n",
    "country = ['India', 'Canada', 'Brazil', 'Japan', 'Israel']\n",
    "while country:\n",
    "    print(country.pop(-1))\n",
    "print()\n",
    "print(country)"
   ]
  },
  {
   "cell_type": "code",
   "execution_count": 22,
   "id": "70ee0aa0",
   "metadata": {},
   "outputs": [
    {
     "name": "stdout",
     "output_type": "stream",
     "text": [
      "9\n",
      "8\n",
      "7\n",
      "6\n",
      "5\n",
      "4\n",
      "3\n",
      "2\n",
      "1\n",
      "0\n"
     ]
    }
   ],
   "source": [
    "#while loops in just one line\n",
    "num = 10\n",
    "while num>0: num = num-1; print(num)"
   ]
  },
  {
   "cell_type": "code",
   "execution_count": 23,
   "id": "b586c780",
   "metadata": {},
   "outputs": [
    {
     "name": "stdout",
     "output_type": "stream",
     "text": [
      "4\n",
      "20\n",
      "4\n",
      "20\n",
      "5\n",
      "25\n"
     ]
    },
    {
     "ename": "KeyboardInterrupt",
     "evalue": "Interrupted by user",
     "output_type": "error",
     "traceback": [
      "\u001b[1;31m---------------------------------------------------------------------------\u001b[0m",
      "\u001b[1;31mKeyboardInterrupt\u001b[0m                         Traceback (most recent call last)",
      "Cell \u001b[1;32mIn[23], line 2\u001b[0m\n\u001b[0;32m      1\u001b[0m \u001b[38;5;28;01mwhile\u001b[39;00m \u001b[38;5;28;01mTrue\u001b[39;00m:\n\u001b[1;32m----> 2\u001b[0m     num \u001b[38;5;241m=\u001b[39m \u001b[38;5;28mint\u001b[39m(\u001b[38;5;28;43minput\u001b[39;49m\u001b[43m(\u001b[49m\u001b[43m)\u001b[49m)\n\u001b[0;32m      3\u001b[0m     \u001b[38;5;28mprint\u001b[39m(\u001b[38;5;241m5\u001b[39m\u001b[38;5;241m*\u001b[39mnum)\n",
      "File \u001b[1;32m~\\AppData\\Local\\Programs\\Python\\Python311\\Lib\\site-packages\\ipykernel\\kernelbase.py:1182\u001b[0m, in \u001b[0;36mKernel.raw_input\u001b[1;34m(self, prompt)\u001b[0m\n\u001b[0;32m   1180\u001b[0m     msg \u001b[38;5;241m=\u001b[39m \u001b[38;5;124m\"\u001b[39m\u001b[38;5;124mraw_input was called, but this frontend does not support input requests.\u001b[39m\u001b[38;5;124m\"\u001b[39m\n\u001b[0;32m   1181\u001b[0m     \u001b[38;5;28;01mraise\u001b[39;00m StdinNotImplementedError(msg)\n\u001b[1;32m-> 1182\u001b[0m \u001b[38;5;28;01mreturn\u001b[39;00m \u001b[38;5;28;43mself\u001b[39;49m\u001b[38;5;241;43m.\u001b[39;49m\u001b[43m_input_request\u001b[49m\u001b[43m(\u001b[49m\n\u001b[0;32m   1183\u001b[0m \u001b[43m    \u001b[49m\u001b[38;5;28;43mstr\u001b[39;49m\u001b[43m(\u001b[49m\u001b[43mprompt\u001b[49m\u001b[43m)\u001b[49m\u001b[43m,\u001b[49m\n\u001b[0;32m   1184\u001b[0m \u001b[43m    \u001b[49m\u001b[38;5;28;43mself\u001b[39;49m\u001b[38;5;241;43m.\u001b[39;49m\u001b[43m_parent_ident\u001b[49m\u001b[43m[\u001b[49m\u001b[38;5;124;43m\"\u001b[39;49m\u001b[38;5;124;43mshell\u001b[39;49m\u001b[38;5;124;43m\"\u001b[39;49m\u001b[43m]\u001b[49m\u001b[43m,\u001b[49m\n\u001b[0;32m   1185\u001b[0m \u001b[43m    \u001b[49m\u001b[38;5;28;43mself\u001b[39;49m\u001b[38;5;241;43m.\u001b[39;49m\u001b[43mget_parent\u001b[49m\u001b[43m(\u001b[49m\u001b[38;5;124;43m\"\u001b[39;49m\u001b[38;5;124;43mshell\u001b[39;49m\u001b[38;5;124;43m\"\u001b[39;49m\u001b[43m)\u001b[49m\u001b[43m,\u001b[49m\n\u001b[0;32m   1186\u001b[0m \u001b[43m    \u001b[49m\u001b[43mpassword\u001b[49m\u001b[38;5;241;43m=\u001b[39;49m\u001b[38;5;28;43;01mFalse\u001b[39;49;00m\u001b[43m,\u001b[49m\n\u001b[0;32m   1187\u001b[0m \u001b[43m\u001b[49m\u001b[43m)\u001b[49m\n",
      "File \u001b[1;32m~\\AppData\\Local\\Programs\\Python\\Python311\\Lib\\site-packages\\ipykernel\\kernelbase.py:1225\u001b[0m, in \u001b[0;36mKernel._input_request\u001b[1;34m(self, prompt, ident, parent, password)\u001b[0m\n\u001b[0;32m   1222\u001b[0m \u001b[38;5;28;01mexcept\u001b[39;00m \u001b[38;5;167;01mKeyboardInterrupt\u001b[39;00m:\n\u001b[0;32m   1223\u001b[0m     \u001b[38;5;66;03m# re-raise KeyboardInterrupt, to truncate traceback\u001b[39;00m\n\u001b[0;32m   1224\u001b[0m     msg \u001b[38;5;241m=\u001b[39m \u001b[38;5;124m\"\u001b[39m\u001b[38;5;124mInterrupted by user\u001b[39m\u001b[38;5;124m\"\u001b[39m\n\u001b[1;32m-> 1225\u001b[0m     \u001b[38;5;28;01mraise\u001b[39;00m \u001b[38;5;167;01mKeyboardInterrupt\u001b[39;00m(msg) \u001b[38;5;28;01mfrom\u001b[39;00m \u001b[38;5;28mNone\u001b[39m\n\u001b[0;32m   1226\u001b[0m \u001b[38;5;28;01mexcept\u001b[39;00m \u001b[38;5;167;01mException\u001b[39;00m:\n\u001b[0;32m   1227\u001b[0m     \u001b[38;5;28mself\u001b[39m\u001b[38;5;241m.\u001b[39mlog\u001b[38;5;241m.\u001b[39mwarning(\u001b[38;5;124m\"\u001b[39m\u001b[38;5;124mInvalid Message:\u001b[39m\u001b[38;5;124m\"\u001b[39m, exc_info\u001b[38;5;241m=\u001b[39m\u001b[38;5;28;01mTrue\u001b[39;00m)\n",
      "\u001b[1;31mKeyboardInterrupt\u001b[0m: Interrupted by user"
     ]
    }
   ],
   "source": [
    "while True:\n",
    "    num = int(input())\n",
    "    print(5*num)\n",
    "#This will execute infinite times and asks for input infinite times"
   ]
  },
  {
   "cell_type": "code",
   "execution_count": 28,
   "id": "0079cd16",
   "metadata": {},
   "outputs": [
    {
     "name": "stdout",
     "output_type": "stream",
     "text": [
      "(0, 'The')\n",
      "(1, 'brown')\n",
      "(2, 'fox')\n",
      "(3, 'jumped')\n",
      "(4, 'over')\n",
      "(5, 'the')\n",
      "(6, 'lazy')\n",
      "(7, 'dog')\n",
      "(8, '.')\n"
     ]
    }
   ],
   "source": [
    "#ENUMERATE FN IN PYTHON\n",
    "#Enumerate method allows us to number list indices of item as they are coming out of the array\n",
    "#python will automatically put this indices into a tuple\n",
    "\n",
    "for i in enumerate(['The', 'brown', 'fox', 'jumped', 'over', 'the', 'lazy', 'dog','.']):\n",
    "    print(i)\n",
    "#prints the list items with indices"
   ]
  },
  {
   "cell_type": "code",
   "execution_count": 29,
   "id": "2a9f371b",
   "metadata": {},
   "outputs": [
    {
     "name": "stdout",
     "output_type": "stream",
     "text": [
      "0 The\n",
      "1 brown\n",
      "2 fox\n",
      "3 jumped\n",
      "4 over\n",
      "5 the\n",
      "6 lazy\n",
      "7 dog\n",
      "8 .\n"
     ]
    }
   ],
   "source": [
    "for key, value in enumerate(['The', 'brown', 'fox', 'jumped', 'over', 'the', 'lazy', 'dog','.']):\n",
    "    print(key, value)"
   ]
  },
  {
   "cell_type": "code",
   "execution_count": 31,
   "id": "2921d081",
   "metadata": {},
   "outputs": [
    {
     "name": "stdout",
     "output_type": "stream",
     "text": [
      "The brown fox jumped over the lazy dog . "
     ]
    }
   ],
   "source": [
    "for key, value in enumerate(['The', 'brown', 'fox', 'jumped', 'over', 'the', 'lazy', 'dog','.']):\n",
    "    print(value, end = \" \")"
   ]
  },
  {
   "cell_type": "code",
   "execution_count": 33,
   "id": "91827af9",
   "metadata": {},
   "outputs": [
    {
     "name": "stdout",
     "output_type": "stream",
     "text": [
      "0 H\n",
      "1 e\n",
      "2 l\n",
      "3 l\n",
      "4 o\n",
      "5  \n",
      "6 w\n",
      "7 o\n",
      "8 r\n",
      "9 l\n",
      "10 d\n"
     ]
    }
   ],
   "source": [
    "#iterate through letters or words in a string and print letters along with indices\n",
    "\n",
    "company = \"Hello world\"\n",
    "for i, j in enumerate(company):\n",
    "    print(i, j)\n",
    "\n",
    "#i, j acts like key, value"
   ]
  },
  {
   "cell_type": "code",
   "execution_count": 38,
   "id": "bb725793",
   "metadata": {},
   "outputs": [
    {
     "name": "stdout",
     "output_type": "stream",
     "text": [
      "(10, 'H')\n",
      "(11, 'e')\n",
      "(12, 'l')\n",
      "(13, 'l')\n",
      "(14, 'o')\n",
      "(15, ' ')\n",
      "(16, 'w')\n",
      "(17, 'o')\n",
      "(18, 'r')\n",
      "(19, 'l')\n",
      "(20, 'd')\n"
     ]
    }
   ],
   "source": [
    "company = \"Hello world\"\n",
    "for i in enumerate(company, start = 10):\n",
    "    print(i)"
   ]
  },
  {
   "cell_type": "code",
   "execution_count": 41,
   "id": "c8b3e9c1",
   "metadata": {},
   "outputs": [
    {
     "name": "stdout",
     "output_type": "stream",
     "text": [
      "('lionel', 'Messi', 1)\n",
      "('cristano', 'Ronaldo', 2)\n",
      "('mohammad', 'sarah', 3)\n"
     ]
    }
   ],
   "source": [
    "#ZIP FN IN PYTHON\n",
    "#use it to loop through two arrays at once\n",
    "#zip fn returns a zip object which is an iterator of tuples where first item in each past iterator is paired together and\n",
    "#then the second item in each past iterator is paired together and so on\n",
    "\n",
    "#we can also combine elements of 3 lists aswell\n",
    "\n",
    "first = ['lionel', 'cristano', 'mohammad']\n",
    "last = ['Messi', 'Ronaldo', 'sarah']\n",
    "num = [1,2,3,4,5,6,7,8]\n",
    "for i in zip(first, last,num):\n",
    "    print(i)\n"
   ]
  },
  {
   "cell_type": "code",
   "execution_count": 42,
   "id": "529e08f8",
   "metadata": {},
   "outputs": [
    {
     "name": "stdout",
     "output_type": "stream",
     "text": [
      "('lionel', 'Messi')\n",
      "('cristano', 'Ronaldo')\n",
      "('mohammad', 'sarah')\n",
      "('lionel', None)\n",
      "('cristano', None)\n",
      "('mohammad', None)\n"
     ]
    }
   ],
   "source": [
    "#zip_longest\n",
    "#pythons iterator tool or iter tool is a module that provides various fns that work on iterators to produce complex iterators\n",
    "#Iterators in pyhon is an object that can itreate through sequence data types such as list, tuple, string and so on\n",
    "#the zip_longest iterator falls under terminating iterators. It prints the values of the iterables alternatively in sequence \n",
    "#if one of the iterables is printed fully the remaining values are filled with the values assigned in the field value parameter\n",
    "\n",
    "from itertools import zip_longest\n",
    "first = ['lionel', 'cristano', 'mohammad','lionel', 'cristano', 'mohammad']\n",
    "last = ['Messi', 'Ronaldo', 'sarah']\n",
    "for i in zip_longest(first, last):\n",
    "    print(i)\n",
    "    "
   ]
  },
  {
   "cell_type": "code",
   "execution_count": 43,
   "id": "5bcf45e8",
   "metadata": {},
   "outputs": [
    {
     "name": "stdout",
     "output_type": "stream",
     "text": [
      "('lionel', 'Messi')\n",
      "('cristano', 'Ronaldo')\n",
      "('mohammad', 'sarah')\n",
      "('lionel', 'Not Defined')\n",
      "('cristano', 'Not Defined')\n",
      "('mohammad', 'Not Defined')\n"
     ]
    }
   ],
   "source": [
    "# to overcome none, none in above code use a parameter called fillvlaue\n",
    "from itertools import zip_longest\n",
    "first = ['lionel', 'cristano', 'mohammad','lionel', 'cristano', 'mohammad']\n",
    "last = ['Messi', 'Ronaldo', 'sarah']\n",
    "for i in zip_longest(first, last, fillvalue = 'Not Defined'):\n",
    "    print(i)\n",
    "    "
   ]
  },
  {
   "cell_type": "code",
   "execution_count": 4,
   "id": "05b0a9ec",
   "metadata": {},
   "outputs": [
    {
     "data": {
      "text/plain": [
       "['am', 'bmi', 'hi', 'pm']"
      ]
     },
     "execution_count": 4,
     "metadata": {},
     "output_type": "execute_result"
    }
   ],
   "source": [
    "a=['hi','am','pm','bmi']\n",
    "sorted(a)"
   ]
  }
 ],
 "metadata": {
  "kernelspec": {
   "display_name": "Python 3 (ipykernel)",
   "language": "python",
   "name": "python3"
  },
  "language_info": {
   "codemirror_mode": {
    "name": "ipython",
    "version": 3
   },
   "file_extension": ".py",
   "mimetype": "text/x-python",
   "name": "python",
   "nbconvert_exporter": "python",
   "pygments_lexer": "ipython3",
   "version": "3.12.1"
  }
 },
 "nbformat": 4,
 "nbformat_minor": 5
}
