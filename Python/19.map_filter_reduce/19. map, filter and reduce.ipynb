{
 "cells": [
  {
   "cell_type": "code",
   "execution_count": 1,
   "id": "6d7102f0",
   "metadata": {},
   "outputs": [],
   "source": [
    "#map() takes another fn and a sequence of iterables as parameters and returns the output \n",
    "#after executing the function to each item in execution\n",
    "#the function could be add, mutiply or any mathematical operation we want to do\n",
    "#and the iterables are list, array, set etc\n",
    "\n",
    "#SYNTAX\n",
    "  #map(function, iterables)"
   ]
  },
  {
   "cell_type": "code",
   "execution_count": 2,
   "id": "b6ee5eb6",
   "metadata": {},
   "outputs": [],
   "source": [
    "#filter() is used to reduce the size of the iterables based on the condition we pass \n",
    "#syntax is similar to map() but here we need to pass a fn with a condition\n",
    "#eg: if we have 1 t0 10 nums and we want to find the nums > 5, so our filter fn should have a \n",
    "#condition which says the iterables grater than 5 should only be returned by this fn\n",
    "\n",
    "#SYNTAX\n",
    "#filter(function, iterables)"
   ]
  },
  {
   "cell_type": "code",
   "execution_count": 3,
   "id": "9686ca11",
   "metadata": {},
   "outputs": [],
   "source": [
    "#reduce()\n",
    "#the difference b/w map, filter and reduce is that the reduce() will return a single value\n",
    "\n",
    "#SYNTAX\n",
    "#reduce(function, iterables)\n",
    "\n",
    "#NOTE: We need to import function tools module to use reduce()"
   ]
  },
  {
   "cell_type": "code",
   "execution_count": 2,
   "id": "ff229f26",
   "metadata": {},
   "outputs": [
    {
     "name": "stdout",
     "output_type": "stream",
     "text": [
      "<map object at 0x000001DBADE9F1F0>\n",
      "[4, 6, 8, 10]\n"
     ]
    }
   ],
   "source": [
    "def add(a):\n",
    "    return a+a\n",
    "l1 = (2,3,4,5)\n",
    "out = map(add, l1)      #add ********\n",
    "print(out)                #reurns map object\n",
    "\n",
    "#to convert the map object to list \n",
    "add = list(out)\n",
    "print(add)"
   ]
  },
  {
   "cell_type": "code",
   "execution_count": 4,
   "id": "4b9000c0",
   "metadata": {},
   "outputs": [
    {
     "name": "stdout",
     "output_type": "stream",
     "text": [
      "<map object at 0x000001DBADE9F160>\n",
      "[4, 25, 36, 49]\n"
     ]
    }
   ],
   "source": [
    "#using lambda\n",
    "numbers = [2,5,6,7]\n",
    "out = map(lambda a : a*a, numbers)\n",
    "print(out)\n",
    "\n",
    "multi = list(out)\n",
    "print(multi)"
   ]
  },
  {
   "cell_type": "code",
   "execution_count": 13,
   "id": "4587f75f",
   "metadata": {},
   "outputs": [
    {
     "name": "stdout",
     "output_type": "stream",
     "text": [
      "<map object at 0x00000226181AE620>\n",
      "['PEN', 'BOOKS', 'PHONE']\n"
     ]
    }
   ],
   "source": [
    "#using strings\n",
    "map_obj = map(str.upper, [\"pen\", \"books\", \"phone\"])\n",
    "print(map_obj)\n",
    "\n",
    "upper = list(map_obj)\n",
    "print(upper)"
   ]
  },
  {
   "cell_type": "code",
   "execution_count": 16,
   "id": "dfc09f70",
   "metadata": {},
   "outputs": [
    {
     "name": "stdout",
     "output_type": "stream",
     "text": [
      "<map object at 0x00000226181ADFC0>\n",
      "[3, 4, 5]\n"
     ]
    }
   ],
   "source": [
    "map_obj = map(lambda x : len(x), ['pen', 'book', 'phone'])\n",
    "print(map_obj)\n",
    "\n",
    "length = list(map_obj)\n",
    "print(length)"
   ]
  },
  {
   "cell_type": "code",
   "execution_count": 17,
   "id": "fc8a0c8e",
   "metadata": {},
   "outputs": [
    {
     "name": "stdout",
     "output_type": "stream",
     "text": [
      "[6, 8, 9]\n"
     ]
    }
   ],
   "source": [
    "#FILTER ()\n",
    "def fil(a):\n",
    "    if a>5:\n",
    "        return a\n",
    "filt = filter(fil, [1,3,5,6,8,9])\n",
    "print(list(filt))"
   ]
  },
  {
   "cell_type": "code",
   "execution_count": 20,
   "id": "769614ba",
   "metadata": {},
   "outputs": [
    {
     "name": "stdout",
     "output_type": "stream",
     "text": [
      "[6, 8, 9]\n"
     ]
    }
   ],
   "source": [
    "#using lambda fn\n",
    "\n",
    "fl = filter(lambda a:a>5, [1,3,5,6,8,9])\n",
    "print(list(fl))"
   ]
  },
  {
   "cell_type": "code",
   "execution_count": 6,
   "id": "f1ba060f",
   "metadata": {},
   "outputs": [
    {
     "name": "stdout",
     "output_type": "stream",
     "text": [
      "['peas', 'ginger', 'beetroot']\n"
     ]
    }
   ],
   "source": [
    "def veggies_with_e(s):\n",
    "    return 'e' in s\n",
    "s = [\"peas\", 'garlic', \"ginger\", \"beetroot\", \"carrot\"]\n",
    "\n",
    "vf = filter(veggies_with_e, s)\n",
    "print(list(vf))"
   ]
  },
  {
   "cell_type": "code",
   "execution_count": 7,
   "id": "0ab8217b",
   "metadata": {},
   "outputs": [
    {
     "name": "stdout",
     "output_type": "stream",
     "text": [
      "['garlic', 'ginger', 'beetroot', 'carrot']\n"
     ]
    }
   ],
   "source": [
    "#using lambda\n",
    "\n",
    "ve = filter(lambda x : 'r' in x, s)\n",
    "print(list(ve))"
   ]
  },
  {
   "cell_type": "code",
   "execution_count": 4,
   "id": "30581d7c",
   "metadata": {},
   "outputs": [
    {
     "name": "stdout",
     "output_type": "stream",
     "text": [
      "20\n"
     ]
    }
   ],
   "source": [
    "#REDUCE\n",
    "from functools import reduce      # functools****\n",
    "\n",
    "add_all = reduce(lambda a,b: a+b, [2,3,4,5,6])  #reduce fn adds all values and returns one value\n",
    "print(add_all)                               ##its a single result so we dont need to convert to list"
   ]
  },
  {
   "cell_type": "code",
   "execution_count": 30,
   "id": "a453fd77",
   "metadata": {},
   "outputs": [
    {
     "data": {
      "text/plain": [
       "120"
      ]
     },
     "execution_count": 30,
     "metadata": {},
     "output_type": "execute_result"
    }
   ],
   "source": [
    "reduce(lambda x, y: x*y, (2,3,4,5))"
   ]
  },
  {
   "cell_type": "code",
   "execution_count": 3,
   "id": "65c0670b",
   "metadata": {},
   "outputs": [
    {
     "name": "stdout",
     "output_type": "stream",
     "text": [
      "20\n"
     ]
    }
   ],
   "source": [
    "def custom_sums(a, b):\n",
    "    return a+b\n",
    "ls = [2,4,6,8]\n",
    "\n",
    "sum_ = reduce(custom_sums, ls)\n",
    "print(sum_)                              "
   ]
  },
  {
   "cell_type": "markdown",
   "id": "764edb1b",
   "metadata": {},
   "source": [
    "## List comprehesion"
   ]
  },
  {
   "cell_type": "code",
   "execution_count": 1,
   "id": "ec29eb46",
   "metadata": {},
   "outputs": [
    {
     "ename": "SyntaxError",
     "evalue": "invalid syntax (2765321664.py, line 2)",
     "output_type": "error",
     "traceback": [
      "\u001b[1;36m  Cell \u001b[1;32mIn[1], line 2\u001b[1;36m\u001b[0m\n\u001b[1;33m    [for i in lst1 if i%2==0 i*i]   #This is faster than regular for loop\u001b[0m\n\u001b[1;37m     ^\u001b[0m\n\u001b[1;31mSyntaxError\u001b[0m\u001b[1;31m:\u001b[0m invalid syntax\n"
     ]
    }
   ],
   "source": [
    "lst1 = [2,3,4,5,6,7,8,9]\n",
    "[i*i for i in lst1 if i%2==0 ]   #This is faster than regular for loop, fist expression then condition"
   ]
  }
 ],
 "metadata": {
  "kernelspec": {
   "display_name": "Python 3 (ipykernel)",
   "language": "python",
   "name": "python3"
  },
  "language_info": {
   "codemirror_mode": {
    "name": "ipython",
    "version": 3
   },
   "file_extension": ".py",
   "mimetype": "text/x-python",
   "name": "python",
   "nbconvert_exporter": "python",
   "pygments_lexer": "ipython3",
   "version": "3.12.1"
  }
 },
 "nbformat": 4,
 "nbformat_minor": 5
}
