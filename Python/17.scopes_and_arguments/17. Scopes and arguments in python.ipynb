{
 "cells": [
  {
   "cell_type": "code",
   "execution_count": 1,
   "id": "a06b5d6a",
   "metadata": {},
   "outputs": [],
   "source": [
    "#SCOPE \n",
    "# Scope is the region of a program in which u can access variables, functions and objects   ****fns and objects aswell\n",
    "# A variable declared inside a fn belongs to the local scope of that fn and can only be used inside that fn.\n",
    "\n",
    "# Whenever we use a variable or fn name, python will search through different scope \n",
    "#levels to determine wheather the name exists or not.\n",
    "\n",
    "#Python resolves names using LEGB(Local enclosed global and built-in scope) rule\n",
    "#LOCAL SCOPE\n",
    "#The variables which are defined inside the fn have local scope\n",
    "\n",
    "#ENCLOSING SCOPE\n",
    "#This scope only exists for nested fns. If local scope is inner or nested fn\n",
    "#then the enclosing scope is the scope of the outer enclosing fn\n",
    "\n",
    "#GLOBAL SCOPE \n",
    "#The variable which can be accessed anywhere in the program is called the global scope variable. \n",
    "#Such variables can be read inside or outside the fn.\n",
    "#The global scope is often implemented when we want to use same variable in the rest of the program\n",
    "\n",
    "#BUILT-IN SCOPE\n",
    "# If a variable is not defined in local enclosed or global scope then python looks for it in the built-in scope\n",
    "#This scope contains names such as keywords, fns, exceptions and other attributes that are built into python.\n",
    "\n",
    "#IF U DEFINE SAME VARIABLE INSIDE AND OUTSIDE OF A FN, PYTHON WILL TREAT THEM AS TWO SEPERATE VARIABLES"
   ]
  },
  {
   "cell_type": "code",
   "execution_count": 3,
   "id": "311c04bb",
   "metadata": {},
   "outputs": [
    {
     "name": "stdout",
     "output_type": "stream",
     "text": [
      "Hello there!\n"
     ]
    },
    {
     "ename": "NameError",
     "evalue": "name 'a' is not defined",
     "output_type": "error",
     "traceback": [
      "\u001b[1;31m---------------------------------------------------------------------------\u001b[0m",
      "\u001b[1;31mNameError\u001b[0m                                 Traceback (most recent call last)",
      "Cell \u001b[1;32mIn[3], line 7\u001b[0m\n\u001b[0;32m      5\u001b[0m     \u001b[38;5;28mprint\u001b[39m(a)\n\u001b[0;32m      6\u001b[0m fun()\n\u001b[1;32m----> 7\u001b[0m \u001b[38;5;28mprint\u001b[39m(\u001b[43ma\u001b[49m)\n",
      "\u001b[1;31mNameError\u001b[0m: name 'a' is not defined"
     ]
    }
   ],
   "source": [
    "#Local scope\n",
    "\n",
    "def fun():\n",
    "    a = \"Hello there!\"\n",
    "    print(a)\n",
    "fun()\n",
    "print(a)  #trying to access the local variable "
   ]
  },
  {
   "cell_type": "code",
   "execution_count": 18,
   "id": "22fcb634",
   "metadata": {},
   "outputs": [
    {
     "name": "stdout",
     "output_type": "stream",
     "text": [
      "hello\n"
     ]
    }
   ],
   "source": [
    "#Enclosed scope                       #***\n",
    "#function inside another fn\n",
    "\n",
    "\n",
    "def func():\n",
    "    s2 = \"hello\"\n",
    "    def infunc():\n",
    "        print(s2)      #It first checks if there is any s2 variable in local scope, as there in no s2 in local scope of infunc, \n",
    "                       #then it checks if there is any s2 variable in local scope of any enclosing fn. our enclosing fn here is \n",
    "                       #the func so it prints s2 from outer fn \n",
    "    infunc()           #*** infunc is a local fn of func()\n",
    "func()"
   ]
  },
  {
   "cell_type": "code",
   "execution_count": 19,
   "id": "66a01400",
   "metadata": {},
   "outputs": [
    {
     "name": "stdout",
     "output_type": "stream",
     "text": [
      "This is an outer variable\n",
      "This is a global scope message\n"
     ]
    }
   ],
   "source": [
    "#for an enclosed scope u need to define the outer fn that enclosing the inner fn like we did above\n",
    "#we can also comment out the local variable of the inner fn and refer to the variable using the non local keyword\n",
    "\n",
    "msg = 'This is a global scope message'\n",
    "def outr():\n",
    "    msg = 'This is an outer variable'\n",
    "    def inner():\n",
    "#         msg = 'inner message variable'\n",
    "        nonlocal msg                               #***\n",
    "        print(msg)      #prints the outr msg\n",
    "    inner()\n",
    "outr()\n",
    "print(msg)"
   ]
  },
  {
   "cell_type": "code",
   "execution_count": 10,
   "id": "3d1c58c0",
   "metadata": {},
   "outputs": [
    {
     "name": "stdout",
     "output_type": "stream",
     "text": [
      "watsup\n",
      "watsup\n"
     ]
    }
   ],
   "source": [
    "#global scope\n",
    "\n",
    "s3 = 'watsup'\n",
    "def func1():\n",
    "    print(s3)\n",
    "func1()\n",
    "print(s3)"
   ]
  },
  {
   "cell_type": "code",
   "execution_count": 11,
   "id": "3bd8659e",
   "metadata": {},
   "outputs": [
    {
     "name": "stdout",
     "output_type": "stream",
     "text": [
      "there\n",
      "hello\n"
     ]
    }
   ],
   "source": [
    "msg1 = 'hello'\n",
    "def func2():\n",
    "    msg1 = 'there'\n",
    "    print(msg1)\n",
    "func2()\n",
    "print(msg1)"
   ]
  },
  {
   "cell_type": "code",
   "execution_count": 11,
   "id": "89d9867b",
   "metadata": {},
   "outputs": [
    {
     "name": "stdout",
     "output_type": "stream",
     "text": [
      "hello there\n"
     ]
    }
   ],
   "source": [
    "#we can also use globsl keyword inside a fn to convert local scope into global scope\n",
    "def func3():\n",
    "    global s \n",
    "    s = 'hello there'\n",
    "func3()\n",
    "print(s)"
   ]
  },
  {
   "cell_type": "code",
   "execution_count": 22,
   "id": "268a2b50",
   "metadata": {},
   "outputs": [
    {
     "name": "stdout",
     "output_type": "stream",
     "text": [
      "france\n"
     ]
    }
   ],
   "source": [
    "a1 = 'India'\n",
    "def country():\n",
    "    global s\n",
    "    s = 'france'\n",
    "country()\n",
    "print(s)"
   ]
  },
  {
   "cell_type": "code",
   "execution_count": 17,
   "id": "c9f39b74",
   "metadata": {},
   "outputs": [
    {
     "name": "stdout",
     "output_type": "stream",
     "text": [
      "3.141592653589793\n"
     ]
    }
   ],
   "source": [
    "#Built-in scope\n",
    "\n",
    "from math import pi\n",
    "\n",
    "# pi = 'This is a global pi variable'\n",
    "def outer():\n",
    "#     pi = 'outer variable pi'\n",
    "    def inner():\n",
    "#         pi = 'Inner pi variable'\n",
    "        print(pi)\n",
    "    inner()\n",
    "outer()\n",
    "\n",
    "#here the pi is not defined in local or enclosed or global scope\n",
    "#so the built-in scope is looked up for pi value imported from math module"
   ]
  },
  {
   "cell_type": "code",
   "execution_count": null,
   "id": "aa6e7b78",
   "metadata": {},
   "outputs": [],
   "source": []
  }
 ],
 "metadata": {
  "kernelspec": {
   "display_name": "Python 3 (ipykernel)",
   "language": "python",
   "name": "python3"
  },
  "language_info": {
   "codemirror_mode": {
    "name": "ipython",
    "version": 3
   },
   "file_extension": ".py",
   "mimetype": "text/x-python",
   "name": "python",
   "nbconvert_exporter": "python",
   "pygments_lexer": "ipython3",
   "version": "3.11.2"
  }
 },
 "nbformat": 4,
 "nbformat_minor": 5
}
