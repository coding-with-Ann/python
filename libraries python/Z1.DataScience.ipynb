{
 "cells": [
  {
   "cell_type": "code",
   "execution_count": 1,
   "metadata": {},
   "outputs": [
    {
     "name": "stdout",
     "output_type": "stream",
     "text": [
      "2\n",
      "hihihihihi\n",
      "100\n",
      "hello there, welcome back to python programming\n",
      "<class 'int'>\n",
      "<class 'bool'>\n",
      "2\n",
      "False\n",
      "False\n",
      "False\n",
      "True\n",
      "False\n",
      "False\n",
      "False\n",
      "False\n",
      "True\n"
     ]
    }
   ],
   "source": [
    "print(1+1)\n",
    "print(5*'hi')\n",
    "print(10**2)\n",
    "\n",
    "str1='there'\n",
    "str2='to python programming'\n",
    "print('hello {}, welcome back {}'.format(str1, str2))\n",
    "\n",
    "a= 50\n",
    "print(type(a))\n",
    "print(type(True))\n",
    "\n",
    "b='50'\n",
    "print(len(b))\n",
    "\n",
    "\n",
    "\n",
    "mystr = 'Hello There1' #false since space is there\n",
    "print(mystr.isalnum())  #true if str contains nums and chars\n",
    "print(mystr.isalpha())  #true if alphabets \n",
    "print(mystr.isdigit())\n",
    "print(mystr.istitle())\n",
    "print(mystr.isupper())\n",
    "print(mystr.islower())\n",
    "print(mystr.isspace())\n",
    "print(mystr.endswith('d'))\n",
    "print(mystr.startswith('H'))"
   ]
  }
 ],
 "metadata": {
  "kernelspec": {
   "display_name": "Python 3",
   "language": "python",
   "name": "python3"
  },
  "language_info": {
   "codemirror_mode": {
    "name": "ipython",
    "version": 3
   },
   "file_extension": ".py",
   "mimetype": "text/x-python",
   "name": "python",
   "nbconvert_exporter": "python",
   "pygments_lexer": "ipython3",
   "version": "3.12.1"
  }
 },
 "nbformat": 4,
 "nbformat_minor": 2
}
