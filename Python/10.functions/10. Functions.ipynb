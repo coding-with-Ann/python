{
 "cells": [
  {
   "cell_type": "code",
   "execution_count": null,
   "id": "52ebc266",
   "metadata": {},
   "outputs": [],
   "source": [
    "#BUILT IN FNS -PRINT(), POW(), ABS(), ROUND(), LEN(), RANGE(), NEXT(), MAX(), SLICE(), SORTED()\n",
    "#USER DEFINED FNS -\n",
    "# def my_function(parameters):\n",
    "#     function_block\n",
    "# return expression\n",
    "\n",
    "#uses: avoid rewriting, reusability, we can call fns multiple times"
   ]
  },
  {
   "cell_type": "code",
   "execution_count": 1,
   "id": "188e7037",
   "metadata": {},
   "outputs": [
    {
     "name": "stdout",
     "output_type": "stream",
     "text": [
      "10.75\n",
      "10.5\n"
     ]
    }
   ],
   "source": [
    "#BUILT IN FNS\n",
    "a = abs(10.75)\n",
    "print(a)\n",
    "\n",
    "b = abs(-10.5)\n",
    "print(b)          #abs() returns absolute value of a number which is always positive"
   ]
  },
  {
   "cell_type": "code",
   "execution_count": null,
   "id": "cd38f4b5",
   "metadata": {},
   "outputs": [],
   "source": [
    "#len()\n",
    "list1 = [1,2,3,4,5]\n",
    "print(len(list1))"
   ]
  },
  {
   "cell_type": "code",
   "execution_count": 1,
   "id": "5182bb5b",
   "metadata": {},
   "outputs": [
    {
     "data": {
      "text/plain": [
       "False"
      ]
     },
     "execution_count": 1,
     "metadata": {},
     "output_type": "execute_result"
    }
   ],
   "source": [
    "#all\n",
    "#The all fn returns true if all items in an iterable object is true\n",
    "my_list = [0,1,0]\n",
    "x = all(my_list)\n",
    "x"
   ]
  },
  {
   "cell_type": "code",
   "execution_count": 2,
   "id": "bbce267a",
   "metadata": {},
   "outputs": [
    {
     "name": "stdout",
     "output_type": "stream",
     "text": [
      "125\n",
      "21\n"
     ]
    }
   ],
   "source": [
    "#sum\n",
    "#used to get sum of nums of an iterable\n",
    "s = sum([20,35,70])\n",
    "s1 = sum((7,5,9))\n",
    "print(s)\n",
    "print(s1)"
   ]
  },
  {
   "cell_type": "code",
   "execution_count": null,
   "id": "29d5d8f0",
   "metadata": {},
   "outputs": [],
   "source": [
    "#max() and min()\n",
    "m1 = max(7,14,4,56,54,6)\n",
    "m2 = max({7,90,3,55,23,645,5})\n",
    "print(m1)\n",
    "print(m2)\n",
    "\n",
    "m3 = min([7,14,4,56,54,6])\n",
    "m4 = min({7,90,3,55,23,645,5})\n",
    "print(m3)\n",
    "print(m4)"
   ]
  },
  {
   "cell_type": "code",
   "execution_count": 3,
   "id": "bface3aa",
   "metadata": {},
   "outputs": [
    {
     "name": "stdout",
     "output_type": "stream",
     "text": [
      "I\n",
      "N\n",
      "D\n"
     ]
    }
   ],
   "source": [
    "#iter()\n",
    "#Python iter() returns an iterator for the given object \n",
    "#The iter fn creates an object which can iterate one element at a time\n",
    "\n",
    "#and the next() returns next item in an iterator\n",
    "\n",
    "mylist = iter(['I', 'N', 'D', 'I', 'A'])\n",
    "x = next(mylist)\n",
    "print(x)\n",
    "\n",
    "x = next(mylist)\n",
    "print(x)\n",
    "\n",
    "x = next(mylist)\n",
    "print(x)\n"
   ]
  },
  {
   "cell_type": "code",
   "execution_count": null,
   "id": "5a2c10de",
   "metadata": {},
   "outputs": [],
   "source": [
    "#pow()\n",
    "x1 = pow(3,3)\n",
    "x2 = pow(2,4)\n",
    "print(x1,x2)"
   ]
  },
  {
   "cell_type": "code",
   "execution_count": 4,
   "id": "5dd5f3dd",
   "metadata": {},
   "outputs": [
    {
     "name": "stdout",
     "output_type": "stream",
     "text": [
      "0\n",
      "1\n",
      "2\n",
      "3\n",
      "4\n",
      "5\n"
     ]
    }
   ],
   "source": [
    "#range()\n",
    "\n",
    "x = range(6)\n",
    "for n in x:\n",
    "    print(n)"
   ]
  },
  {
   "cell_type": "code",
   "execution_count": null,
   "id": "34766c87",
   "metadata": {},
   "outputs": [],
   "source": [
    "x = range(40,50,2)\n",
    "for n in x:\n",
    "    print(n)"
   ]
  },
  {
   "cell_type": "code",
   "execution_count": null,
   "id": "419d8739",
   "metadata": {},
   "outputs": [],
   "source": [
    "#round()\n",
    "#Round fn rounds a number to the given no of digits\n",
    "\n",
    "x = round(8.62475, 2)\n",
    "x\n"
   ]
  },
  {
   "cell_type": "code",
   "execution_count": null,
   "id": "c3f539d8",
   "metadata": {},
   "outputs": [],
   "source": [
    "#sorted()\n",
    "#sorted fn returns a sorted list of specified iterable object\n",
    "\n",
    "a = ['I', 'N', 'D', 'I', 'A']\n",
    "x = sorted(a)\n",
    "print(x)\n"
   ]
  },
  {
   "cell_type": "code",
   "execution_count": null,
   "id": "cdb05684",
   "metadata": {},
   "outputs": [],
   "source": [
    "a = ['I', 'N', 'D', 'I', 'A']\n",
    "x = sorted(a, reverse = True)\n",
    "print(x)"
   ]
  },
  {
   "cell_type": "code",
   "execution_count": 2,
   "id": "d8cceadd",
   "metadata": {},
   "outputs": [
    {
     "data": {
      "text/plain": [
       "('H', 'e', 'l', 'l', 'o')"
      ]
     },
     "execution_count": 2,
     "metadata": {},
     "output_type": "execute_result"
    }
   ],
   "source": [
    "#slice()\n",
    "#slice fn returns a portion of an iterable as an object of the slice class based on the specified range\n",
    "\n",
    "a = (\"H\",\"e\",\"l\",\"l\",\"o\",'w','o',\"r\",\"l\",\"d\")\n",
    "x = slice(5)\n",
    "a[x]"
   ]
  },
  {
   "cell_type": "code",
   "execution_count": null,
   "id": "b1664f02",
   "metadata": {},
   "outputs": [],
   "source": [
    "#USER DEFINED FNS\n",
    "\n",
    "def func1():\n",
    "    print('hello world')\n",
    "    \n",
    "func1()"
   ]
  },
  {
   "cell_type": "code",
   "execution_count": 5,
   "id": "82b2da27",
   "metadata": {},
   "outputs": [
    {
     "name": "stdout",
     "output_type": "stream",
     "text": [
      "enter your country name: aa\n",
      "hello aa\n"
     ]
    }
   ],
   "source": [
    "def hlo():\n",
    "    name = (input(\"enter your country name: \"))\n",
    "    print(\"hello \"+ name)\n",
    "hlo()"
   ]
  },
  {
   "cell_type": "code",
   "execution_count": 6,
   "id": "2d1551e8",
   "metadata": {},
   "outputs": [
    {
     "data": {
      "text/plain": [
       "176.784"
      ]
     },
     "execution_count": 6,
     "metadata": {},
     "output_type": "execute_result"
    }
   ],
   "source": [
    "#fns with parameters\n",
    "\n",
    "def ft_to_cm(ft):\n",
    "    cm = ft *30.48\n",
    "    return cm\n",
    "\n",
    "ft_to_cm(5.8)"
   ]
  },
  {
   "cell_type": "code",
   "execution_count": null,
   "id": "1cbd8a40",
   "metadata": {},
   "outputs": [],
   "source": [
    "def add(x,y):\n",
    "    sum = x+y\n",
    "    return sum\n",
    "print(add(50,40))"
   ]
  },
  {
   "cell_type": "code",
   "execution_count": null,
   "id": "ef5954dc",
   "metadata": {},
   "outputs": [],
   "source": [
    "#abs of num\n",
    "def absolute(x):\n",
    "    if x >=0:\n",
    "        return x\n",
    "    else:\n",
    "        return -x\n",
    "    \n",
    "print(absolute(-50))"
   ]
  },
  {
   "cell_type": "code",
   "execution_count": null,
   "id": "e908a816",
   "metadata": {},
   "outputs": [],
   "source": [
    "#factorial of a num\n",
    "def factorial(x):\n",
    "    if x ==0:\n",
    "        return 1\n",
    "    else:\n",
    "        return x* factorial(x-1)\n",
    "\n",
    "factorial(5)"
   ]
  },
  {
   "cell_type": "code",
   "execution_count": 9,
   "id": "b981c572",
   "metadata": {},
   "outputs": [
    {
     "name": "stdout",
     "output_type": "stream",
     "text": [
      "hello mark\n"
     ]
    }
   ],
   "source": [
    "#default arg\n",
    "def welcome(name = \"paul\"):\n",
    "    print(\"hello\", name)\n",
    "    \n",
    "welcome()"
   ]
  },
  {
   "cell_type": "code",
   "execution_count": 10,
   "id": "aae17d59",
   "metadata": {},
   "outputs": [
    {
     "name": "stdout",
     "output_type": "stream",
     "text": [
      "hello sam\n"
     ]
    }
   ],
   "source": [
    "def welcome(name = \"paul\"):\n",
    "    print(\"hello\", name)\n",
    "    \n",
    "welcome(\"sam\")"
   ]
  },
  {
   "cell_type": "code",
   "execution_count": null,
   "id": "ac63d457",
   "metadata": {},
   "outputs": [],
   "source": [
    "#multiple paramets\n",
    "def msg(name1, name2, name3):\n",
    "    print('Hello ', name1, ', please tell ',name2, ' that', name3, 'is waiting!')\n",
    "    \n",
    "msg(\"ben\", \"gwen\", \"kevin\")"
   ]
  },
  {
   "cell_type": "code",
   "execution_count": 13,
   "id": "b8038879",
   "metadata": {},
   "outputs": [
    {
     "name": "stdout",
     "output_type": "stream",
     "text": [
      "7\n"
     ]
    }
   ],
   "source": [
    "#SCOPE OF VARIABLES IN A FN\n",
    "#SCOPE COULD BE LOCAL OR GLOBAL\n",
    "\n",
    "def func3():\n",
    "    z = 7\n",
    "    print(z)\n",
    "    \n",
    "func3()"
   ]
  },
  {
   "cell_type": "code",
   "execution_count": null,
   "id": "d89f95a3",
   "metadata": {},
   "outputs": [],
   "source": [
    "print(z)\n",
    "#throws an error because the variable z is defined locally inside the func3()\n",
    "#we cant access z f]outside that fn\n",
    "#To overcome this issue func4()"
   ]
  },
  {
   "cell_type": "code",
   "execution_count": 14,
   "id": "f63b3462",
   "metadata": {},
   "outputs": [
    {
     "name": "stdout",
     "output_type": "stream",
     "text": [
      "7\n"
     ]
    }
   ],
   "source": [
    "z = 7       # z is a global variable\n",
    "def func4():\n",
    "    print(z)\n",
    "    \n",
    "func4()"
   ]
  },
  {
   "cell_type": "code",
   "execution_count": 17,
   "id": "ca7b99ed",
   "metadata": {},
   "outputs": [
    {
     "ename": "UnboundLocalError",
     "evalue": "cannot access local variable 'z' where it is not associated with a value",
     "output_type": "error",
     "traceback": [
      "\u001b[1;31m---------------------------------------------------------------------------\u001b[0m",
      "\u001b[1;31mUnboundLocalError\u001b[0m                         Traceback (most recent call last)",
      "Cell \u001b[1;32mIn[17], line 5\u001b[0m\n\u001b[0;32m      3\u001b[0m     z \u001b[38;5;241m=\u001b[39m z\u001b[38;5;241m+\u001b[39m\u001b[38;5;241m1\u001b[39m    \u001b[38;5;66;03m#we cant change the value inside a local scope\u001b[39;00m\n\u001b[0;32m      4\u001b[0m     \u001b[38;5;28mprint\u001b[39m(z)\n\u001b[1;32m----> 5\u001b[0m \u001b[43mfunc5\u001b[49m\u001b[43m(\u001b[49m\u001b[43m)\u001b[49m\n",
      "Cell \u001b[1;32mIn[17], line 3\u001b[0m, in \u001b[0;36mfunc5\u001b[1;34m()\u001b[0m\n\u001b[0;32m      2\u001b[0m \u001b[38;5;28;01mdef\u001b[39;00m \u001b[38;5;21mfunc5\u001b[39m():\n\u001b[1;32m----> 3\u001b[0m     z \u001b[38;5;241m=\u001b[39m \u001b[43mz\u001b[49m\u001b[38;5;241m+\u001b[39m\u001b[38;5;241m1\u001b[39m    \u001b[38;5;66;03m#we cant change the value inside a local scope\u001b[39;00m\n\u001b[0;32m      4\u001b[0m     \u001b[38;5;28mprint\u001b[39m(z)\n",
      "\u001b[1;31mUnboundLocalError\u001b[0m: cannot access local variable 'z' where it is not associated with a value"
     ]
    }
   ],
   "source": [
    "z =7\n",
    "def func5():\n",
    "    z = z+1    #we cant change the value inside a local scope\n",
    "    print(z)\n",
    "func5()"
   ]
  },
  {
   "cell_type": "code",
   "execution_count": null,
   "id": "65893694",
   "metadata": {},
   "outputs": [],
   "source": [
    "z = 7      \n",
    "def func6():\n",
    "    global z  #***\n",
    "    z = z+1\n",
    "    print(z)\n",
    "    \n",
    "func6()"
   ]
  },
  {
   "cell_type": "code",
   "execution_count": null,
   "id": "4b8daab4",
   "metadata": {},
   "outputs": [],
   "source": [
    "#If we dont know the no of argumets we need then we can use astrix\n",
    "\n",
    "def welcome(*names):   #***\n",
    "    print('Hello', names[0], ',', names[1], ',', names[2])  #access with index\n",
    "welcome('steve', 'bill', 'peter')"
   ]
  },
  {
   "cell_type": "code",
   "execution_count": null,
   "id": "b4e35a01",
   "metadata": {},
   "outputs": [],
   "source": [
    "#Area of circle and sphere\n",
    "pi = 3.14\n",
    "def circleArea(r):\n",
    "    return pi*r**2\n",
    "def sphereArea(r):\n",
    "    return 4*pi*r**2\n",
    "\n",
    "def main():\n",
    "    print(circleArea(15))\n",
    "    print(sphereArea(10))\n",
    "main()\n",
    "    "
   ]
  },
  {
   "cell_type": "code",
   "execution_count": 1,
   "id": "786b10e1",
   "metadata": {},
   "outputs": [
    {
     "name": "stdout",
     "output_type": "stream",
     "text": [
      "(0, 12)\n",
      "(1, 56)\n",
      "(2, 32)\n",
      "(3, 98)\n",
      "(4, 12)\n",
      "(5, 45)\n",
      "(6, 1)\n",
      "(7, 4)\n"
     ]
    }
   ],
   "source": [
    "marks = [12, 56, 32, 98, 12, 45, 1, 4]\n",
    "\n",
    "for i in enumerate(marks):\n",
    "    print(i)\n",
    "\n",
    "# enumerate() returns the index and value of each element of a sequence"
   ]
  },
  {
   "cell_type": "code",
   "execution_count": 2,
   "id": "055656ea",
   "metadata": {},
   "outputs": [
    {
     "name": "stdout",
     "output_type": "stream",
     "text": [
      "12\n",
      "56\n",
      "32\n",
      "98\n",
      "awesome\n",
      "12\n",
      "45\n",
      "1\n",
      "4\n"
     ]
    }
   ],
   "source": [
    "#Enumerate() fn in python reaturns both index and value of an element in the list. The index and value are basically a touple\n",
    "# Enumerate fn returns a tuple containing the index and value of each\n",
    "#  element in the sequence. We can use the for loop to unpack these\n",
    "#  tuples and assign them to variables\n",
    "\n",
    "marks = [12, 56, 32, 98, 12, 45, 1, 4]\n",
    "\n",
    "for index, mark in enumerate(marks):\n",
    "    print(mark)\n",
    "    if(index == 3):\n",
    "        print('awesome')"
   ]
  },
  {
   "cell_type": "code",
   "execution_count": 8,
   "id": "30ae1d3f",
   "metadata": {},
   "outputs": [
    {
     "name": "stdout",
     "output_type": "stream",
     "text": [
      "12\n",
      "56\n",
      "32\n",
      "awesome\n",
      "98\n",
      "12\n",
      "45\n",
      "1\n",
      "4\n"
     ]
    }
   ],
   "source": [
    "# While using enumerate We can also change the starting index of \n",
    "# sequence by using start parameter\n",
    "\n",
    "marks = [12, 56, 32, 98, 12, 45, 1, 4]\n",
    "\n",
    "for index, mark in enumerate(marks, start = 1):\n",
    "    print(mark)\n",
    "    if(index == 3):\n",
    "        print('awesome')"
   ]
  }
 ],
 "metadata": {
  "kernelspec": {
   "display_name": "Python 3 (ipykernel)",
   "language": "python",
   "name": "python3"
  },
  "language_info": {
   "codemirror_mode": {
    "name": "ipython",
    "version": 3
   },
   "file_extension": ".py",
   "mimetype": "text/x-python",
   "name": "python",
   "nbconvert_exporter": "python",
   "pygments_lexer": "ipython3",
   "version": "3.12.3"
  }
 },
 "nbformat": 4,
 "nbformat_minor": 5
}
