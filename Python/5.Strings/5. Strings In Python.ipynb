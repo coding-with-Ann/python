{
 "cells": [
  {
   "cell_type": "code",
   "execution_count": 1,
   "id": "6ba18a8a",
   "metadata": {},
   "outputs": [],
   "source": [
    "#A STRING(str datatype) IN PYTHON IS AN OBJECT THAT REPRESENTS A SEQUENCE OF CHARACTERS\n",
    "#we can create sting using '' or \"\"\n",
    "#''' are used for multiline strings or doc strings ****"
   ]
  },
  {
   "cell_type": "code",
   "execution_count": 4,
   "id": "79fba512",
   "metadata": {},
   "outputs": [
    {
     "name": "stdout",
     "output_type": "stream",
     "text": [
      "Hi sam\n",
      "<class 'str'>\n"
     ]
    }
   ],
   "source": [
    "str1 = 'Hi sam'\n",
    "print(str1)\n",
    "print(type(str1))"
   ]
  },
  {
   "cell_type": "code",
   "execution_count": 11,
   "id": "ed402ba8",
   "metadata": {},
   "outputs": [
    {
     "name": "stdout",
     "output_type": "stream",
     "text": [
      "Hi everyone\n",
      "today we will learn\n",
      "strings in python\n"
     ]
    }
   ],
   "source": [
    "str2 = '''Hi everyone\n",
    "today we will learn\n",
    "strings in python'''\n",
    "print(str2)"
   ]
  },
  {
   "cell_type": "code",
   "execution_count": 1,
   "id": "9ac6ec0b",
   "metadata": {},
   "outputs": [
    {
     "name": "stdout",
     "output_type": "stream",
     "text": [
      "H\n",
      "Hello people\n",
      "ello pe\n",
      "\n",
      "Hello peopl\n",
      "elpoep olleH\n",
      "epe le\n"
     ]
    }
   ],
   "source": [
    "#Indexing\n",
    "str1 = \"Hello people\"\n",
    "print(str1[0])\n",
    "print(str1[:])\n",
    "print(str1[1:8])\n",
    "print()\n",
    "print(str1[:-1])\n",
    "print(str1[::-1]) #reverses the string\n",
    "print(str1[::-2])   #****** reverses the string and prints the reserved string with step size 2\n",
    "print(str1[::2]) #step size two"
   ]
  },
  {
   "cell_type": "code",
   "execution_count": 7,
   "id": "14e34ac6",
   "metadata": {
    "scrolled": true
   },
   "outputs": [
    {
     "name": "stdout",
     "output_type": "stream",
     "text": [
      "le\n"
     ]
    }
   ],
   "source": [
    "print(str1[-2:]) # prints last two element"
   ]
  },
  {
   "cell_type": "code",
   "execution_count": 30,
   "id": "0e0c0e32",
   "metadata": {},
   "outputs": [
    {
     "ename": "TypeError",
     "evalue": "'str' object does not support item assignment",
     "output_type": "error",
     "traceback": [
      "\u001b[1;31m---------------------------------------------------------------------------\u001b[0m",
      "\u001b[1;31mTypeError\u001b[0m                                 Traceback (most recent call last)",
      "Cell \u001b[1;32mIn[30], line 5\u001b[0m\n\u001b[0;32m      1\u001b[0m \u001b[38;5;66;03m#REASSINGN STRINGS\u001b[39;00m\n\u001b[0;32m      2\u001b[0m \u001b[38;5;66;03m#PYTHON DOESNT ALLOW YOU TO REASSIGN A STRING\u001b[39;00m\n\u001b[0;32m      3\u001b[0m \u001b[38;5;66;03m#STRINGS ARE IMMUTABLE IN PYTHON\u001b[39;00m\n\u001b[1;32m----> 5\u001b[0m \u001b[43mstr1\u001b[49m\u001b[43m[\u001b[49m\u001b[38;5;241;43m3\u001b[39;49m\u001b[43m]\u001b[49m \u001b[38;5;241m=\u001b[39m \u001b[38;5;124m'\u001b[39m\u001b[38;5;124m0\u001b[39m\u001b[38;5;124m'\u001b[39m\n",
      "\u001b[1;31mTypeError\u001b[0m: 'str' object does not support item assignment"
     ]
    }
   ],
   "source": [
    "#REASSINGN STRINGS\n",
    "#PYTHON DOESNT ALLOW YOU TO REASSIGN A STRING\n",
    "#STRINGS ARE IMMUTABLE IN PYTHON\n",
    "\n",
    "str1[3] = '0'"
   ]
  },
  {
   "cell_type": "code",
   "execution_count": 33,
   "id": "46c08933",
   "metadata": {},
   "outputs": [
    {
     "ename": "NameError",
     "evalue": "name 'str2' is not defined",
     "output_type": "error",
     "traceback": [
      "\u001b[1;31m---------------------------------------------------------------------------\u001b[0m",
      "\u001b[1;31mNameError\u001b[0m                                 Traceback (most recent call last)",
      "Cell \u001b[1;32mIn[33], line 5\u001b[0m\n\u001b[0;32m      3\u001b[0m str2 \u001b[38;5;241m=\u001b[39m \u001b[38;5;124m'\u001b[39m\u001b[38;5;124mPython programming\u001b[39m\u001b[38;5;124m'\u001b[39m\n\u001b[0;32m      4\u001b[0m \u001b[38;5;28;01mdel\u001b[39;00m str2\n\u001b[1;32m----> 5\u001b[0m \u001b[38;5;28mprint\u001b[39m(\u001b[43mstr2\u001b[49m)\n",
      "\u001b[1;31mNameError\u001b[0m: name 'str2' is not defined"
     ]
    }
   ],
   "source": [
    "#DELETE A STRING\n",
    "\n",
    "str2 = 'Python programming'\n",
    "del str2\n",
    "print(str2)  #gives error because the string is deleted"
   ]
  },
  {
   "cell_type": "code",
   "execution_count": 6,
   "id": "c09da41b",
   "metadata": {},
   "outputs": [
    {
     "name": "stdout",
     "output_type": "stream",
     "text": [
      "pythonpythonpython\n",
      "pythonprogramming\n",
      "False\n",
      "True\n",
      "True\n",
      "c://python 3.7\n"
     ]
    }
   ],
   "source": [
    "#STRING OPERATIONS\n",
    "str1 = 'python'\n",
    "str2 = 'programming'\n",
    "print(str1 *3)\n",
    "print(str1 +str2)\n",
    "\n",
    "#to check if a specific character is present in a string or not we can use in operator\n",
    "print('w' in str1)\n",
    "print('o' in str1)\n",
    "print('ro'in str2)\n",
    "\n",
    "#WE CAN ALSO PRINT A RAW SRING USING r ALPHABET   ****\n",
    "print(r'c://python 3.7')"
   ]
  },
  {
   "cell_type": "code",
   "execution_count": 45,
   "id": "8ebadd97",
   "metadata": {},
   "outputs": [
    {
     "name": "stdout",
     "output_type": "stream",
     "text": [
      "james and brad are best friends\n",
      "brad and james are best friends\n",
      "james and brad are best friends\n"
     ]
    }
   ],
   "source": [
    "#FORMAT METHODS\n",
    "print(\"{} and {} are best friends\".format(\"james\", \"brad\"))  #python replaces the curly braces with names\n",
    "print(\"{1} and {0} are best friends\". format(\"james\", \"brad\"))\n",
    "print(\"{a} and {b} are best friends\". format(a = \"james\",b = \"brad\"))"
   ]
  },
  {
   "cell_type": "code",
   "execution_count": 8,
   "id": "fb44d4c2",
   "metadata": {},
   "outputs": [
    {
     "name": "stdout",
     "output_type": "stream",
     "text": [
      "Her name is Angela\n",
      "Her salary is 100000\n"
     ]
    }
   ],
   "source": [
    "name = \"Angela\"\n",
    "salary = 100000\n",
    "print(\"Her name is %s\\nHer salary is %d\" %(name,salary))"
   ]
  },
  {
   "cell_type": "code",
   "execution_count": 10,
   "id": "5b3a4c0c",
   "metadata": {},
   "outputs": [
    {
     "name": "stdout",
     "output_type": "stream",
     "text": [
      "Old value: learn python\n",
      "New value: Learn python\n",
      "LEARN PYTHON\n",
      "learn python\n",
      "hello 20\n"
     ]
    }
   ],
   "source": [
    "str1 = \"learn python\"\n",
    "str2 = str1.capitalize()   #Makes first letter capital\n",
    "print(\"Old value:\", str1)\n",
    "print(\"New value:\", str2)\n",
    "print(str1.upper())\n",
    "print(str1.lower())\n",
    "s = 20"
   ]
  },
  {
   "cell_type": "code",
   "execution_count": 3,
   "id": "cac5da1b",
   "metadata": {},
   "outputs": [
    {
     "name": "stdout",
     "output_type": "stream",
     "text": [
      "hello world\n"
     ]
    },
    {
     "data": {
      "text/plain": [
       "'Hello There'"
      ]
     },
     "execution_count": 3,
     "metadata": {},
     "output_type": "execute_result"
    }
   ],
   "source": [
    "str1 = \"HELLO WORLD\"\n",
    "str2 = str1.casefold()     #converts upper  case to lower case \n",
    "print(str2)\n",
    "\n",
    "str3 = \"hello there\" #used to capitalize the first letter of each word in a string\n",
    "str3.title()"
   ]
  },
  {
   "cell_type": "code",
   "execution_count": 59,
   "id": "14135ea7",
   "metadata": {},
   "outputs": [
    {
     "name": "stdout",
     "output_type": "stream",
     "text": [
      "occurances: 2\n"
     ]
    }
   ],
   "source": [
    "str1 = \"python programing\"\n",
    "str2 = str1.count('n')\n",
    "print(\"occurances:\", str2)"
   ]
  },
  {
   "cell_type": "code",
   "execution_count": 61,
   "id": "2b674d18",
   "metadata": {},
   "outputs": [
    {
     "name": "stdout",
     "output_type": "stream",
     "text": [
      "hamberg is located in germany\n"
     ]
    }
   ],
   "source": [
    "#REPLACE\n",
    "str1 = \"hamberg is located in france\"\n",
    "str2 = str1.replace(\"france\", \"germany\")\n",
    "print(str2)"
   ]
  },
  {
   "cell_type": "code",
   "execution_count": 13,
   "id": "8b0a74e8",
   "metadata": {},
   "outputs": [
    {
     "name": "stdout",
     "output_type": "stream",
     "text": [
      "['Hamburg', 'is', 'located', 'in', 'Germany']\n"
     ]
    }
   ],
   "source": [
    "#SPLIT FUNCTION\n",
    "#We can split the values or each word in a string as seperate word and store it in the form of a list\n",
    "str1 = \"Hamburg is located in Germany\"\n",
    "str2 = str1.split()\n",
    "print(str2)"
   ]
  }
 ],
 "metadata": {
  "kernelspec": {
   "display_name": "Python 3 (ipykernel)",
   "language": "python",
   "name": "python3"
  },
  "language_info": {
   "codemirror_mode": {
    "name": "ipython",
    "version": 3
   },
   "file_extension": ".py",
   "mimetype": "text/x-python",
   "name": "python",
   "nbconvert_exporter": "python",
   "pygments_lexer": "ipython3",
   "version": "3.12.1"
  }
 },
 "nbformat": 4,
 "nbformat_minor": 5
}
