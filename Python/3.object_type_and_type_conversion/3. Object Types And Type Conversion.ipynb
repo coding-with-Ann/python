{
 "cells": [
  {
   "cell_type": "code",
   "execution_count": 1,
   "id": "a01e1918",
   "metadata": {},
   "outputs": [],
   "source": [
    "#OBJECT TYPES IN PYTHON\n",
    "#LISTS, DICTIONARIES, FILES, SETS, PROGRAM UNIT TYPES\n",
    "#NUMBERS, STRINGS, TUPLES, OTHER CORE TYPES, IMPLEMENTATION RELATED TYPES\n",
    "\n",
    "#TYPE CONVERSION IN PYTHON\n",
    "#IMplicit type conversion  -- python automatically converts from one data type to another data type\n",
    "#Explicit type conversion  -- user explicitly converts using predefined fns like int (a, base), float(), chr(number) tuple(),\n",
    "                              #set(), list(), dict(), etc\n",
    "\n",
    "#ord() - accepts a string of unit length as an argument and returns the unicode equivalence of passed argument \n",
    "#hex() - converts int to hexadecimal\n",
    "#oct() - int to octal\n",
    "#complex(real, imaginary) - provide real and imaginary part\n",
    "#replace(,)\n"
   ]
  },
  {
   "cell_type": "code",
   "execution_count": 4,
   "id": "c66c81ed",
   "metadata": {},
   "outputs": [
    {
     "data": {
      "text/plain": [
       "int"
      ]
     },
     "execution_count": 4,
     "metadata": {},
     "output_type": "execute_result"
    }
   ],
   "source": [
    "#Number objects\n",
    "num = 2\n",
    "type(num)"
   ]
  },
  {
   "cell_type": "code",
   "execution_count": 6,
   "id": "0fe86e1b",
   "metadata": {},
   "outputs": [
    {
     "data": {
      "text/plain": [
       "16"
      ]
     },
     "execution_count": 6,
     "metadata": {},
     "output_type": "execute_result"
    }
   ],
   "source": [
    "2**4   # ** is used to represent exponent operator"
   ]
  },
  {
   "cell_type": "code",
   "execution_count": 8,
   "id": "6aa15c54",
   "metadata": {},
   "outputs": [
    {
     "data": {
      "text/plain": [
       "3.141592653589793"
      ]
     },
     "execution_count": 8,
     "metadata": {},
     "output_type": "execute_result"
    }
   ],
   "source": [
    "import math\n",
    "math.pi"
   ]
  },
  {
   "cell_type": "code",
   "execution_count": 3,
   "id": "f8fbe9b0",
   "metadata": {},
   "outputs": [
    {
     "data": {
      "text/plain": [
       "0.7194732900671447"
      ]
     },
     "execution_count": 3,
     "metadata": {},
     "output_type": "execute_result"
    }
   ],
   "source": [
    "import random\n",
    "random.random()"
   ]
  },
  {
   "cell_type": "code",
   "execution_count": 1,
   "id": "4a16e19a",
   "metadata": {},
   "outputs": [
    {
     "name": "stdout",
     "output_type": "stream",
     "text": [
      "I\n",
      "a\n",
      "ndia\n",
      "India\n",
      "Indiaxyz\n",
      "IndiaIndiaIndiaIndiaIndiaIndiaIndia\n"
     ]
    },
    {
     "data": {
      "text/plain": [
       "'Indxyz'"
      ]
     },
     "execution_count": 1,
     "metadata": {},
     "output_type": "execute_result"
    }
   ],
   "source": [
    "#string objects in python\n",
    "\n",
    "A = \"India\"\n",
    "print(A[0])\n",
    "print(A[-1])\n",
    "print(A[1:])\n",
    "print(A[:])\n",
    "print(A +\"xyz\")\n",
    "print(A*7)\n",
    "\n",
    "A.replace('ia', 'xyz')"
   ]
  },
  {
   "cell_type": "code",
   "execution_count": 9,
   "id": "4ed646ff",
   "metadata": {},
   "outputs": [
    {
     "name": "stdout",
     "output_type": "stream",
     "text": [
      "America\n",
      "[101, 'America']\n",
      "2.05\n",
      "[101, 'America', 2.05, 'USA']\n",
      "[101, 2.05, 'USA']\n",
      "['USA', 2.05, 101]\n"
     ]
    }
   ],
   "source": [
    "#List objects in python\n",
    "#appned(), pop()\n",
    "\n",
    "l1 = [101, 'America', 2.05]\n",
    "print(l1[1])\n",
    "\n",
    "print(l1[:-1]) #excludes the last index and prints the other two indexes values ***\n",
    "print(l1[-1])\n",
    "l1.append('USA')\n",
    "print(l1)\n",
    "l1.pop(1)\n",
    "print(l1)\n",
    "l1.reverse()\n",
    "print(l1)"
   ]
  },
  {
   "cell_type": "code",
   "execution_count": 5,
   "id": "7fe2d95a",
   "metadata": {},
   "outputs": [
    {
     "name": "stdout",
     "output_type": "stream",
     "text": [
      "{1: 'lion', 2: 'Tiger', 3: 'Mouse'}\n",
      "dict_keys([1, 2, 3])\n",
      "dict_values(['lion', 'Tiger', 'Mouse'])\n",
      "{1: 'lion', 2: 'Tiger', 3: 'Mouse', 4: 'cat'}\n"
     ]
    },
    {
     "ename": "AttributeError",
     "evalue": "'dict' object has no attribute 'remove'",
     "output_type": "error",
     "traceback": [
      "\u001b[1;31m---------------------------------------------------------------------------\u001b[0m",
      "\u001b[1;31mAttributeError\u001b[0m                            Traceback (most recent call last)",
      "Cell \u001b[1;32mIn[5], line 11\u001b[0m\n\u001b[0;32m      9\u001b[0m dict1[\u001b[38;5;241m1\u001b[39m] \u001b[38;5;241m=\u001b[39m \u001b[38;5;124m\"\u001b[39m\u001b[38;5;124mcheetah\u001b[39m\u001b[38;5;124m\"\u001b[39m\n\u001b[0;32m     10\u001b[0m dict1\n\u001b[1;32m---> 11\u001b[0m \u001b[43mdict1\u001b[49m\u001b[38;5;241;43m.\u001b[39;49m\u001b[43mremove\u001b[49m(\u001b[38;5;241m3\u001b[39m)\n",
      "\u001b[1;31mAttributeError\u001b[0m: 'dict' object has no attribute 'remove'"
     ]
    }
   ],
   "source": [
    "#DICTIONARIES\n",
    "dict1 = {1:\"lion\", 2: \"Tiger\", 3:\"Mouse\"}\n",
    "print(dict1)\n",
    "print(dict1.keys())\n",
    "print(dict1.values())\n",
    "\n",
    "dict1[4] = \"cat\"           #to append\n",
    "print(dict1)\n",
    "dict1[1] = \"cheetah\"\n",
    "dict1\n",
    "\n",
    "#remove?"
   ]
  },
  {
   "cell_type": "code",
   "execution_count": 14,
   "id": "2bf66032",
   "metadata": {},
   "outputs": [
    {
     "name": "stdout",
     "output_type": "stream",
     "text": [
      "4\n",
      "(1, 2, 3, 4, 7, 8)\n",
      "4\n"
     ]
    }
   ],
   "source": [
    "#TUPLE OBJECTS\n",
    "T1 = (1,2,3,4)\n",
    "print(len(T1))\n",
    "\n",
    "T2 = T1+(7,8)\n",
    "print(T2)\n",
    "\n",
    "print(T2[3])\n"
   ]
  },
  {
   "cell_type": "code",
   "execution_count": 2,
   "id": "86b41151",
   "metadata": {},
   "outputs": [],
   "source": [
    "#FILE OBJECTS\n",
    "#to create a file in python using jupyter notebook\n",
    "\n",
    "f1 = open('C:/Users/aniru/OneDrive/Documents/ObjectTypes/data.txt', 'w')  #changed \\ to /\n",
    "f1.write('Hello world\\n')\n",
    "f1.write('Welcome to python programming\\n')\n",
    "f1.close()"
   ]
  },
  {
   "cell_type": "code",
   "execution_count": 1,
   "id": "d01adbe4",
   "metadata": {},
   "outputs": [
    {
     "name": "stdout",
     "output_type": "stream",
     "text": [
      "{'a', 'I', 'd', 'i', 'n'} {'s', 'u', 'a'}\n",
      "{'a'}\n",
      "{'I', 's', 'i', 'd', 'n', 'u', 'a'}\n",
      "{'I', 'n', 'i', 'd'}\n"
     ]
    }
   ],
   "source": [
    "#SETS\n",
    "\n",
    "s = set('India')\n",
    "s1 = set(['u', 's','a'])\n",
    "print(s,s1)\n",
    "print(s&s1)\n",
    "print(s|s1)\n",
    "print(s-s1)"
   ]
  },
  {
   "cell_type": "code",
   "execution_count": null,
   "id": "e63e14e0",
   "metadata": {},
   "outputs": [],
   "source": [
    "#We can't add string to an integer\n",
    "a = 7\n",
    "b = '2'\n",
    "#c = a+b\n",
    "#c\n",
    "\n",
    "#to fix this \n",
    "c = a+int(b)\n",
    "c"
   ]
  },
  {
   "cell_type": "code",
   "execution_count": 11,
   "id": "9b2d9fa2",
   "metadata": {},
   "outputs": [
    {
     "name": "stdout",
     "output_type": "stream",
     "text": [
      "(50+0j)\n"
     ]
    }
   ],
   "source": [
    "a = 50\n",
    "comp_a = complex(a)\n",
    "print(comp_a)\n"
   ]
  },
  {
   "cell_type": "code",
   "execution_count": 18,
   "id": "c854f1e5",
   "metadata": {},
   "outputs": [
    {
     "name": "stdout",
     "output_type": "stream",
     "text": [
      "('I', 'n', 'd', 'i', 'a')\n",
      "['I', 'n', 'd', 'i', 'a']\n"
     ]
    }
   ],
   "source": [
    "#string to tuple\n",
    "s = \"India\"\n",
    "ts = tuple(s)\n",
    "print(ts)\n",
    "print(list(ts))\n"
   ]
  },
  {
   "cell_type": "code",
   "execution_count": 2,
   "id": "742ab38d",
   "metadata": {},
   "outputs": [
    {
     "name": "stdout",
     "output_type": "stream",
     "text": [
      "0b1010\n",
      "0xa\n",
      "0o12\n"
     ]
    }
   ],
   "source": [
    "a = 10\n",
    "b = bin(a)\n",
    "c = hex(a)\n",
    "d = oct(a)\n",
    "print(b)\n",
    "print(c)\n",
    "print(d)"
   ]
  },
  {
   "cell_type": "code",
   "execution_count": 7,
   "id": "4d8af055",
   "metadata": {},
   "outputs": [
    {
     "data": {
      "text/plain": [
       "'L'"
      ]
     },
     "execution_count": 7,
     "metadata": {},
     "output_type": "execute_result"
    }
   ],
   "source": [
    "#NUMBER TO CORRESPONDING ASCII CONVERSION  #*****\n",
    "#chr() function returns a string from a Unicode code integer.\n",
    "\n",
    "n1 = 76\n",
    "chr(n1)"
   ]
  },
  {
   "cell_type": "code",
   "execution_count": 4,
   "id": "66b4d86c",
   "metadata": {},
   "outputs": [
    {
     "name": "stdout",
     "output_type": "stream",
     "text": [
      "65\n"
     ]
    },
    {
     "data": {
      "text/plain": [
       "55"
      ]
     },
     "execution_count": 4,
     "metadata": {},
     "output_type": "execute_result"
    }
   ],
   "source": [
    "#STRING TO UNICODE\n",
    "#COMPUTERS ON BASIC LEVEL DEAL WITH NUMBERS. lETTERS THAT APPEAR ON COMPUTER ARE STORED BY COMPUTERS AS A LIST OF NUMBERS\n",
    "#SO THE UNICODE STANDARD PROVIDES A UNIQUE NUMBER FOR EVERY CHARACTER AND SUPPORTS MULTIPLE LANGUAGES AND ALL SPECIAL CHARACTERS\n",
    "\n",
    "s  = 'A'\n",
    "s1 = '7'\n",
    "r = ord(s)\n",
    "print(r)\n",
    "ord(s1)"
   ]
  }
 ],
 "metadata": {
  "kernelspec": {
   "display_name": "Python 3 (ipykernel)",
   "language": "python",
   "name": "python3"
  },
  "language_info": {
   "codemirror_mode": {
    "name": "ipython",
    "version": 3
   },
   "file_extension": ".py",
   "mimetype": "text/x-python",
   "name": "python",
   "nbconvert_exporter": "python",
   "pygments_lexer": "ipython3",
   "version": "3.12.1"
  }
 },
 "nbformat": 4,
 "nbformat_minor": 5
}
