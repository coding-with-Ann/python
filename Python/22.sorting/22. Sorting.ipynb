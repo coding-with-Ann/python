{
 "cells": [
  {
   "cell_type": "code",
   "execution_count": 2,
   "id": "a9636ee3",
   "metadata": {},
   "outputs": [],
   "source": [
    "#sorting refers to arranging data in a particular order\n",
    "\n",
    "#uses\n",
    "#searching an element is easy\n",
    "#readable\n",
    "#duplicate values can be found\n",
    "#helps locate various patterns in data\n",
    "\n",
    "#pythons default sorted() method sorts the list in ascending order\n",
    "#python uses a time series sorting algorithm to perform this sorting.\n",
    "#This is a hybrid sort algorithm derived from merge sort and insertion sort"
   ]
  },
  {
   "cell_type": "code",
   "execution_count": 8,
   "id": "bf6a9823",
   "metadata": {},
   "outputs": [
    {
     "name": "stdout",
     "output_type": "stream",
     "text": [
      "[1, 2, 3, 4, 6, 7, 9]\n",
      "['xiaomi', 'samsung', 'oneplus', 'Apple']\n"
     ]
    }
   ],
   "source": [
    "l1 = [3,6,7,4,2,1,9]\n",
    "l1.sort()\n",
    "print(l1)\n",
    "\n",
    "l2 = ['Apple', 'oneplus', 'xiaomi', 'samsung']\n",
    "l2.sort(reverse = True)\n",
    "print(l2)"
   ]
  },
  {
   "cell_type": "code",
   "execution_count": 9,
   "id": "a7e00189",
   "metadata": {},
   "outputs": [],
   "source": [
    "#BUBBLE SORT\n",
    "#first element is compared with adjacent element\n",
    "#if first > adj element then the elements are swapped\n",
    "#Then the second element is compared with its adjacent element and the process continues\n",
    "#At the end the largest element is bubbled to end of the list\n",
    "#Finally we get list in ascending order"
   ]
  },
  {
   "cell_type": "code",
   "execution_count": 15,
   "id": "e39093a9",
   "metadata": {},
   "outputs": [
    {
     "name": "stdout",
     "output_type": "stream",
     "text": [
      "[1, 2, 3, 4, 4, 6, 6, 7, 9]\n"
     ]
    }
   ],
   "source": [
    "def bubbleSort(list1):\n",
    "    for i in range(len(list1)):\n",
    "        for j in range(0, len(list1)-i-1):\n",
    "            if list1[j] > list1[j+1]:\n",
    "                list1[j], list1[j+1] = list1[j+1], list1[j]\n",
    "\n",
    "list1 = [4,3,6,4,6,7,9,2,1]\n",
    "bubbleSort(list1)\n",
    "print(list1)"
   ]
  },
  {
   "cell_type": "code",
   "execution_count": 16,
   "id": "ba64ab46",
   "metadata": {},
   "outputs": [
    {
     "name": "stdout",
     "output_type": "stream",
     "text": [
      "[1, 2, 3, 4, 5, 6]\n"
     ]
    }
   ],
   "source": [
    "#INSERTION SORT\n",
    "#The first element is assumed as sorted and the rest of the elements are assumed as unsorted\n",
    "#O(n**2)\n",
    "\n",
    "def insertionSort(l2):\n",
    "    for i in range(1, len(l2)):\n",
    "        j = i\n",
    "        while j>0 and l2[j-1] > l2[j]:\n",
    "            l2[j-1], l2[j] = l2[j], l2[j-1]\n",
    "            j-=1\n",
    "\n",
    "l2 = [2,6,5,1,3,4]\n",
    "insertionSort(l2)\n",
    "print(l2)"
   ]
  },
  {
   "cell_type": "code",
   "execution_count": 7,
   "id": "78b22431",
   "metadata": {},
   "outputs": [
    {
     "name": "stdout",
     "output_type": "stream",
     "text": [
      "[1, 2, 4, 5, 5, 6, 7, 8, 9]\n"
     ]
    }
   ],
   "source": [
    "#MERGE SORT\n",
    "#Merge sort is a divide and conquer algorithm\n",
    "#Merge sort first divides the list into equal parts then sorts the parts and finally unites them\n",
    "#as a sorted list\n",
    "#O(n logn)\n",
    "\n",
    "def mergeSort(a):\n",
    "    if len(a) > 1:\n",
    "        left_a = a[:len(a)//2]\n",
    "        right_a = a[len(a)//2:]\n",
    "        \n",
    "        mergeSort(left_a)\n",
    "        mergeSort(right_a)\n",
    "    \n",
    "        i=0\n",
    "        j=0\n",
    "        k=0\n",
    "\n",
    "        while i<len(left_a) and j<len(right_a):\n",
    "            if(left_a[i]< right_a[j]):\n",
    "                a[k] = left_a[i]\n",
    "                i+=1\n",
    "\n",
    "            else:\n",
    "                a[k] = right_a[j]\n",
    "                j+=1\n",
    "            k+=1\n",
    "\n",
    "        while i<len(left_a):\n",
    "            a[k] = left_a[i]\n",
    "            i+=1\n",
    "            k+=1\n",
    "        while j<len(right_a):\n",
    "            a[k] = right_a[j]\n",
    "            j+=1\n",
    "            k+=1\n",
    "\n",
    "\n",
    "a = [1,5,6,7,2,5,8,9,4]\n",
    "mergeSort(a)\n",
    "print(a)"
   ]
  },
  {
   "cell_type": "code",
   "execution_count": 4,
   "id": "cb2a65b6",
   "metadata": {},
   "outputs": [
    {
     "name": "stdout",
     "output_type": "stream",
     "text": [
      "[11, 22, 33, 44, 55, 66, 77, 88]\n"
     ]
    }
   ],
   "source": [
    "#QUICK SORT\n",
    "#O(n**2) worst case\n",
    "#O(nlog(n)) best and average case\n",
    "#It depends on pivot element\n",
    "#choose pivot element(usually last element or anyother)\n",
    "#Stores elemens less than pivot element in left subarray\n",
    "#stores elements greater than pivot in right subarray\n",
    "#call quicksort recursively on left subarray\n",
    "#call quicksort on right subarray\n",
    "\n",
    "def quickSort(arr,left,right):    #arr, indexes that determine the part of the \n",
    "                                  #array we want to sort\n",
    "    if left < right:    #which means the subarray contains more than one element\n",
    "        \n",
    "            partition_pos = partition(arr, left, right)  #index of pivot stored\n",
    "            quickSort(arr, left, partition_pos - 1)\n",
    "            quickSort(arr, partition_pos + 1, right)\n",
    "            \n",
    "            \n",
    "            \n",
    "        \n",
    "def partition(arr, left, right):   #returns the index of pivot element after\n",
    "                                   #the first step of quick sort\n",
    "        i = left\n",
    "        j = right\n",
    "        pivot = arr[right]\n",
    "        \n",
    "        while i<j:\n",
    "            while i< right and arr[i] < pivot:\n",
    "                i+=1\n",
    "            while j>left and arr[j]>=pivot:\n",
    "                j-=1\n",
    "                \n",
    "            if i<j:\n",
    "                arr[i], arr[j] == arr[j], arr[i]\n",
    "        if arr[i] > pivot:\n",
    "            arr[i], arr[right] = arr[right], arr[i]\n",
    "        return i\n",
    "    \n",
    "arr = [22,11,33,44,55,77,88,66]\n",
    "quickSort(arr, 0, len(arr) -1)\n",
    "print(arr)"
   ]
  },
  {
   "cell_type": "code",
   "execution_count": 4,
   "id": "55213407",
   "metadata": {},
   "outputs": [
    {
     "ename": "NameError",
     "evalue": "name 'sort' is not defined",
     "output_type": "error",
     "traceback": [
      "\u001b[1;31m---------------------------------------------------------------------------\u001b[0m",
      "\u001b[1;31mNameError\u001b[0m                                 Traceback (most recent call last)",
      "Cell \u001b[1;32mIn[4], line 2\u001b[0m\n\u001b[0;32m      1\u001b[0m ll\u001b[38;5;241m=\u001b[39m[\u001b[38;5;241m2\u001b[39m,\u001b[38;5;241m55\u001b[39m,\u001b[38;5;241m23\u001b[39m]\n\u001b[1;32m----> 2\u001b[0m \u001b[43msort\u001b[49m(l1)\n",
      "\u001b[1;31mNameError\u001b[0m: name 'sort' is not defined"
     ]
    }
   ],
   "source": [
    "ll=[2,55,23]\n",
    "sorted(l1)"
   ]
  }
 ],
 "metadata": {
  "kernelspec": {
   "display_name": "Python 3 (ipykernel)",
   "language": "python",
   "name": "python3"
  },
  "language_info": {
   "codemirror_mode": {
    "name": "ipython",
    "version": 3
   },
   "file_extension": ".py",
   "mimetype": "text/x-python",
   "name": "python",
   "nbconvert_exporter": "python",
   "pygments_lexer": "ipython3",
   "version": "3.11.2"
  }
 },
 "nbformat": 4,
 "nbformat_minor": 5
}
