{
 "cells": [
  {
   "cell_type": "code",
   "execution_count": 9,
   "id": "edae4791",
   "metadata": {},
   "outputs": [
    {
     "name": "stdout",
     "output_type": "stream",
     "text": [
      "[1, 'adam', [1, 0, 7], 'usa', 'usa', 1, 2]\n",
      "[1, 'adam', 'hello', [1, 0, 7], 'usa', 'usa', 1, 2]\n",
      "a\n",
      "[1, 'adam', 'hello', [1, 0, 7], 'usa', 'usa', 1, 2, 'a', 'b', 'c', 10, 20, 'kiwi', 'watermelon']\n",
      "1\n",
      "18\n",
      "5\n",
      "1\n",
      "[2, 3, 3, 4]\n",
      "2\n"
     ]
    }
   ],
   "source": [
    "#LIST\n",
    "# A list is a collection of objects or elements of different datatypes \n",
    "#and these elements are enclosed with in a [] and seperated by commas\n",
    "#Items in the list have a defined order that won’t change unless you explicitly change it.\n",
    "#Elements can be accessed by index values\n",
    "#Lists are mutable and allow duplicate values\n",
    "# we can also create a list by using inbuilt fn list()\n",
    "\n",
    "#sets and dictionaries are unorderd.\n",
    "\n",
    "\n",
    "list1 = [1, 'adam', [1, 0, 7], 'usa', 'usa', 1]\n",
    "list2 = ['a', 'b', 'c', 10, 20]\n",
    "\n",
    "list1.append(2) #inserts an element at the end of the list\n",
    "print(list1)\n",
    "list1.insert(2, 'hello')\n",
    "print(list1)\n",
    "print(list1[1][2])\n",
    "\n",
    "list1.extend(list2) #it adds the elements of list2 at the end of the currnet list\n",
    "list1.extend(['kiwi','watermelon'])\n",
    "print(list1)\n",
    "print(list1.index('adam'))    #index() returns the index of element\n",
    "\n",
    "l=[1,2,3,3,4,5]\n",
    "print(sum(l))\n",
    "print(l.pop())\n",
    "print(l.pop(0))\n",
    "print(l)\n",
    "print(l.count(3))  #prints the no of ocuurances of 3"
   ]
  },
  {
   "cell_type": "code",
   "execution_count": 38,
   "id": "fa51ea1d",
   "metadata": {},
   "outputs": [
    {
     "name": "stdout",
     "output_type": "stream",
     "text": [
      "['LA', 'paris', 'texas', 'London']\n",
      "['LA', 'texas', 'London']\n",
      "['LA', 'texas']\n"
     ]
    }
   ],
   "source": [
    "list3 = ['LA', 'Tokyo', 'paris', 'texas', 'London']\n",
    "del list3[1]\n",
    "print(list3)\n",
    "list3.remove('paris')\n",
    "print(list3)\n",
    "list3.pop(2)\n",
    "print(list3)\n",
    "\n"
   ]
  },
  {
   "cell_type": "code",
   "execution_count": 40,
   "id": "f6108651",
   "metadata": {},
   "outputs": [
    {
     "data": {
      "text/plain": [
       "[]"
      ]
     },
     "execution_count": 40,
     "metadata": {},
     "output_type": "execute_result"
    }
   ],
   "source": [
    "list2.clear()\n",
    "list2"
   ]
  },
  {
   "cell_type": "code",
   "execution_count": 43,
   "id": "60809f7f",
   "metadata": {},
   "outputs": [
    {
     "name": "stdout",
     "output_type": "stream",
     "text": [
      "['watermelon', 'kiwi', 20, 10, 'c', 'b', 'a', 2, 1, 'usa', 'usa', [1, 0, 7], 'hello', 'adam', 1]\n",
      "0\n"
     ]
    }
   ],
   "source": [
    "list1.reverse()\n",
    "print(list1)\n",
    "print(list1.index('watermelon'))"
   ]
  },
  {
   "cell_type": "code",
   "execution_count": 47,
   "id": "d616f587",
   "metadata": {},
   "outputs": [
    {
     "name": "stdout",
     "output_type": "stream",
     "text": [
      "2\n"
     ]
    }
   ],
   "source": [
    "print(list1.count('usa'))"
   ]
  },
  {
   "cell_type": "code",
   "execution_count": 3,
   "id": "abd50a08",
   "metadata": {},
   "outputs": [
    {
     "name": "stdout",
     "output_type": "stream",
     "text": [
      "[1, 4, 5, 6, 7, 36, 46, 66]\n",
      "['a', 'abc', 'fhdu']\n"
     ]
    }
   ],
   "source": [
    "list4 = [1,5,6,4,36,7,46,66]\n",
    "list5 = ['a', 'abc', 'fhdu']\n",
    "list4.sort()\n",
    "list5.sort()\n",
    "print(list4)\n",
    "print(list5)\n",
    "#sorting of list containing str and int is not possible"
   ]
  },
  {
   "cell_type": "code",
   "execution_count": 3,
   "id": "ee10af69",
   "metadata": {},
   "outputs": [
    {
     "name": "stdout",
     "output_type": "stream",
     "text": [
      "adam\n",
      "1\n",
      "('adam', 107)\n",
      "(1, 'adam', 107, 'USA', 1, 'adam', 107, 'USA')\n",
      "1\n",
      "(1, 'adam', 107, 'USA', 'banana', 'orange', 'apple', 'berry')\n",
      "<class 'str'>\n"
     ]
    },
    {
     "data": {
      "text/plain": [
       "tuple"
      ]
     },
     "execution_count": 3,
     "metadata": {},
     "output_type": "execute_result"
    }
   ],
   "source": [
    "#TUPLE\n",
    "#TUPLE IS ALMOST SAME AS LIST BUT TUPLE IS 'IMMUTABLE'\n",
    "#ELEMENTS ARE ENCLOSED IN () AND SEPERATED BY COMMAS\n",
    "#TUPLES ARE ORDERD LIKE LIST AND CAN BE ACCESSED BY INDEX\n",
    "\n",
    "tup1 = (1, 'adam', 107, 'USA')\n",
    "tup2 = ('banana', 'orange', 'apple', 'berry')\n",
    "\n",
    "print(tup1[1])\n",
    "print(tup1.index('adam'))\n",
    "print(tup1[1:3])\n",
    "print(tup1*2)\n",
    "print(tup1.count('adam'))\n",
    "print(tup1+tup2)\n",
    "\n",
    "tup3 = ('orange') #if one element written then its considerd as a string not a tuple\n",
    "print(type(tup3))  \n",
    "\n",
    "tup4 = ('orange',)   #because of the comma after the first element its considerd as a tuple\n",
    "type(tup4) "
   ]
  },
  {
   "cell_type": "code",
   "execution_count": 6,
   "id": "16c17b47",
   "metadata": {},
   "outputs": [
    {
     "name": "stdout",
     "output_type": "stream",
     "text": [
      "('banana', 'orange', 'apple', 'berry', 'guava', 'guava', 'guava')\n"
     ]
    }
   ],
   "source": [
    "#TUPLE IS IMMUTABLE SO WE CANT USE APPEND METHOD TO TUPLE DIRECTLY\n",
    "#TO APPEND ELEMENTS TO TUPLE WE WILL TYPECAST THE TUPLE TO LIST AND THEN APPEND ELEMENTS\n",
    "\n",
    "y = list(tup2)\n",
    "y.append('guava')\n",
    "tup2 = tuple(y)\n",
    "print(tup2)"
   ]
  },
  {
   "cell_type": "code",
   "execution_count": 70,
   "id": "3b7117c8",
   "metadata": {},
   "outputs": [
    {
     "name": "stdout",
     "output_type": "stream",
     "text": [
      "('cherry', 'banana', 'orange', 'apple', 'berry', 'guava')\n",
      "banana\n",
      "orange\n",
      "apple\n",
      "berry\n",
      "guava\n"
     ]
    }
   ],
   "source": [
    "tup5 = ('cherry',)\n",
    "tup5+=tup2\n",
    "print(tup5)\n",
    "\n",
    "for x in tup2:\n",
    "    print(x)"
   ]
  },
  {
   "cell_type": "code",
   "execution_count": 7,
   "id": "a574b03b",
   "metadata": {},
   "outputs": [
    {
     "name": "stdout",
     "output_type": "stream",
     "text": [
      "{1: 'apple', 2: 'orange', 3: 'banana', 4: 'kiwi'}\n",
      "apple\n",
      "apple\n",
      "kiwi\n",
      "{1: 'apple', 2: 'orange'}\n",
      "dict_keys([1, 2])\n",
      "dict_values(['apple', 'orange'])\n",
      "{1: 'apple', 2: 'watermelon'}\n",
      "{1: 'apple', 2: 'watermelon', 5: 'Muskmelon'}\n",
      "3\n",
      "[1, 2, 5]\n"
     ]
    }
   ],
   "source": [
    "#DICTIONARIES(KEY VALUE PAIR)\n",
    "#COLLECTION OF ELEMENTS OF DIFFERENT TYPES STORED IN KEY VALUE FORMAT\n",
    "#THESE KEY VALUE PAIRS ARE ENCLOSED IN {} AND EACH KEY IS SEPERATED FROM ITS VALUE BY COLON\n",
    "#DICTIONARIES ARE ORDERD\n",
    "#ELEMENTS OF DICTIONARIES CANT BE ACCESSED BY INDEX\n",
    "#DICTIONARIES ARE MUTABLE AND THEY DOESNT ALLOW DUPLICATE KEYS.\n",
    "\n",
    "dict1 = {1: 'apple', 2:'orange', 3:'banana', 4:'kiwi' }\n",
    "print(dict1)\n",
    "print(dict1[1])   #key\n",
    "print(dict1.get(1))\n",
    "print(dict1.pop(4))\n",
    "dict1.popitem() #removes last element\n",
    "print(dict1)\n",
    "\n",
    "print(dict1.keys())\n",
    "print(dict1.values())\n",
    "\n",
    "dict1.update({2:'watermelon'})\n",
    "print(dict1)\n",
    "dict1.update({5:'Muskmelon'})\n",
    "print(dict1)\n",
    "print(len(dict1))\n",
    "print(sorted(dict1))"
   ]
  },
  {
   "cell_type": "code",
   "execution_count": 81,
   "id": "b2e2b783",
   "metadata": {},
   "outputs": [
    {
     "name": "stdout",
     "output_type": "stream",
     "text": [
      "1\n",
      "apple\n",
      "2\n",
      "watermelon\n",
      "5\n",
      "Muskmelon\n",
      "\n",
      "1 apple\n",
      "2 watermelon\n",
      "5 Muskmelon\n"
     ]
    }
   ],
   "source": [
    "for x in dict1:\n",
    "    print(x)\n",
    "    print(dict1[x])\n",
    "print()\n",
    "for x, y in dict1.items():\n",
    "    print(x,y)"
   ]
  },
  {
   "cell_type": "code",
   "execution_count": 83,
   "id": "93e2abff",
   "metadata": {},
   "outputs": [
    {
     "name": "stdout",
     "output_type": "stream",
     "text": [
      "{1: 'apple', 2: 'watermelon', 5: 'Muskmelon'}\n"
     ]
    }
   ],
   "source": [
    "mydict = dict1.copy() #to copy a particular dictionary into another dictionary\n",
    "print(mydict)"
   ]
  },
  {
   "cell_type": "code",
   "execution_count": 8,
   "id": "a066a80b",
   "metadata": {},
   "outputs": [
    {
     "name": "stdout",
     "output_type": "stream",
     "text": [
      "{}\n"
     ]
    }
   ],
   "source": [
    "dict1.clear() #Removes all elements from the dictionary\n",
    "print(dict1)"
   ]
  },
  {
   "cell_type": "code",
   "execution_count": 29,
   "id": "c3ec3e1e",
   "metadata": {},
   "outputs": [
    {
     "name": "stdout",
     "output_type": "stream",
     "text": [
      "array('i', [1, 2, 3, 4, 5])\n",
      "1 2 3 4 5 array('u', 'abcd')\n",
      "a b c d "
     ]
    }
   ],
   "source": [
    "#ARRAYS\n",
    "from array import *\n",
    "vals=array('i', [1,2,3,4,5])\n",
    "print(vals)\n",
    "\n",
    "for i in range(5):\n",
    "    print(vals[i], end=' ')\n",
    "    \n",
    "chrs=array('u', ['a','b','c','d'])\n",
    "print(chrs)\n",
    "for i in chrs:\n",
    "    print(i, end=\" \")"
   ]
  },
  {
   "cell_type": "code",
   "execution_count": 9,
   "id": "e1539408",
   "metadata": {},
   "outputs": [
    {
     "name": "stdout",
     "output_type": "stream",
     "text": [
      "{'I', 'n', 'd', 'i', 'a'} {'a', 's', 'u'}\n",
      "{'a'}\n",
      "{'I', 'n', 's', 'u', 'd', 'a', 'i'}\n",
      "{'I', 'n', 'i', 'd'}\n",
      "{'I', 'n', 'd', 'i', 'usa', 'a'}\n"
     ]
    }
   ],
   "source": [
    "#SETS doesnt allow duplicates\n",
    "\n",
    "s = set('India')\n",
    "s1 = set(['u', 's','a'])\n",
    "print(s,s1)\n",
    "print(s&s1)\n",
    "print(s|s1)\n",
    "print(s-s1)\n",
    "\n",
    "s.add('usa')\n",
    "print(s)"
   ]
  }
 ],
 "metadata": {
  "kernelspec": {
   "display_name": "Python 3 (ipykernel)",
   "language": "python",
   "name": "python3"
  },
  "language_info": {
   "codemirror_mode": {
    "name": "ipython",
    "version": 3
   },
   "file_extension": ".py",
   "mimetype": "text/x-python",
   "name": "python",
   "nbconvert_exporter": "python",
   "pygments_lexer": "ipython3",
   "version": "3.12.1"
  }
 },
 "nbformat": 4,
 "nbformat_minor": 5
}
