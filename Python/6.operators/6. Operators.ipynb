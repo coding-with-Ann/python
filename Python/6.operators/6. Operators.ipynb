{
 "cells": [
  {
   "cell_type": "code",
   "execution_count": 1,
   "id": "8260f7ec",
   "metadata": {},
   "outputs": [],
   "source": [
    "#Operators are geerally used to perform operations on values and variables in python\n",
    "#The value that operator operates on is called operand\n",
    "\n",
    "#ARITHMETIC OPERATORS: +, -, *,/, %, **\n",
    "\n",
    "#COMPARISON OPERATORS: ==, !=,>,<, <=, >=,\n",
    "\n",
    "#ASSIGNMENT OPERATORS: =,+=, -=, *=, **=, %=, //=\n",
    "\n",
    "#lOGICAL OPERATORS: AND, OR, NOT\n",
    "\n",
    "#BITWISE OPERATORS: &, |. <<, >>, ~ ,^\n",
    "  #IT ACTS ON BITS AND PERFORMS BIT BY BIT OPERATIONS\n",
    "#     << -- bitwise left shift\n",
    "#     >> -- bitwise right shift\n",
    "#     ~ -- bitwise not\n",
    "#     ^ -- bitwise xor   ----if same value output will be '0' otherwise 1\n",
    "\n",
    "#IDENTITY OPERATORS: IS, IS NOT \n",
    "  #USED TO CHECK IF TWO VALUES ARE LOCATED ON SAME PART OF THE MEMORY\n",
    "  #TWO VARIABLES THAT ARE EQUAL DOES NOT IMPLY THEY ARE IDENTICAL\n",
    "\n",
    "#MEMBERSHIP OPERATORS: IN, NOT IN\n",
    "  #USED TO TEST WHEATHER A VARIABLE OR VALUE IS IN A SEQUENCE\n",
    "\n",
    "#THERE IS NO INCREMENT AND DECREMENT OPERATORS IN PYTHON (NO ++, --)"
   ]
  },
  {
   "cell_type": "code",
   "execution_count": 2,
   "id": "915994b2",
   "metadata": {},
   "outputs": [
    {
     "name": "stdout",
     "output_type": "stream",
     "text": [
      "2\n",
      "False\n"
     ]
    }
   ],
   "source": [
    "x= 10\n",
    "y = 4\n",
    "print(x//y) # floor divison returns whole number\n",
    "\n",
    "#not operator\n",
    "print(not(x>2 and y>2))"
   ]
  },
  {
   "cell_type": "code",
   "execution_count": 3,
   "id": "46a8bfd0",
   "metadata": {},
   "outputs": [
    {
     "name": "stdout",
     "output_type": "stream",
     "text": [
      "False\n",
      "True\n",
      "1521931484336\n",
      "1521931485136\n"
     ]
    }
   ],
   "source": [
    "#IDENTITY OPERATORS (is , is not)\n",
    "x = 505\n",
    "y = 500 + 5\n",
    "\n",
    "\n",
    "print(x is y)  # x and y has equal values but returns false cause they are not referencing to the same object\n",
    "print(x is not y)\n",
    "\n",
    "#This can be verified by id fn\n",
    "print(id(x))\n",
    "print(id(y))"
   ]
  },
  {
   "cell_type": "code",
   "execution_count": 15,
   "id": "21f7ece6",
   "metadata": {},
   "outputs": [
    {
     "name": "stdout",
     "output_type": "stream",
     "text": [
      "True\n",
      "False\n",
      "True\n",
      "True\n"
     ]
    }
   ],
   "source": [
    "#MEMBERSHIP OPERATORS(in , not in)\n",
    "a = [5,6,3,7,1,9]\n",
    "b = [4, 'python', 2, 7, 'Learn', 9]\n",
    "\n",
    "print(5 in a)\n",
    "print(55 in a)\n",
    "print(4 in b)\n",
    "print('python' in b)"
   ]
  },
  {
   "cell_type": "code",
   "execution_count": 4,
   "id": "f55ba3e6",
   "metadata": {},
   "outputs": [
    {
     "name": "stdout",
     "output_type": "stream",
     "text": [
      "True\n",
      "False\n"
     ]
    }
   ],
   "source": [
    "y = {'a':'India', 'b':'usa'}  # ''\n",
    "print('a' in y)\n",
    "print('India' in y)  # returns false cause membership operator doesnt work on values. It works only on keys in a dictionary"
   ]
  },
  {
   "cell_type": "code",
   "execution_count": 9,
   "id": "87a37ccd",
   "metadata": {},
   "outputs": [
    {
     "name": "stdout",
     "output_type": "stream",
     "text": [
      "2\n",
      "15\n",
      "12\n"
     ]
    }
   ],
   "source": [
    "#BITWISE OPERATOR\n",
    "print(7 & 2)\n",
    "print(10 |5 )\n",
    "print(4 | 8)"
   ]
  },
  {
   "cell_type": "code",
   "execution_count": 1,
   "id": "bab3006e",
   "metadata": {},
   "outputs": [],
   "source": [
    "# Xor\n",
    "# 00 1\n",
    "# 01 0\n",
    "# 10 0\n",
    "# 11 1\n",
    "\n",
    "# bitwise left shift(<<)\n",
    "# eg: 1010<<2\n",
    "# after one time left shift  10100\n",
    "# after two times left shift 101000\n",
    "\n",
    "# a*2*no of shifts      a is the decimal value of input\n",
    "\n",
    "# bitwise right shift\n",
    "# eg:1010>>2\n",
    "# after one time right shift  0101\n",
    "# after two times right shift 0010\n",
    "\n",
    "# a*n/2     a is the decimal value of input\n",
    "#           n is the no of shifts\n"
   ]
  },
  {
   "cell_type": "code",
   "execution_count": 10,
   "id": "84f225e2",
   "metadata": {},
   "outputs": [
    {
     "name": "stdout",
     "output_type": "stream",
     "text": [
      "0b101000\n",
      "0b10\n"
     ]
    }
   ],
   "source": [
    "a=0b1010<<2\n",
    "print(bin(a))\n",
    "\n",
    "b=0b1010>>2\n",
    "print(bin(b))"
   ]
  },
  {
   "cell_type": "code",
   "execution_count": null,
   "id": "9a64070c",
   "metadata": {},
   "outputs": [],
   "source": []
  }
 ],
 "metadata": {
  "kernelspec": {
   "display_name": "Python 3 (ipykernel)",
   "language": "python",
   "name": "python3"
  },
  "language_info": {
   "codemirror_mode": {
    "name": "ipython",
    "version": 3
   },
   "file_extension": ".py",
   "mimetype": "text/x-python",
   "name": "python",
   "nbconvert_exporter": "python",
   "pygments_lexer": "ipython3",
   "version": "3.12.1"
  }
 },
 "nbformat": 4,
 "nbformat_minor": 5
}
