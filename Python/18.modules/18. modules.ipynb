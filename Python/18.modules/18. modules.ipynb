{
 "cells": [
  {
   "cell_type": "code",
   "execution_count": 1,
   "id": "ae5fde9f",
   "metadata": {},
   "outputs": [],
   "source": [
    "#Python module is a simple python file with .py extension including the statements and definitions\n",
    "#It contains code that you can reuse in several programs\n",
    "\n",
    "# Eg: demo.py is a module and its module name is demo\n",
    "\n",
    "# why\n",
    "#to organise the code in a logical way, to reuse the code and helps in debugging the code easily\n",
    "\n",
    "\n",
    "#There are two types of python modules\n",
    "# 1. Built-in modules  -- predefined modules that are a part of python standard library\n",
    "# 2.user-defined modules -- defined by user to ease complex tasks\n",
    "\n",
    "#Different ways to import python modules\n",
    "#syntax\n",
    "# import module module_name\n",
    "#syntax\n",
    "# import module module_name as alias_name\n",
    "#syntax\n",
    "# from module_name import var_name,f_name, class_name.....\n",
    "#syntax\n",
    "# from module_name import address as alias_address\n",
    "#syntax\n",
    "# from module_name import *"
   ]
  },
  {
   "cell_type": "code",
   "execution_count": null,
   "id": "e78ebc9b",
   "metadata": {},
   "outputs": [],
   "source": [
    "#A module is basically a bunch of related code saved in a file with the \n",
    "#extension .py\n",
    "#Python packages are basically a directory of a collection of modules.\n",
    "#a package is a collection of modules, a library is a collection of packages."
   ]
  },
  {
   "cell_type": "code",
   "execution_count": 5,
   "id": "689241c2",
   "metadata": {},
   "outputs": [
    {
     "name": "stdout",
     "output_type": "stream",
     "text": [
      "6\n",
      "5000\n",
      "90\n",
      "The strings are anagrams\n",
      "None\n"
     ]
    },
    {
     "data": {
      "text/plain": [
       "['__builtins__',\n",
       " '__cached__',\n",
       " '__doc__',\n",
       " '__file__',\n",
       " '__loader__',\n",
       " '__name__',\n",
       " '__package__',\n",
       " '__spec__',\n",
       " 'add',\n",
       " 'checkAnagram',\n",
       " 'div',\n",
       " 'multi',\n",
       " 'y']"
      ]
     },
     "execution_count": 5,
     "metadata": {},
     "output_type": "execute_result"
    }
   ],
   "source": [
    "import calculations\n",
    "\n",
    "print(calculations.y)\n",
    "print(calculations.multi(100,50))\n",
    "print(calculations.add(50,40))\n",
    "print(calculations.checkAnagram(\"hello\", \"hello\"))\n",
    "dir(calculations)"
   ]
  },
  {
   "cell_type": "code",
   "execution_count": 1,
   "id": "636c751e",
   "metadata": {},
   "outputs": [
    {
     "ename": "NameError",
     "evalue": "name 'calculations' is not defined",
     "output_type": "error",
     "traceback": [
      "\u001b[1;31m---------------------------------------------------------------------------\u001b[0m",
      "\u001b[1;31mNameError\u001b[0m                                 Traceback (most recent call last)",
      "Cell \u001b[1;32mIn[1], line 1\u001b[0m\n\u001b[1;32m----> 1\u001b[0m a1 \u001b[38;5;241m=\u001b[39m \u001b[43mcalculations\u001b[49m\u001b[38;5;241m.\u001b[39madd\n\u001b[0;32m      2\u001b[0m \u001b[38;5;28mprint\u001b[39m(a1)\n\u001b[0;32m      3\u001b[0m x \u001b[38;5;241m=\u001b[39m a1(\u001b[38;5;241m5\u001b[39m,\u001b[38;5;241m4\u001b[39m)\n",
      "\u001b[1;31mNameError\u001b[0m: name 'calculations' is not defined"
     ]
    }
   ],
   "source": [
    "a1 = calculations.add\n",
    "print(a1)\n",
    "x = a1(5,4)\n",
    "x"
   ]
  },
  {
   "cell_type": "code",
   "execution_count": 11,
   "id": "08dbad5f",
   "metadata": {},
   "outputs": [
    {
     "data": {
      "text/plain": [
       "10"
      ]
     },
     "execution_count": 11,
     "metadata": {},
     "output_type": "execute_result"
    }
   ],
   "source": [
    "# import\n",
    "from calculations import add\n",
    "add(5,5)"
   ]
  },
  {
   "cell_type": "code",
   "execution_count": 7,
   "id": "7eb64157",
   "metadata": {},
   "outputs": [
    {
     "data": {
      "text/plain": [
       "50"
      ]
     },
     "execution_count": 7,
     "metadata": {},
     "output_type": "execute_result"
    }
   ],
   "source": [
    "#import as \n",
    "import calculations as cal\n",
    "cal.add(20,30)"
   ]
  },
  {
   "cell_type": "code",
   "execution_count": 9,
   "id": "e2e519ed",
   "metadata": {},
   "outputs": [
    {
     "name": "stdout",
     "output_type": "stream",
     "text": [
      "The strings are not anagrams\n",
      "None\n"
     ]
    }
   ],
   "source": [
    "print(cal.checkAnagram('hello', 'world'))"
   ]
  },
  {
   "cell_type": "code",
   "execution_count": 15,
   "id": "f0f884bb",
   "metadata": {},
   "outputs": [
    {
     "name": "stdout",
     "output_type": "stream",
     "text": [
      "The strings are not anagrams\n",
      "None\n",
      "6\n",
      "5000\n",
      "90\n"
     ]
    }
   ],
   "source": [
    "#\n",
    "from calculations import add, multi, checkAnagram\n",
    "\n",
    "print(checkAnagram('hello', 'world'))\n",
    "print(y)\n",
    "print(multi(100,50))\n",
    "print(calculations.add(50,40))"
   ]
  },
  {
   "cell_type": "code",
   "execution_count": 16,
   "id": "795348a6",
   "metadata": {},
   "outputs": [
    {
     "name": "stdout",
     "output_type": "stream",
     "text": [
      "7\n"
     ]
    }
   ],
   "source": [
    "#\n",
    "from calculations import *\n",
    "print(add(3,4))"
   ]
  },
  {
   "cell_type": "code",
   "execution_count": 17,
   "id": "27bc323b",
   "metadata": {},
   "outputs": [
    {
     "name": "stdout",
     "output_type": "stream",
     "text": [
      "['__builtins__', '__cached__', '__doc__', '__file__', '__loader__', '__name__', '__package__', '__spec__', 'add', 'checkAnagram', 'div', 'multi', 'y']\n"
     ]
    }
   ],
   "source": [
    "import calculations\n",
    "print(dir(calculations)) #shows all the fns, variavbles as part of the python file\n",
    "                         #and inbuilt packages which are there in python file"
   ]
  },
  {
   "cell_type": "code",
   "execution_count": 18,
   "id": "df008945",
   "metadata": {},
   "outputs": [
    {
     "name": "stdout",
     "output_type": "stream",
     "text": [
      "['__doc__', '__loader__', '__name__', '__package__', '__spec__', 'acos', 'acosh', 'asin', 'asinh', 'atan', 'atan2', 'atanh', 'cbrt', 'ceil', 'comb', 'copysign', 'cos', 'cosh', 'degrees', 'dist', 'e', 'erf', 'erfc', 'exp', 'exp2', 'expm1', 'fabs', 'factorial', 'floor', 'fmod', 'frexp', 'fsum', 'gamma', 'gcd', 'hypot', 'inf', 'isclose', 'isfinite', 'isinf', 'isnan', 'isqrt', 'lcm', 'ldexp', 'lgamma', 'log', 'log10', 'log1p', 'log2', 'modf', 'nan', 'nextafter', 'perm', 'pi', 'pow', 'prod', 'radians', 'remainder', 'sin', 'sinh', 'sqrt', 'tan', 'tanh', 'tau', 'trunc', 'ulp']\n"
     ]
    }
   ],
   "source": [
    "#buit-in modules\n",
    "\n",
    "import math\n",
    "print(dir(math))"
   ]
  },
  {
   "cell_type": "code",
   "execution_count": 22,
   "id": "50cb0464",
   "metadata": {},
   "outputs": [
    {
     "name": "stdout",
     "output_type": "stream",
     "text": [
      "16.0\n"
     ]
    }
   ],
   "source": [
    "print(math.pow(2,4))"
   ]
  },
  {
   "cell_type": "code",
   "execution_count": 11,
   "id": "25a5ee3f",
   "metadata": {},
   "outputs": [],
   "source": [
    "import datetime"
   ]
  },
  {
   "cell_type": "code",
   "execution_count": 20,
   "id": "57057dbe",
   "metadata": {},
   "outputs": [
    {
     "name": "stdout",
     "output_type": "stream",
     "text": [
      "2023-07-22\n"
     ]
    }
   ],
   "source": [
    "print(datetime.date.today())"
   ]
  },
  {
   "cell_type": "code",
   "execution_count": 22,
   "id": "33cbcc80",
   "metadata": {},
   "outputs": [
    {
     "name": "stdout",
     "output_type": "stream",
     "text": [
      "Samsung\n"
     ]
    }
   ],
   "source": [
    "import random\n",
    "l1 = ['Apple', 'xiaomi', 'Samsung', 'oneplus']\n",
    "choose = random.choice(l1)\n",
    "print(choose)"
   ]
  },
  {
   "cell_type": "code",
   "execution_count": null,
   "id": "60cace11",
   "metadata": {},
   "outputs": [],
   "source": []
  }
 ],
 "metadata": {
  "kernelspec": {
   "display_name": "Python 3 (ipykernel)",
   "language": "python",
   "name": "python3"
  },
  "language_info": {
   "codemirror_mode": {
    "name": "ipython",
    "version": 3
   },
   "file_extension": ".py",
   "mimetype": "text/x-python",
   "name": "python",
   "nbconvert_exporter": "python",
   "pygments_lexer": "ipython3",
   "version": "3.11.2"
  }
 },
 "nbformat": 4,
 "nbformat_minor": 5
}
