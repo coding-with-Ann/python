{
 "cells": [
  {
   "cell_type": "code",
   "execution_count": 2,
   "id": "f5443a1a",
   "metadata": {},
   "outputs": [],
   "source": [
    "#we will write sql queries in jupyter notebook with python like syntax\n",
    "\n",
    "#import libraries\n",
    "\n",
    "import mysql.connector\n",
    "from mysql.connector import Error\n",
    "import pandas as pd"
   ]
  },
  {
   "cell_type": "code",
   "execution_count": 3,
   "id": "fa2aa9d1",
   "metadata": {},
   "outputs": [
    {
     "name": "stdout",
     "output_type": "stream",
     "text": [
      "MySql Database connection successful\n"
     ]
    }
   ],
   "source": [
    "#going to create a function that will help us create a server connection\n",
    "\n",
    "def create_server_connection(host_name, user_name, user_password):\n",
    "    connection = None\n",
    "    try:                                    # we will be using exception handling techniques to connect to our mysql server\n",
    "        connection = mysql.connector.connect(\n",
    "            host = host_name,                   #mysql.connector.connect sets up a connection.It establishes a session with mysql server \n",
    "            user = user_name,                   #if no arguments are passed, it uses the already configured or default values.\n",
    "            passwd = user_password\n",
    "        )\n",
    "        print(\"MySql Database connection successful\")\n",
    "    except Error as err:\n",
    "        print(f\"Error: '{err}'\")\n",
    "    return connection\n",
    "              \n",
    "#put our mysql terminal password\n",
    "pw = \"Learn@123\"\n",
    "\n",
    "#Database name \n",
    "db = \"mysql_python\"\n",
    "connection = create_server_connection(\"localhost\", \"root\", pw)\n",
    "        "
   ]
  },
  {
   "cell_type": "code",
   "execution_count": 11,
   "id": "4c0d1fbf",
   "metadata": {},
   "outputs": [
    {
     "name": "stdout",
     "output_type": "stream",
     "text": [
      "Error:'1007 (HY000): Can't create database 'mysql_python'; database exists'\n"
     ]
    }
   ],
   "source": [
    "#to create database mysql_python\n",
    "#to create this database we will create another user defined function\n",
    "def create_database(connection, query):\n",
    "    cursor = connection.cursor()        #this mysql cursor of mysql connector python is used to execute statements to communicate with mysql database\n",
    "                                        #(used to execute statements of mysql using python language). \n",
    "                                        #mysql cursor class initiates objects that can execute operations such as mysql statements\n",
    "    try:\n",
    "        cursor.execute(query)\n",
    "        print(\"Database created successfully\")\n",
    "    except Error as err:\n",
    "        print(f\"Error:'{err}'\")\n",
    "create_database_query = \"create database mysql_python\"\n",
    "create_database(connection,create_database_query)"
   ]
  },
  {
   "cell_type": "code",
   "execution_count": 4,
   "id": "33b3bfe2",
   "metadata": {},
   "outputs": [],
   "source": [
    "#connect to database\n",
    "def create_db_connection(host_name, user_name, user_password, db_name):\n",
    "    connection = None\n",
    "    try:\n",
    "        connection = mysql.connector.connect(\n",
    "            host = host_name,\n",
    "            user = user_name,\n",
    "            passwd = user_password,\n",
    "            database = db_name)\n",
    "        print(\"MySql database connection successful\")\n",
    "    except Error as err:\n",
    "        print(f\"Error:'{err}'\")\n",
    "    return connection"
   ]
  },
  {
   "cell_type": "code",
   "execution_count": 5,
   "id": "0ec711fe",
   "metadata": {},
   "outputs": [],
   "source": [
    "#Execute sql queries\n",
    "def execute_query(connection, query):\n",
    "    cursor = connection.cursor()\n",
    "    try:\n",
    "        cursor.execute(query)\n",
    "        connection.commit()\n",
    "        print(\"Query was successful\")\n",
    "    except Error as err:\n",
    "        print(f\"Error: '{err}'\")"
   ]
  },
  {
   "cell_type": "code",
   "execution_count": 24,
   "id": "2a71b74d",
   "metadata": {},
   "outputs": [
    {
     "name": "stdout",
     "output_type": "stream",
     "text": [
      "MySql database connection successful\n",
      "Query was successful\n"
     ]
    }
   ],
   "source": [
    "#to create first table in mysql_python database\n",
    "#we will assign our sql command to a python variable using \"\"\" to create a multiLine stream\n",
    "#\"\"\" will ensure i can create my multi line stream. Inside the \"\"\" we will write create table commnad\n",
    "create_orders_table = \"\"\"\n",
    "create table orders(order_id int primary key,\n",
    "customer_name varchar(30) not null,\n",
    "product_name varchar(20) not null,\n",
    "date_orderd date,\n",
    "quantity int,\n",
    "unit_price float,\n",
    "phone varchar(20));\n",
    "\"\"\"\n",
    "#to run this we call our create_db function\n",
    "#connect to database\n",
    "connection = create_db_connection(\"localhost\", \"root\", pw, db)\n",
    "execute_query(connection, create_orders_table)\n"
   ]
  },
  {
   "cell_type": "code",
   "execution_count": 6,
   "id": "6e47b585",
   "metadata": {},
   "outputs": [
    {
     "name": "stdout",
     "output_type": "stream",
     "text": [
      "MySql database connection successful\n",
      "Query was successful\n"
     ]
    }
   ],
   "source": [
    "#Insert records into table\n",
    "\n",
    "data_orders = \"\"\"\n",
    "insert into orders values\n",
    "(101, \"steve\", \"Laptop\", '2018-06-12', 2, 800, 6293730802),\n",
    "(102, \"Jos\" , \"books\", '2019-02-10',10,12,8976543210),\n",
    "(103, \"Stacy\", \"Trousers\", '2019-12-25', 5, 50, 876548976),\n",
    "(104, \"Nancy\", \"T-Shirts\", '2020-01-20', 4, 100, 7897673636),\n",
    "(105, \"Maria\", \"Headphones\", '2021-02-25', 3, 200, 959395738),\n",
    "(106, 'Dany', 'Smart Tv', '2022-08-20', 10, 300, 7493746593);\n",
    "\"\"\"\n",
    "connection = create_db_connection(\"localhost\", \"root\", pw, db)\n",
    "execute_query(connection, data_orders)"
   ]
  },
  {
   "cell_type": "code",
   "execution_count": 8,
   "id": "4e003cb7",
   "metadata": {},
   "outputs": [],
   "source": [
    "#to read query and display results\n",
    "\n",
    "def read_query(connection, query):\n",
    "    cursor = connection.cursor()\n",
    "    result = None\n",
    "    try:\n",
    "        cursor.execute(query)\n",
    "        result = cursor.fetchall()\n",
    "        return result\n",
    "    except Error as err:\n",
    "        print(f\"Error: '{err}'\")\n",
    "    "
   ]
  },
  {
   "cell_type": "code",
   "execution_count": 9,
   "id": "ab066335",
   "metadata": {},
   "outputs": [
    {
     "name": "stdout",
     "output_type": "stream",
     "text": [
      "MySql database connection successful\n",
      "(101, 'steve', 'Laptop', datetime.date(2018, 6, 12), 2, 800.0, '6293730802')\n",
      "(102, 'Jos', 'books', datetime.date(2019, 2, 10), 10, 12.0, '8976543210')\n",
      "(103, 'Stacy', 'Trousers', datetime.date(2019, 12, 25), 5, 50.0, '876548976')\n",
      "(104, 'Nancy', 'T-Shirts', datetime.date(2020, 1, 20), 4, 100.0, '7897673636')\n",
      "(105, 'Maria', 'Headphones', datetime.date(2021, 2, 25), 3, 200.0, '959395738')\n",
      "(106, 'Dany', 'Smart Tv', datetime.date(2022, 8, 20), 10, 300.0, '7493746593')\n"
     ]
    }
   ],
   "source": [
    "#using select statement\n",
    "\n",
    "q1 = \"\"\"\n",
    "select * from orders;\n",
    "\"\"\"\n",
    "connection = create_db_connection(\"localhost\", \"root\", pw, db)\n",
    "results = read_query(connection, q1)\n",
    "for result in results:\n",
    "    print(result)"
   ]
  },
  {
   "cell_type": "code",
   "execution_count": 10,
   "id": "147cdfaa",
   "metadata": {},
   "outputs": [
    {
     "name": "stdout",
     "output_type": "stream",
     "text": [
      "MySql database connection successful\n",
      "('steve', '6293730802')\n",
      "('Jos', '8976543210')\n",
      "('Stacy', '876548976')\n",
      "('Nancy', '7897673636')\n",
      "('Maria', '959395738')\n",
      "('Dany', '7493746593')\n"
     ]
    }
   ],
   "source": [
    "q2 = \"\"\"\n",
    "select customer_name, phone from orders;\n",
    "\"\"\"\n",
    "connection = create_db_connection(\"localhost\", \"root\", pw, db)\n",
    "results = read_query(connection, q2)\n",
    "for result in results:\n",
    "    print(result)"
   ]
  },
  {
   "cell_type": "code",
   "execution_count": 12,
   "id": "b89ec10a",
   "metadata": {},
   "outputs": [
    {
     "name": "stdout",
     "output_type": "stream",
     "text": [
      "MySql database connection successful\n",
      "(2018,)\n",
      "(2019,)\n",
      "(2019,)\n",
      "(2020,)\n",
      "(2021,)\n",
      "(2022,)\n"
     ]
    }
   ],
   "source": [
    "q3 = \"\"\"\n",
    "select year(date_orderd) from orders;\n",
    "\"\"\"\n",
    "connection = create_db_connection(\"localhost\", \"root\", pw, db)\n",
    "results = read_query(connection, q3)\n",
    "for result in results:\n",
    "    print(result)"
   ]
  },
  {
   "cell_type": "code",
   "execution_count": 13,
   "id": "fdd47449",
   "metadata": {},
   "outputs": [
    {
     "name": "stdout",
     "output_type": "stream",
     "text": [
      "MySql database connection successful\n",
      "(2018,)\n",
      "(2019,)\n",
      "(2020,)\n",
      "(2021,)\n",
      "(2022,)\n"
     ]
    }
   ],
   "source": [
    "q4 = \"\"\"\n",
    "select distinct year(date_orderd) from orders;\n",
    "\"\"\"\n",
    "connection = create_db_connection(\"localhost\", \"root\", pw, db)\n",
    "results = read_query(connection, q4)\n",
    "for result in results:\n",
    "    print(result)"
   ]
  },
  {
   "cell_type": "code",
   "execution_count": 14,
   "id": "a98b95d7",
   "metadata": {},
   "outputs": [
    {
     "name": "stdout",
     "output_type": "stream",
     "text": [
      "MySql database connection successful\n",
      "(2018,)\n",
      "(2019,)\n",
      "(2020,)\n",
      "(2021,)\n",
      "(2022,)\n"
     ]
    }
   ],
   "source": [
    "q5 = \"\"\"\n",
    "select * from orders where date_orderd <2018-12-31;\n",
    "\"\"\"\n",
    "connection = create_db_connection(\"localhost\", \"root\", pw, db)\n",
    "results = read_query(connection, q4)\n",
    "for result in results:\n",
    "    print(result)"
   ]
  },
  {
   "cell_type": "code",
   "execution_count": 15,
   "id": "125e6d49",
   "metadata": {},
   "outputs": [
    {
     "name": "stdout",
     "output_type": "stream",
     "text": [
      "MySql database connection successful\n",
      "(102, 'Jos', 'books', datetime.date(2019, 2, 10), 10, 12.0, '8976543210')\n",
      "(103, 'Stacy', 'Trousers', datetime.date(2019, 12, 25), 5, 50.0, '876548976')\n",
      "(104, 'Nancy', 'T-Shirts', datetime.date(2020, 1, 20), 4, 100.0, '7897673636')\n",
      "(105, 'Maria', 'Headphones', datetime.date(2021, 2, 25), 3, 200.0, '959395738')\n",
      "(106, 'Dany', 'Smart Tv', datetime.date(2022, 8, 20), 10, 300.0, '7493746593')\n",
      "(101, 'steve', 'Laptop', datetime.date(2018, 6, 12), 2, 800.0, '6293730802')\n"
     ]
    }
   ],
   "source": [
    "q6 = \"\"\"\n",
    "select * from orders order by unit_price;\n",
    "\"\"\"\n",
    "connection = create_db_connection(\"localhost\", \"root\", pw, db)\n",
    "results = read_query(connection, q6)\n",
    "for result in results:\n",
    "    print(result)"
   ]
  },
  {
   "cell_type": "code",
   "execution_count": 18,
   "id": "cf9b0bb8",
   "metadata": {},
   "outputs": [
    {
     "data": {
      "text/html": [
       "<div>\n",
       "<style scoped>\n",
       "    .dataframe tbody tr th:only-of-type {\n",
       "        vertical-align: middle;\n",
       "    }\n",
       "\n",
       "    .dataframe tbody tr th {\n",
       "        vertical-align: top;\n",
       "    }\n",
       "\n",
       "    .dataframe thead th {\n",
       "        text-align: right;\n",
       "    }\n",
       "</style>\n",
       "<table border=\"1\" class=\"dataframe\">\n",
       "  <thead>\n",
       "    <tr style=\"text-align: right;\">\n",
       "      <th></th>\n",
       "      <th>order_id</th>\n",
       "      <th>customer_name</th>\n",
       "      <th>product_name</th>\n",
       "      <th>date_orderd</th>\n",
       "      <th>quantity</th>\n",
       "      <th>unit_price</th>\n",
       "      <th>phone</th>\n",
       "    </tr>\n",
       "  </thead>\n",
       "  <tbody>\n",
       "    <tr>\n",
       "      <th>0</th>\n",
       "      <td>102</td>\n",
       "      <td>Jos</td>\n",
       "      <td>books</td>\n",
       "      <td>2019-02-10</td>\n",
       "      <td>10</td>\n",
       "      <td>12.0</td>\n",
       "      <td>8976543210</td>\n",
       "    </tr>\n",
       "    <tr>\n",
       "      <th>1</th>\n",
       "      <td>103</td>\n",
       "      <td>Stacy</td>\n",
       "      <td>Trousers</td>\n",
       "      <td>2019-12-25</td>\n",
       "      <td>5</td>\n",
       "      <td>50.0</td>\n",
       "      <td>876548976</td>\n",
       "    </tr>\n",
       "    <tr>\n",
       "      <th>2</th>\n",
       "      <td>104</td>\n",
       "      <td>Nancy</td>\n",
       "      <td>T-Shirts</td>\n",
       "      <td>2020-01-20</td>\n",
       "      <td>4</td>\n",
       "      <td>100.0</td>\n",
       "      <td>7897673636</td>\n",
       "    </tr>\n",
       "    <tr>\n",
       "      <th>3</th>\n",
       "      <td>105</td>\n",
       "      <td>Maria</td>\n",
       "      <td>Headphones</td>\n",
       "      <td>2021-02-25</td>\n",
       "      <td>3</td>\n",
       "      <td>200.0</td>\n",
       "      <td>959395738</td>\n",
       "    </tr>\n",
       "    <tr>\n",
       "      <th>4</th>\n",
       "      <td>106</td>\n",
       "      <td>Dany</td>\n",
       "      <td>Smart Tv</td>\n",
       "      <td>2022-08-20</td>\n",
       "      <td>10</td>\n",
       "      <td>300.0</td>\n",
       "      <td>7493746593</td>\n",
       "    </tr>\n",
       "    <tr>\n",
       "      <th>5</th>\n",
       "      <td>101</td>\n",
       "      <td>steve</td>\n",
       "      <td>Laptop</td>\n",
       "      <td>2018-06-12</td>\n",
       "      <td>2</td>\n",
       "      <td>800.0</td>\n",
       "      <td>6293730802</td>\n",
       "    </tr>\n",
       "  </tbody>\n",
       "</table>\n",
       "</div>"
      ],
      "text/plain": [
       "   order_id customer_name product_name date_orderd  quantity  unit_price  \\\n",
       "0       102           Jos        books  2019-02-10        10        12.0   \n",
       "1       103         Stacy     Trousers  2019-12-25         5        50.0   \n",
       "2       104         Nancy     T-Shirts  2020-01-20         4       100.0   \n",
       "3       105         Maria   Headphones  2021-02-25         3       200.0   \n",
       "4       106          Dany     Smart Tv  2022-08-20        10       300.0   \n",
       "5       101         steve       Laptop  2018-06-12         2       800.0   \n",
       "\n",
       "        phone  \n",
       "0  8976543210  \n",
       "1   876548976  \n",
       "2  7897673636  \n",
       "3   959395738  \n",
       "4  7493746593  \n",
       "5  6293730802  "
      ]
     },
     "metadata": {},
     "output_type": "display_data"
    }
   ],
   "source": [
    "#create a data frame from a given table\n",
    "#using pandas and jupyter notebook we can create data frames\n",
    "from_db = [] #empty list\n",
    "#we are going to create a list of lists and then create a pandas data frame\n",
    "for result in results:\n",
    "    result = list(result)\n",
    "    from_db.append(result)\n",
    "columns = [\"order_id\", \"customer_name\", \"product_name\", \"date_orderd\", \"quantity\",\n",
    "           \"unit_price\",\"phone\"]\n",
    "df = pd.DataFrame(from_db, columns = columns)\n",
    "display(df)"
   ]
  },
  {
   "cell_type": "code",
   "execution_count": 20,
   "id": "3f07ad18",
   "metadata": {},
   "outputs": [
    {
     "name": "stdout",
     "output_type": "stream",
     "text": [
      "MySql database connection successful\n",
      "Query was successful\n"
     ]
    }
   ],
   "source": [
    "#Update command\n",
    "#to change unit price of one of the orders we can use update command\n",
    "update = \"\"\" \n",
    "update orders\n",
    "set unit_price = 45 \n",
    "where order_id = 103;\n",
    "\"\"\"\n",
    "connection = create_db_connection(\"localhost\", \"root\", pw, db)\n",
    "execute_query(connection, update)"
   ]
  },
  {
   "cell_type": "code",
   "execution_count": 21,
   "id": "b0501d97",
   "metadata": {},
   "outputs": [
    {
     "name": "stdout",
     "output_type": "stream",
     "text": [
      "MySql database connection successful\n",
      "(103, 'Stacy', 'Trousers', datetime.date(2019, 12, 25), 5, 45.0, '876548976')\n"
     ]
    }
   ],
   "source": [
    "q7 = \"\"\"\n",
    "select * from orders where order_id = 103;\n",
    "\"\"\"\n",
    "connection = create_db_connection(\"localhost\", \"root\", pw, db)\n",
    "results = read_query(connection, q7)\n",
    "for result in results:\n",
    "    print(result)"
   ]
  },
  {
   "cell_type": "code",
   "execution_count": 22,
   "id": "e0541204",
   "metadata": {},
   "outputs": [
    {
     "name": "stdout",
     "output_type": "stream",
     "text": [
      "MySql database connection successful\n",
      "Query was successful\n"
     ]
    }
   ],
   "source": [
    "#Delete a record\n",
    "delete_order = \"\"\"\n",
    "delete from orders\n",
    "where order_id = 105;\n",
    "\"\"\"\n",
    "connection = create_db_connection(\"localhost\", \"root\", pw, db)\n",
    "execute_query(connection, delete_order)"
   ]
  },
  {
   "cell_type": "code",
   "execution_count": 23,
   "id": "4bd3de0f",
   "metadata": {},
   "outputs": [
    {
     "name": "stdout",
     "output_type": "stream",
     "text": [
      "MySql database connection successful\n",
      "(101, 'steve', 'Laptop', datetime.date(2018, 6, 12), 2, 800.0, '6293730802')\n",
      "(102, 'Jos', 'books', datetime.date(2019, 2, 10), 10, 12.0, '8976543210')\n",
      "(103, 'Stacy', 'Trousers', datetime.date(2019, 12, 25), 5, 45.0, '876548976')\n",
      "(104, 'Nancy', 'T-Shirts', datetime.date(2020, 1, 20), 4, 100.0, '7897673636')\n",
      "(106, 'Dany', 'Smart Tv', datetime.date(2022, 8, 20), 10, 300.0, '7493746593')\n"
     ]
    }
   ],
   "source": [
    "q8 = \"\"\"\n",
    "select * from orders;\n",
    "\"\"\"\n",
    "connection = create_db_connection(\"localhost\", \"root\", pw, db)\n",
    "results = read_query(connection, q8)\n",
    "for result in results:\n",
    "    print(result)"
   ]
  }
 ],
 "metadata": {
  "kernelspec": {
   "display_name": "Python 3 (ipykernel)",
   "language": "python",
   "name": "python3"
  },
  "language_info": {
   "codemirror_mode": {
    "name": "ipython",
    "version": 3
   },
   "file_extension": ".py",
   "mimetype": "text/x-python",
   "name": "python",
   "nbconvert_exporter": "python",
   "pygments_lexer": "ipython3",
   "version": "3.11.2"
  }
 },
 "nbformat": 4,
 "nbformat_minor": 5
}
