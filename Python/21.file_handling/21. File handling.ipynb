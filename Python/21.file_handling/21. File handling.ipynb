{
 "cells": [
  {
   "cell_type": "code",
   "execution_count": null,
   "id": "1d5100f9",
   "metadata": {},
   "outputs": [],
   "source": [
    "#File handling in python performs functions such as creating, reading, updating and deleting files\n",
    "\n",
    "#file operation takes place in following order\n",
    "#open a file\n",
    "#read or write (perform operation)\n",
    "#close the file\n",
    "\n",
    "#we can work with files using the open function. It takes two parameters file name, mode.\n",
    "#If we dont give the mode parameter then it takes the default values\n",
    "\n",
    "#modes:\n",
    "#read - 'r' \n",
    "#default values, opens in read mode, error if theres no file\n",
    "\n",
    "#write - 'w'\n",
    "#open a file for writing. creates the file if file doesnt exist\n",
    "\n",
    "#append - 'a'\n",
    "#opens a file for appending, creates the file if it doesnt exist\n",
    "\n",
    "#create - 'x'\n",
    "# creates a specific file, returns an error if file already exists\n",
    "\n",
    "#text -'t'\n",
    "# default value, text mode\n",
    "\n",
    "#binary - 'b'\n",
    "# Binary mode(eg: images)\n",
    "\n",
    "#by default when we open a file in python we are opening it in read text mode\n",
    "\n",
    "\n",
    "#There are two files in python, text file and binary file\n",
    "#Text file -- stores the data that has characters and strings\n",
    "#Binary file == stores the data in binary format"
   ]
  },
  {
   "cell_type": "code",
   "execution_count": 1,
   "id": "43f58e56",
   "metadata": {},
   "outputs": [
    {
     "name": "stdout",
     "output_type": "stream",
     "text": [
      "SaturdaySunday\n"
     ]
    }
   ],
   "source": [
    "# The OS module in Python provides functions for interacting with the operating system. \n",
    "# OS comes under Python’s standard utility modules\n",
    "\n",
    "import os\n",
    "f = open(\"C:/Users/aniru/OneDrive/Documents/ObjectTypes/readMode.txt\", 'r')\n",
    "print(f.read())\n",
    "f.close()"
   ]
  },
  {
   "cell_type": "code",
   "execution_count": 2,
   "id": "d8c81af5",
   "metadata": {},
   "outputs": [
    {
     "name": "stdout",
     "output_type": "stream",
     "text": [
      "Saturda\n"
     ]
    }
   ],
   "source": [
    "import os\n",
    "f = open(\"C:/Users/aniru/OneDrive/Documents/ObjectTypes/readMode.txt\", 'r')\n",
    "print(f.read(7))   #reads first 7 characters from the file\n",
    "f.close()"
   ]
  },
  {
   "cell_type": "code",
   "execution_count": 3,
   "id": "7c8d7cd6",
   "metadata": {},
   "outputs": [
    {
     "name": "stdout",
     "output_type": "stream",
     "text": [
      "SaturdaySunday\n"
     ]
    }
   ],
   "source": [
    "import os\n",
    "f = open(\"C:/Users/aniru/OneDrive/Documents/ObjectTypes/readMode.txt\", 'r')\n",
    "print(f.readline())   #reads one line\n",
    "f.close()"
   ]
  },
  {
   "cell_type": "code",
   "execution_count": 4,
   "id": "76095f79",
   "metadata": {},
   "outputs": [
    {
     "name": "stdout",
     "output_type": "stream",
     "text": [
      "['SaturdaySunday']\n"
     ]
    }
   ],
   "source": [
    "import os\n",
    "f = open(\"C:/Users/aniru/OneDrive/Documents/ObjectTypes/readMode.txt\", 'r')\n",
    "print(f.readlines())   #reads all lines one by one\n",
    "f.close()"
   ]
  },
  {
   "cell_type": "code",
   "execution_count": null,
   "id": "b7228160",
   "metadata": {},
   "outputs": [],
   "source": [
    "import os\n",
    "f = open(\"C:/Users/aniru/OneDrive/Documents/ObjectTypes/readMode.txt\", 'r')\n",
    "print(f.readline(3))   #read 3 characters from first line\n",
    "f.close()"
   ]
  },
  {
   "cell_type": "code",
   "execution_count": 5,
   "id": "18724e63",
   "metadata": {},
   "outputs": [],
   "source": [
    "import os\n",
    "f = open(\"C:/Users/aniru/OneDrive/Documents/ObjectTypes/readMode.txt\", 'w')\n",
    "f.write(\"Saturday\")\n",
    "f.write(\"Sunday\")   #the file will be overridden with these strings\n",
    "f.close() "
   ]
  },
  {
   "cell_type": "code",
   "execution_count": 9,
   "id": "0eea3f01",
   "metadata": {},
   "outputs": [],
   "source": [
    "f = open(\"C:/Users/aniru/OneDrive/Documents/ObjectTypes/create_file.txt\", 'x')\n",
    "f.write(\"we have created a file\")\n",
    "f.close()"
   ]
  },
  {
   "cell_type": "code",
   "execution_count": 7,
   "id": "f52b92b1",
   "metadata": {},
   "outputs": [],
   "source": [
    "import os\n",
    "os.remove(\"C:/Users/aniru/OneDrive/Documents/ObjectTypes/create_file.txt\")"
   ]
  },
  {
   "cell_type": "code",
   "execution_count": 11,
   "id": "31ccc30e",
   "metadata": {},
   "outputs": [
    {
     "name": "stdout",
     "output_type": "stream",
     "text": [
      "file doesnt exist\n"
     ]
    }
   ],
   "source": [
    "import os\n",
    "if os.path.exists(\"C:/Users/aniru/OneDrive/Documents/ObjectTypes/create_file.txt\"):\n",
    "    os.remove(\"C:/Users/aniru/OneDrive/Documents/ObjectTypes/create_file.txt\")\n",
    "else:\n",
    "    print(\"file doesnt exist\")"
   ]
  },
  {
   "cell_type": "code",
   "execution_count": 9,
   "id": "1ec36d2a",
   "metadata": {},
   "outputs": [
    {
     "name": "stdout",
     "output_type": "stream",
     "text": [
      "['this is to read\\n', 'multiple lines using for loop']\n"
     ]
    }
   ],
   "source": [
    "import os\n",
    "f = open(\"C:/Users/aniru/OneDrive/Documents/ObjectTypes/readforloop.txt\", 'r')\n",
    "for line in f:\n",
    "    print(f.readlines())  \n",
    "f.close()"
   ]
  },
  {
   "cell_type": "code",
   "execution_count": 5,
   "id": "4eaec1a0",
   "metadata": {},
   "outputs": [],
   "source": [
    "import os\n",
    "f = open(\"C:/Users/aniru/OneDrive/Documents/ObjectTypes/appendmode.txt\", 'a')\n",
    "f.write(\"Execute append\\n \")\n",
    "f.close()"
   ]
  },
  {
   "cell_type": "code",
   "execution_count": null,
   "id": "9b882f11",
   "metadata": {},
   "outputs": [],
   "source": []
  }
 ],
 "metadata": {
  "kernelspec": {
   "display_name": "Python 3 (ipykernel)",
   "language": "python",
   "name": "python3"
  },
  "language_info": {
   "codemirror_mode": {
    "name": "ipython",
    "version": 3
   },
   "file_extension": ".py",
   "mimetype": "text/x-python",
   "name": "python",
   "nbconvert_exporter": "python",
   "pygments_lexer": "ipython3",
   "version": "3.11.2"
  }
 },
 "nbformat": 4,
 "nbformat_minor": 5
}
