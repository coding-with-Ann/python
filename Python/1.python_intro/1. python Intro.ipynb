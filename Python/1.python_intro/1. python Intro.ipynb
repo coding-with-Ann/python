{
 "cells": [
  {
   "cell_type": "code",
   "execution_count": 2,
   "id": "30b2b2fa",
   "metadata": {},
   "outputs": [],
   "source": [
    "#python is high level oops programing language developed by guido van Rossum in 1989\n",
    "#Python name was taken from a popular BBC comedy show that time\n",
    "\n",
    "#FEATURES OF PYTHON\n",
    "#Easy to use\n",
    "#plotform indedependent\n",
    "#Free and opensource\n",
    "#supports oops\n",
    "#Large no of libraries\n",
    "#dont need to assign datatype\n",
    "\n",
    "#USES\n",
    "#Develop desktop apps\n",
    "#web apps\n",
    "#Datascience, ML, AI\n",
    "#game development\n",
    "\n",
    "#POPULAR PYTHON FRAMEWORKS\n",
    "#FOR WEBDEV - DJANGO, FLASK, CHERRYPY\n",
    "#GUI APPS - TK, PYGTK\n",
    "#ML- TENSORFLOW, PYTORCH, MATPLOTLIB, SCIPY\n",
    "#MATHEMATICS - NUMPY, PANDAS\n"
   ]
  },
  {
   "cell_type": "code",
   "execution_count": 3,
   "id": "6e456e6a",
   "metadata": {},
   "outputs": [
    {
     "name": "stdout",
     "output_type": "stream",
     "text": [
      "<class 'int'>\n",
      "<class 'bool'>\n",
      "2\n"
     ]
    }
   ],
   "source": [
    "#VARIABLE IN PYTHON IS CASE SENSITIVE: date and DATE ARE TWO DIFFERENT VARIABLES\n",
    "#reserved keywords cant be used as a variable name\n",
    "#MULTIPLE WAYS TO WRITE VARIABLES: \n",
    "\n",
    "#CAMELCASE- myName \n",
    "#PASCALCASE - MyName\n",
    "#SNAKECASE - my_name\n",
    "\n",
    "a= 50\n",
    "print(type(a))\n",
    "print(type(True))\n",
    "\n",
    "b='50'\n",
    "print(len(b))"
   ]
  },
  {
   "cell_type": "code",
   "execution_count": 4,
   "id": "5aa6f9dd",
   "metadata": {},
   "outputs": [
    {
     "data": {
      "text/plain": [
       "140715244470232"
      ]
     },
     "execution_count": 4,
     "metadata": {},
     "output_type": "execute_result"
    }
   ],
   "source": [
    "#id fn in python returns a unique id for the specified object\n",
    "id(a)\n"
   ]
  },
  {
   "cell_type": "code",
   "execution_count": 5,
   "id": "875159c2",
   "metadata": {},
   "outputs": [
    {
     "data": {
      "text/plain": [
       "140715244471832"
      ]
     },
     "execution_count": 5,
     "metadata": {},
     "output_type": "execute_result"
    }
   ],
   "source": [
    "id(100)"
   ]
  },
  {
   "cell_type": "code",
   "execution_count": 6,
   "id": "a1ab641c",
   "metadata": {},
   "outputs": [
    {
     "name": "stdout",
     "output_type": "stream",
     "text": [
      "10\n",
      "10 20.12 python\n"
     ]
    },
    {
     "data": {
      "text/plain": [
       "(10, 10, 10)"
      ]
     },
     "execution_count": 6,
     "metadata": {},
     "output_type": "execute_result"
    }
   ],
   "source": [
    "#we can assign multiple variables in single kine\n",
    "(a, b, c) = 10,20.12, \"python\"\n",
    "print(a)\n",
    "print(a, b, c)\n",
    "\n",
    "x=y=z=10\n",
    "x, y, z\n"
   ]
  },
  {
   "cell_type": "code",
   "execution_count": 7,
   "id": "53e29d4a",
   "metadata": {},
   "outputs": [
    {
     "name": "stdout",
     "output_type": "stream",
     "text": [
      "2.5\n",
      "2\n"
     ]
    }
   ],
   "source": [
    "result = 100/40\n",
    "print(result)\n",
    "result1 = 100//40  #base division excludes decimal value\n",
    "print(result1)"
   ]
  },
  {
   "cell_type": "code",
   "execution_count": 8,
   "id": "0c1e3cd5",
   "metadata": {},
   "outputs": [
    {
     "name": "stdout",
     "output_type": "stream",
     "text": [
      "d\n",
      "Ind\n"
     ]
    }
   ],
   "source": [
    "country = 'India'\n",
    "i = 2\n",
    "print(country[i])\n",
    "print(country[:3])"
   ]
  },
  {
   "cell_type": "code",
   "execution_count": 9,
   "id": "6e6f6745",
   "metadata": {},
   "outputs": [
    {
     "data": {
      "text/plain": [
       "['bmw', 'Ferrari', 'Benz']"
      ]
     },
     "execution_count": 9,
     "metadata": {},
     "output_type": "execute_result"
    }
   ],
   "source": [
    "cars = [\"bmw\", \"Ferrari\", \"Benz\"]\n",
    "cars"
   ]
  },
  {
   "cell_type": "code",
   "execution_count": 10,
   "id": "c50e8f1e",
   "metadata": {},
   "outputs": [
    {
     "name": "stdout",
     "output_type": "stream",
     "text": [
      "hello ['bmw', 'Ferrari', 'Benz']\n"
     ]
    },
    {
     "data": {
      "text/plain": [
       "('bmw', 'Ferrari', 'Benz')"
      ]
     },
     "execution_count": 10,
     "metadata": {},
     "output_type": "execute_result"
    }
   ],
   "source": [
    "x, y, z = cars   #***\n",
    "\n",
    "cars1 = cars\n",
    "print(\"hello\",cars1)\n",
    "x,y,z\n"
   ]
  },
  {
   "cell_type": "code",
   "execution_count": 11,
   "id": "0bc8ff8c",
   "metadata": {},
   "outputs": [
    {
     "name": "stdout",
     "output_type": "stream",
     "text": [
      "140715244470232\n",
      "140715244470232\n"
     ]
    }
   ],
   "source": [
    "a = 50\n",
    "b = a\n",
    "print(id(a))\n",
    "print(id(b))"
   ]
  },
  {
   "cell_type": "code",
   "execution_count": 12,
   "id": "1ee4608c",
   "metadata": {},
   "outputs": [
    {
     "name": "stdout",
     "output_type": "stream",
     "text": [
      "140715244469272\n",
      "140715244469272\n"
     ]
    }
   ],
   "source": [
    "ben = 20\n",
    "gwen = 15 + 5\n",
    "print(id(ben))\n",
    "print(id(gwen))"
   ]
  },
  {
   "cell_type": "code",
   "execution_count": 13,
   "id": "b06172b9",
   "metadata": {},
   "outputs": [
    {
     "name": "stdout",
     "output_type": "stream",
     "text": [
      "2\n",
      "hihihihihi\n",
      "100\n",
      "hello there, welcome back to python programming\n"
     ]
    }
   ],
   "source": [
    "print(1+1)\n",
    "print(5*'hi')\n",
    "print(10**2)\n",
    "\n",
    "str1='there'\n",
    "str2='to python programming'\n",
    "print('hello {}, welcome back {}'.format(str1, str2))"
   ]
  }
 ],
 "metadata": {
  "kernelspec": {
   "display_name": "Python 3 (ipykernel)",
   "language": "python",
   "name": "python3"
  },
  "language_info": {
   "codemirror_mode": {
    "name": "ipython",
    "version": 3
   },
   "file_extension": ".py",
   "mimetype": "text/x-python",
   "name": "python",
   "nbconvert_exporter": "python",
   "pygments_lexer": "ipython3",
   "version": "3.12.1"
  }
 },
 "nbformat": 4,
 "nbformat_minor": 5
}
