{
 "cells": [
  {
   "cell_type": "code",
   "execution_count": 7,
   "id": "8a06f8d6",
   "metadata": {},
   "outputs": [
    {
     "name": "stdout",
     "output_type": "stream",
     "text": [
      "enter the amount175\n",
      "enter the stateLondon\n",
      "Invalid state\n"
     ]
    }
   ],
   "source": [
    "#IF STATEMENT\n",
    "\n",
    "# if (condition):\n",
    "#     if  condition:\n",
    "#     elif condition:\n",
    "#     else condition:\n",
    "#\n",
    "# elif ():\n",
    "#     statement\n",
    "#\n",
    "# else:\n",
    "#     statements\n",
    "\n",
    "total = int(input(\"enter the amount\"))\n",
    "state = input(\"enter the state\")\n",
    "\n",
    "if state == 'Texas':\n",
    "    if total<=150:\n",
    "        print(\"shipping charges is 50$\")\n",
    "    elif total>150 and total<=250:\n",
    "        print(\"shipping charges is 20$\")\n",
    "    else:\n",
    "        print(\"shipping charges is 5$\")\n",
    "elif state == \"LA\":\n",
    "    if total <=150:\n",
    "        print(\"shipping charges is 50$\")\n",
    "    elif total >150 and total <=250:\n",
    "        print(\"shipping charges is 20$\")\n",
    "    else:\n",
    "        print(\"shipping charges is Free\")\n",
    "elif state == \"virginia\":\n",
    "    if total <= 150:\n",
    "        print(\"shipping charges is 50$\")\n",
    "    elif (total>150 and total <=250):\n",
    "        print(\"shipping charges is 20$\")\n",
    "    else:\n",
    "        print(\"shipping charges is 5$\")\n",
    "else:\n",
    "    print(\"Invalid state\")\n",
    "    "
   ]
  },
  {
   "cell_type": "code",
   "execution_count": 1,
   "id": "04542c4b",
   "metadata": {},
   "outputs": [
    {
     "name": "stdout",
     "output_type": "stream",
     "text": [
      "0 1 2 3 4 "
     ]
    }
   ],
   "source": [
    "#WHILE LOOP\n",
    "\n",
    "# while condition:\n",
    "#     statements\n",
    "\n",
    "i = 0\n",
    "while i<5:\n",
    "    i = i+1\n",
    "    print(i, end = \" \")     #** changed new line escape sequence to space to print in one line\n",
    "\n"
   ]
  },
  {
   "cell_type": "code",
   "execution_count": 1,
   "id": "5578577a",
   "metadata": {},
   "outputs": [
    {
     "name": "stdout",
     "output_type": "stream",
     "text": [
      "['d', 'f', 'c', 'k', 'a']\n"
     ]
    }
   ],
   "source": [
    "alpha = ['d','f', 'c']\n",
    "alpha+= 'ka'                         #****\n",
    "print(alpha)"
   ]
  },
  {
   "cell_type": "code",
   "execution_count": 4,
   "id": "d6308504",
   "metadata": {},
   "outputs": [
    {
     "name": "stdout",
     "output_type": "stream",
     "text": [
      "kevin\n",
      "hi\n",
      "thankyou, u entered correct name\n"
     ]
    }
   ],
   "source": [
    "while True:\n",
    "    name = input()\n",
    "    if name == 'kevin':\n",
    "        break\n",
    "print(\"thankyou, u entered correct name\")"
   ]
  },
  {
   "cell_type": "code",
   "execution_count": 6,
   "id": "169bd820",
   "metadata": {},
   "outputs": [
    {
     "name": "stdout",
     "output_type": "stream",
     "text": [
      "28 is divisible by both 4 and 7\n"
     ]
    }
   ],
   "source": [
    "#LCM OF 4 AND 7\n",
    "x = 0\n",
    "while True:\n",
    "    x+=1\n",
    "    if not(x%4 or x%7):\n",
    "        break\n",
    "print(x, 'is divisible by both 4 and 7')\n"
   ]
  },
  {
   "cell_type": "code",
   "execution_count": 9,
   "id": "36a9d945",
   "metadata": {},
   "outputs": [
    {
     "name": "stdout",
     "output_type": "stream",
     "text": [
      "1 2 3 4 5 7 8 9 10 "
     ]
    }
   ],
   "source": [
    "i = 0\n",
    "while i<10:\n",
    "    i+=1\n",
    "    if i==6:\n",
    "        continue  #continues the execution and skips the current step where x=6\n",
    "    print(i, end = \" \")"
   ]
  },
  {
   "cell_type": "code",
   "execution_count": 11,
   "id": "5af424d2",
   "metadata": {},
   "outputs": [
    {
     "name": "stdout",
     "output_type": "stream",
     "text": [
      "1\n",
      "2\n",
      "3\n",
      "4\n",
      "5 is not less than 5\n"
     ]
    }
   ],
   "source": [
    "#we can also use else in while loop\n",
    "i=1\n",
    "while i<5:\n",
    "    print(i)\n",
    "    i+=1\n",
    "else:\n",
    "    print(i,  \"is not less than 5\")"
   ]
  },
  {
   "cell_type": "code",
   "execution_count": 1,
   "id": "85aa1cb5",
   "metadata": {},
   "outputs": [
    {
     "name": "stdout",
     "output_type": "stream",
     "text": [
      "5\n",
      "4\n",
      "3\n",
      "2\n",
      "1\n",
      "There are no elements left in the list\n"
     ]
    }
   ],
   "source": [
    "#we can use inbuilt fns inside a while loop\n",
    "#Lets use pop fn and remove the elements in list\n",
    "\n",
    "a = [1,2,3,4,5]\n",
    "while a:\n",
    "    print(a.pop())  #pops element present at the end of the list\n",
    "else:\n",
    "    print('There are no elements left in the list')\n",
    "    "
   ]
  },
  {
   "cell_type": "code",
   "execution_count": 14,
   "id": "3cb73977",
   "metadata": {},
   "outputs": [
    {
     "name": "stdout",
     "output_type": "stream",
     "text": [
      "2 4 6 8 10 "
     ]
    }
   ],
   "source": [
    "#PASS keyword\n",
    "# To pass a block of code\n",
    "try:\n",
    "    \n",
    "    a=[1,2,3,4,5,6,7,8,9,10]\n",
    "    for i in a:\n",
    "        if a[i]%2!=0:\n",
    "            pass\n",
    "        else:\n",
    "            print(a[i], end=' ')\n",
    "except:\n",
    "    pass"
   ]
  },
  {
   "cell_type": "code",
   "execution_count": 3,
   "id": "2f31f4db",
   "metadata": {},
   "outputs": [
    {
     "name": "stdout",
     "output_type": "stream",
     "text": [
      "5\n",
      "4\n",
      "-1\n",
      "4.5\n"
     ]
    }
   ],
   "source": [
    "#avg of positive nums\n",
    "\n",
    "num = 0\n",
    "count = 0\n",
    "sum = 0\n",
    "while num>=0:\n",
    "    num = int(input())\n",
    "    if(num>=0):\n",
    "        count+=1\n",
    "        sum = sum+num\n",
    "avg = sum/count\n",
    "print(avg)"
   ]
  },
  {
   "cell_type": "code",
   "execution_count": 23,
   "id": "6f7c0db7",
   "metadata": {},
   "outputs": [
    {
     "name": "stdout",
     "output_type": "stream",
     "text": [
      "29\n",
      "Enter integer b/w 1 and 100: 1\n",
      "YOur guess is low\n",
      "Enter b/w 1, 100: 55\n",
      "\n",
      "your guess is high\n",
      "Enter b/w 1, 100: 29\n",
      "\n",
      "You guessed it correctly\n"
     ]
    }
   ],
   "source": [
    "#user gives a num b/w a certain range and \n",
    "#based on a random input generator from the program we are going to guess the num\n",
    "\n",
    "import random\n",
    "n = random.randint(1,100)\n",
    "print(n)\n",
    "guess = int(input(\"Enter integer b/w 1 and 100: \"))\n",
    "while n!= \"guess\":\n",
    "    if guess<n:\n",
    "        print('YOur guess is low')\n",
    "        guess = int(input(\"Enter b/w 1, 100: \"))\n",
    "    elif guess>n:\n",
    "        print('your guess is high')\n",
    "        guess = int(input(\"Enter b/w 1, 100: \"))\n",
    "    else:\n",
    "        print(\"You guessed it correctly\")\n",
    "        break\n",
    "    print()"
   ]
  },
  {
   "cell_type": "code",
   "execution_count": 11,
   "id": "d9362415",
   "metadata": {},
   "outputs": [
    {
     "name": "stdout",
     "output_type": "stream",
     "text": [
      "H*e*l*l*o* *w*o*r*l*d*"
     ]
    }
   ],
   "source": [
    "#FOR LOOP (TO ITERATE OVER A SEQUENCE OF ELEMENTS)\n",
    "#FOR LOOP USES RANGE FN TO ITERATE\n",
    "#when last element is reached the loop terminates\n",
    "\n",
    "# for iterator_ variable in sequence:  #sequence can be range, list, tuple or dictionary\n",
    "#     statements\n",
    "\n",
    "s = 'Hello world'\n",
    "for i in s:\n",
    "    print(i, end ='*')\n"
   ]
  },
  {
   "cell_type": "code",
   "execution_count": 14,
   "id": "a49d29b3",
   "metadata": {},
   "outputs": [
    {
     "name": "stdout",
     "output_type": "stream",
     "text": [
      "Java\n",
      "Python\n",
      "Ruby\n",
      "HTML\n"
     ]
    }
   ],
   "source": [
    "#FOR LOOP IN A LIST\n",
    "\n",
    "programming = ['Java', 'Python', 'Ruby', 'HTML']\n",
    "for iter in programming:\n",
    "    print(iter)"
   ]
  },
  {
   "cell_type": "code",
   "execution_count": 30,
   "id": "5bae665e",
   "metadata": {},
   "outputs": [
    {
     "name": "stdout",
     "output_type": "stream",
     "text": [
      "30.0\n"
     ]
    }
   ],
   "source": [
    "#FIND AVG OF LIST OF NUMS\n",
    "list_num = [20,25,10,50,45]\n",
    "sum = 0\n",
    "for i in list_num:\n",
    "    sum = sum + i\n",
    "avg = sum/len(list_num)\n",
    "print(avg)"
   ]
  },
  {
   "cell_type": "code",
   "execution_count": 32,
   "id": "3525c5dc",
   "metadata": {},
   "outputs": [
    {
     "name": "stdout",
     "output_type": "stream",
     "text": [
      "51.0\n"
     ]
    }
   ],
   "source": [
    "#TUPLE USING FOR LOOP\n",
    "\n",
    "num = (30,45,60,50, 70)\n",
    "sum = 0\n",
    "for i in num:\n",
    "    sum = sum + i\n",
    "avg = sum/len(num)\n",
    "print(avg)"
   ]
  },
  {
   "cell_type": "code",
   "execution_count": 35,
   "id": "55330248",
   "metadata": {},
   "outputs": [
    {
     "name": "stdout",
     "output_type": "stream",
     "text": [
      "1 3 5 7 9 "
     ]
    }
   ],
   "source": [
    "#Range fn\n",
    "for i in range(1,10, 2):    #step size\n",
    "    print(i, end = \" \")"
   ]
  },
  {
   "cell_type": "code",
   "execution_count": 38,
   "id": "a35ee9bb",
   "metadata": {},
   "outputs": [
    {
     "name": "stdout",
     "output_type": "stream",
     "text": [
      "5\n",
      "5,10,15,20,25,30,35,40,45,50,"
     ]
    }
   ],
   "source": [
    "#program to print table of a given num\n",
    "\n",
    "n = int(input())\n",
    "for i in range(1, 11):\n",
    "    mul = i*n\n",
    "    print(mul, end = \",\")"
   ]
  },
  {
   "cell_type": "code",
   "execution_count": 1,
   "id": "33e2c8f9",
   "metadata": {},
   "outputs": [
    {
     "name": "stdout",
     "output_type": "stream",
     "text": [
      "Hello c++\n",
      "Hello java\n",
      "Hello python\n",
      "Hello R\n"
     ]
    }
   ],
   "source": [
    "#we can also use range fn with sequence of items\n",
    "#len fn can be combined with range fn to iterate through sequence using indexing\n",
    "list2 = ['c++', 'java', 'python', 'R']\n",
    "for i in range(len(list2)):\n",
    "    print('Hello', list2[i])\n",
    "    "
   ]
  },
  {
   "cell_type": "code",
   "execution_count": 9,
   "id": "550edc56",
   "metadata": {},
   "outputs": [
    {
     "name": "stdout",
     "output_type": "stream",
     "text": [
      "we will display each letter of google\n",
      "g\n",
      "o\n",
      "o\n",
      "g\n",
      "l\n",
      "e\n",
      "we will display each letter of Apple\n",
      "A\n",
      "p\n",
      "p\n",
      "l\n",
      "e\n",
      "we will display each letter of PWC\n",
      "P\n",
      "W\n",
      "C\n",
      "we will display each letter of Uber\n",
      "U\n",
      "b\n",
      "e\n",
      "r\n"
     ]
    }
   ],
   "source": [
    "#NESTED FOR LOOPS IN PYTHON\n",
    "companies = ['google', 'Apple', 'PWC', 'Uber']\n",
    "for i in companies:\n",
    "    print(\"we will display each letter of \" +i)\n",
    "    for letter in i:         #****\n",
    "        print(letter)"
   ]
  },
  {
   "cell_type": "code",
   "execution_count": 10,
   "id": "e29a786b",
   "metadata": {},
   "outputs": [
    {
     "name": "stdout",
     "output_type": "stream",
     "text": [
      "0\n",
      "3\n",
      "6\n",
      "9\n",
      "The loop has completed execution\n"
     ]
    }
   ],
   "source": [
    "#FOR LOOP WITH ELSE CLAUSE\n",
    "for i in range(0,10,3):\n",
    "    print(i)\n",
    "else:\n",
    "    print(\"The loop has completed execution\")"
   ]
  },
  {
   "cell_type": "code",
   "execution_count": 13,
   "id": "fa200e5a",
   "metadata": {},
   "outputs": [
    {
     "name": "stdout",
     "output_type": "stream",
     "text": [
      "1\n",
      "2\n",
      "3\n",
      "4\n",
      "5\n"
     ]
    }
   ],
   "source": [
    "#BREAK IN FOR LOOP\n",
    "#In python you can break for loop and end it before it run all the elements in the iterable using the break statement\n",
    "\n",
    "for i in range(1,10):\n",
    "    if(i == 6):\n",
    "        break\n",
    "    print(i)"
   ]
  },
  {
   "cell_type": "code",
   "execution_count": 17,
   "id": "0678632d",
   "metadata": {},
   "outputs": [
    {
     "name": "stdout",
     "output_type": "stream",
     "text": [
      "1 2 3 4 5 7 8 9 "
     ]
    }
   ],
   "source": [
    "#continue in for loop\n",
    "for i in range(1, 10):\n",
    "    if(i == 6):          #skips 6\n",
    "        continue\n",
    "    print(i, end = ' ')"
   ]
  },
  {
   "cell_type": "code",
   "execution_count": 20,
   "id": "d7c97ff2",
   "metadata": {},
   "outputs": [
    {
     "name": "stdout",
     "output_type": "stream",
     "text": [
      "7\n"
     ]
    }
   ],
   "source": [
    "#program to display total goals a player has scored\n",
    "player_name = \"carmelo\"\n",
    "goals = {'Edison':14, 'Bernat':3, 'carmelo':7}\n",
    "for player in goals:\n",
    "    if player == player_name:\n",
    "        print(goals[player])\n",
    "        break\n",
    "else:\n",
    "    print('No player found with that name')"
   ]
  },
  {
   "cell_type": "code",
   "execution_count": 22,
   "id": "22eeaaee",
   "metadata": {},
   "outputs": [
    {
     "name": "stdout",
     "output_type": "stream",
     "text": [
      "[1, 8, 27, 64, 125]\n"
     ]
    }
   ],
   "source": [
    "#cube of a number \n",
    "num = [1,2,3,4,5]\n",
    "cube = []\n",
    "for i in num:\n",
    "    cube.append(i**3)\n",
    "print(cube)\n",
    "    "
   ]
  },
  {
   "cell_type": "code",
   "execution_count": 29,
   "id": "ccd03971",
   "metadata": {},
   "outputs": [
    {
     "name": "stdout",
     "output_type": "stream",
     "text": [
      "Enter the no of rows5\n",
      "*\n",
      "**\n",
      "***\n",
      "****\n",
      "*****\n"
     ]
    }
   ],
   "source": [
    "#PATTERN PRINTING\n",
    "#right angled triangle\n",
    "\n",
    "n = int(input(\"Enter the no of rows\"))\n",
    "for i in range(0,n):\n",
    "    for j in range(0, i+1):\n",
    "        print(\"*\", end = \"\")\n",
    "    print()"
   ]
  },
  {
   "cell_type": "code",
   "execution_count": 16,
   "id": "efcb5d76",
   "metadata": {},
   "outputs": [
    {
     "data": {
      "text/plain": [
       "'Pyth0n'"
      ]
     },
     "execution_count": 16,
     "metadata": {},
     "output_type": "execute_result"
    }
   ],
   "source": [
    "my_string = \"Python\"\n",
    "my_string = my_string.replace('o', '0')\n",
    "my_string\n",
    "#strings are immutable"
   ]
  }
 ],
 "metadata": {
  "kernelspec": {
   "display_name": "Python 3 (ipykernel)",
   "language": "python",
   "name": "python3"
  },
  "language_info": {
   "codemirror_mode": {
    "name": "ipython",
    "version": 3
   },
   "file_extension": ".py",
   "mimetype": "text/x-python",
   "name": "python",
   "nbconvert_exporter": "python",
   "pygments_lexer": "ipython3",
   "version": "3.12.1"
  }
 },
 "nbformat": 4,
 "nbformat_minor": 5
}
