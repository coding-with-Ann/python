{
 "cells": [
  {
   "cell_type": "code",
   "execution_count": 1,
   "id": "0e1d4f02",
   "metadata": {},
   "outputs": [],
   "source": [
    "#A lambda fn is an anonymous fn (defined without a name and without using a def keyword)\n",
    "#It can accept any no of arguments but can only have one expression\n",
    "\n",
    "#syntax: lambda arguments: expression\n",
    "\n",
    "#pros:\n",
    "#lambda fns are suitable for simple logical operations\n",
    "#when we want one expression in return we use lambda fn\n",
    "#Lambda fn is used as a parameter to different fns such as map, filter etc\n",
    "#its fast\n",
    "\n",
    "#cons\n",
    "#can evaluate only one expression\n",
    "#not used when we have to declare a fn with multiple lines of code"
   ]
  },
  {
   "cell_type": "code",
   "execution_count": 2,
   "id": "81df13e9",
   "metadata": {},
   "outputs": [
    {
     "name": "stdout",
     "output_type": "stream",
     "text": [
      "11\n",
      "11\n"
     ]
    }
   ],
   "source": [
    "#sum of a,b using user def fn\n",
    "\n",
    "def add(a,b):\n",
    "    sum = a+b\n",
    "    return sum\n",
    "print(add(3,8))\n",
    "\n",
    "\n",
    "#sum of a,b using lambda fn\n",
    "\n",
    "add = lambda a,b: a+b              # used : to seperate arguments and expression\n",
    "print(add(3,8))"
   ]
  },
  {
   "cell_type": "code",
   "execution_count": 5,
   "id": "dd024597",
   "metadata": {},
   "outputs": [
    {
     "data": {
      "text/plain": [
       "150"
      ]
     },
     "execution_count": 5,
     "metadata": {},
     "output_type": "execute_result"
    }
   ],
   "source": [
    "add = lambda x: x+100\n",
    "add(50)"
   ]
  },
  {
   "cell_type": "code",
   "execution_count": 6,
   "id": "4bb2e3bd",
   "metadata": {},
   "outputs": [
    {
     "data": {
      "text/plain": [
       "20"
      ]
     },
     "execution_count": 6,
     "metadata": {},
     "output_type": "execute_result"
    }
   ],
   "source": [
    "#In python there is no need to assign lambda to a variable. We can directly call it\n",
    "(lambda a,b: a*b)(5,4)"
   ]
  },
  {
   "cell_type": "code",
   "execution_count": 8,
   "id": "e126c38d",
   "metadata": {},
   "outputs": [
    {
     "name": "stdout",
     "output_type": "stream",
     "text": [
      "200\n"
     ]
    }
   ],
   "source": [
    "#We can also use keyword arguments using lambda fn\n",
    "product = lambda x,y,z: x*y*z\n",
    "print(product(z = 5, x = 10, y = 4))"
   ]
  },
  {
   "cell_type": "code",
   "execution_count": 9,
   "id": "1479a914",
   "metadata": {},
   "outputs": [
    {
     "name": "stdout",
     "output_type": "stream",
     "text": [
      "59\n"
     ]
    }
   ],
   "source": [
    "add = lambda x,y = 15, z = 24: x+y+z\n",
    "print(add(20))"
   ]
  },
  {
   "cell_type": "code",
   "execution_count": 10,
   "id": "6ac4c46e",
   "metadata": {},
   "outputs": [
    {
     "name": "stdout",
     "output_type": "stream",
     "text": [
      "80\n"
     ]
    }
   ],
   "source": [
    "#we can use *args parameter to define as many argumets as we want\n",
    "\n",
    "addition = lambda *args: sum(args)\n",
    "print(addition(20, 30, 30))"
   ]
  },
  {
   "cell_type": "code",
   "execution_count": 11,
   "id": "7dd581bd",
   "metadata": {},
   "outputs": [
    {
     "data": {
      "text/plain": [
       "420"
      ]
     },
     "execution_count": 11,
     "metadata": {},
     "output_type": "execute_result"
    }
   ],
   "source": [
    "#lambda fns are also used with higher order fns which take one or more fns as arguments or return one or more fns\n",
    "\n",
    "higher_ord_fun = lambda x, fun: x + fun(x)\n",
    "higher_ord_fun(20, lambda x: x*x)"
   ]
  },
  {
   "cell_type": "code",
   "execution_count": 13,
   "id": "7a577b10",
   "metadata": {},
   "outputs": [
    {
     "data": {
      "text/plain": [
       "'odd'"
      ]
     },
     "execution_count": 13,
     "metadata": {},
     "output_type": "execute_result"
    }
   ],
   "source": [
    "(lambda x: (x%2 and 'odd' or 'even'))(15)   #***"
   ]
  },
  {
   "cell_type": "code",
   "execution_count": 18,
   "id": "116412c3",
   "metadata": {},
   "outputs": [
    {
     "name": "stdout",
     "output_type": "stream",
     "text": [
      "False\n",
      "True\n"
     ]
    }
   ],
   "source": [
    "#lambda fn that checks if a string is a substring of the given string\n",
    "\n",
    "sub_string = lambda string: string in \"Welcome to python functions\"\n",
    "print(sub_string(\"java\"))\n",
    "print(sub_string(\"to\"))"
   ]
  },
  {
   "cell_type": "code",
   "execution_count": 4,
   "id": "858951c1",
   "metadata": {},
   "outputs": [
    {
     "name": "stdout",
     "output_type": "stream",
     "text": [
      "[40, 56, 33, 70]\n"
     ]
    }
   ],
   "source": [
    "#Lambda fn using filter fn\n",
    "#We will filter a list of numbers using a specific condition\n",
    "\n",
    "num = [10,40,56,27,33,15,70]\n",
    "greater = list(filter(lambda num: num>30, num))\n",
    "print(greater)"
   ]
  },
  {
   "cell_type": "code",
   "execution_count": 25,
   "id": "a4a25437",
   "metadata": {},
   "outputs": [
    {
     "name": "stdout",
     "output_type": "stream",
     "text": [
      "[40, 56]\n"
     ]
    }
   ],
   "source": [
    "#to print list of nums that are divisible by 4\n",
    "list1 = [10,40,56,27,33,15,70]\n",
    "divide = list(filter(lambda x : (x%4 ==0), list1))\n",
    "print(divide)"
   ]
  },
  {
   "cell_type": "code",
   "execution_count": 26,
   "id": "8d5ec1f8",
   "metadata": {},
   "outputs": [
    {
     "name": "stdout",
     "output_type": "stream",
     "text": [
      "[20, 80, 112, 54, 66, 30, 140]\n"
     ]
    }
   ],
   "source": [
    "#map function with lambda fn\n",
    "\n",
    "#map fn accepts two arguments, a function and a list\n",
    "#It takes that fn and applies it to every element of the list and returns the modified list\n",
    "\n",
    "list2 = [10,40,56,27,33,15,70]\n",
    "doubleNUm = list(map(lambda x: x*2, list2))\n",
    "print(doubleNUm)"
   ]
  },
  {
   "cell_type": "code",
   "execution_count": 30,
   "id": "2cc5337f",
   "metadata": {},
   "outputs": [
    {
     "data": {
      "text/plain": [
       "[8, 125, 216, 1000, 1728]"
      ]
     },
     "execution_count": 30,
     "metadata": {},
     "output_type": "execute_result"
    }
   ],
   "source": [
    "list3 = [2,5,6,10,12]\n",
    "cube = map(lambda x : pow(x,3), list3)\n",
    "list(cube)"
   ]
  },
  {
   "cell_type": "code",
   "execution_count": 32,
   "id": "a7d532b5",
   "metadata": {},
   "outputs": [
    {
     "name": "stdout",
     "output_type": "stream",
     "text": [
      "39\n"
     ]
    }
   ],
   "source": [
    "#reduce fn with lambda fn\n",
    "#reduce fn is a part of functools module\n",
    "\n",
    "#reduce applies a rolling calculation to all items in a list.\n",
    "#we can use it to calculate total sum or multiply all numbers together\n",
    "\n",
    "from functools import reduce\n",
    "list4 = [2,5,10,6,4,12]\n",
    "sum = reduce((lambda x, y: x+y),list4)\n",
    "print(sum)\n",
    "             \n"
   ]
  },
  {
   "cell_type": "code",
   "execution_count": 33,
   "id": "30caafb5",
   "metadata": {},
   "outputs": [
    {
     "data": {
      "text/plain": [
       "10"
      ]
     },
     "execution_count": 33,
     "metadata": {},
     "output_type": "execute_result"
    }
   ],
   "source": [
    "#lambda fn in user defined fn\n",
    "\n",
    "def quadratic(a,b,c):\n",
    "    return(lambda x: a*x**2 +b*x +c)\n",
    "f = quadratic(2,3,5)\n",
    "f(1)"
   ]
  }
 ],
 "metadata": {
  "kernelspec": {
   "display_name": "Python 3 (ipykernel)",
   "language": "python",
   "name": "python3"
  },
  "language_info": {
   "codemirror_mode": {
    "name": "ipython",
    "version": 3
   },
   "file_extension": ".py",
   "mimetype": "text/x-python",
   "name": "python",
   "nbconvert_exporter": "python",
   "pygments_lexer": "ipython3",
   "version": "3.11.2"
  }
 },
 "nbformat": 4,
 "nbformat_minor": 5
}
