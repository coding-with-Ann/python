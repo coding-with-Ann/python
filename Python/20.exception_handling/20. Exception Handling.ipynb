{
 "cells": [
  {
   "cell_type": "code",
   "execution_count": 1,
   "id": "2d00976a",
   "metadata": {},
   "outputs": [],
   "source": [
    "#NEED FOR EXCEPTION HANDLING\n",
    "#The program will terminate whenever an error occurs\n",
    "#Sudden termination can corrupt the program\n",
    "#Exception may cause data loss\n",
    "\n",
    "#we need to take care of all these \n",
    "\n",
    "#An exception is a runtime error that terminates the execution of a program\n",
    "#Exception handling generates a message in correspondance to the occurance of an error and takes the \n",
    "#right step to handle it.\n",
    "\n",
    "#In general there are three types of errors \n",
    "#compile time error --could be because of the syntax, indentation etc\n",
    "#compiler will show while compiling program\n",
    "\n",
    "#Logical errors -- errors in logic \n",
    "\n",
    "#Runtime errors -- The most difficult errors"
   ]
  },
  {
   "cell_type": "code",
   "execution_count": 2,
   "id": "b56ea662",
   "metadata": {},
   "outputs": [],
   "source": [
    "# try:  the code for which you want to handle the exception\n",
    "\n",
    "# except: error message or what to do with the error\n",
    "    \n",
    "# else:  no exception? run this code\n",
    "    \n",
    "# finally: always run this code\n",
    "\n",
    "\n",
    "#write code in try block if theres an exception it will goto except block otherwise else block\n",
    "#then finally will be executed"
   ]
  },
  {
   "cell_type": "code",
   "execution_count": 3,
   "id": "61bfd1a8",
   "metadata": {},
   "outputs": [],
   "source": [
    "#You can use try block without except block\n",
    "#we can use one try and multiple except blocks\n",
    "#We can write exception as an object\n",
    "#we can write multiple exceptions within a tuple"
   ]
  },
  {
   "cell_type": "code",
   "execution_count": 5,
   "id": "ced83ef7",
   "metadata": {},
   "outputs": [
    {
     "name": "stdout",
     "output_type": "stream",
     "text": [
      "cant divide by zero\n"
     ]
    }
   ],
   "source": [
    "try:\n",
    "    a = 10\n",
    "    b = 0\n",
    "    c = a/b\n",
    "    print(c)  \n",
    "except:\n",
    "    print(\"cant divide by zero\")"
   ]
  },
  {
   "cell_type": "code",
   "execution_count": 4,
   "id": "441cd929",
   "metadata": {},
   "outputs": [
    {
     "name": "stdout",
     "output_type": "stream",
     "text": [
      "do not divide number by zero\n",
      "completed\n"
     ]
    }
   ],
   "source": [
    "a = 1\n",
    "b = 0\n",
    "try:\n",
    "    c = a/b\n",
    "    print(\"New line\")\n",
    "    \n",
    "except ZeroDivisionError:\n",
    "    print(\"do not divide number by zero\")\n",
    "    \n",
    "print(\"completed\")"
   ]
  },
  {
   "cell_type": "code",
   "execution_count": 9,
   "id": "ac7165cf",
   "metadata": {},
   "outputs": [
    {
     "name": "stdout",
     "output_type": "stream",
     "text": [
      "7.0\n",
      "New line\n",
      "completed\n"
     ]
    }
   ],
   "source": [
    "a = 70\n",
    "b = 10\n",
    "try:\n",
    "    c = a/b\n",
    "    print(c)\n",
    "    print(\"New line\")\n",
    "    \n",
    "except:                                      #except wont be executed as there is no error\n",
    "    print(\"do not divide number by zero\")\n",
    "\n",
    "print(\"completed\")"
   ]
  },
  {
   "cell_type": "code",
   "execution_count": 7,
   "id": "add24b88",
   "metadata": {},
   "outputs": [
    {
     "name": "stdout",
     "output_type": "stream",
     "text": [
      "cant divide by zero\n",
      "<class 'Exception'>\n"
     ]
    }
   ],
   "source": [
    "#to print an exception object\n",
    "\n",
    "a = 10\n",
    "b = 0\n",
    "try:\n",
    "    c = a/b\n",
    "\n",
    "except Exception:\n",
    "    print(\"cant divide by zero\")\n",
    "    print(Exception)\n",
    "\n",
    "else:\n",
    "    print(\"hello\")"
   ]
  },
  {
   "cell_type": "code",
   "execution_count": 12,
   "id": "83a1bbe8",
   "metadata": {},
   "outputs": [
    {
     "name": "stdout",
     "output_type": "stream",
     "text": [
      "35.0\n",
      "hello\n"
     ]
    }
   ],
   "source": [
    "a = 70\n",
    "b = 2\n",
    "try:\n",
    "    c = a/b\n",
    "    print(c)\n",
    "    \n",
    "except:                                     \n",
    "    print(\"do not divide number by zero\")\n",
    "    \n",
    "else:\n",
    "    print(\"hello\")"
   ]
  },
  {
   "cell_type": "code",
   "execution_count": 15,
   "id": "279060cc",
   "metadata": {},
   "outputs": [
    {
     "name": "stdout",
     "output_type": "stream",
     "text": [
      "do not divide number by zero\n",
      " division by zero\n"
     ]
    }
   ],
   "source": [
    "a = 20\n",
    "b = 0\n",
    "try:\n",
    "    c = a/b\n",
    "    print(c)\n",
    "    \n",
    "except Exception as a:                                     \n",
    "    print(\"do not divide number by zero\\n\",a)   #captured exception in a variable a"
   ]
  },
  {
   "cell_type": "code",
   "execution_count": 17,
   "id": "e6ac218e",
   "metadata": {},
   "outputs": [
    {
     "name": "stdout",
     "output_type": "stream",
     "text": [
      "do not divide number by zero\n",
      " name 'z' is not defined\n",
      "completed\n"
     ]
    }
   ],
   "source": [
    "a = 10\n",
    "b = 0\n",
    "try:\n",
    "    c = a/z\n",
    "    print(c)\n",
    "    \n",
    "except Exception as a:                                     \n",
    "    print(\"do not divide number by zero\\n\",a)   #a will not be printed\n",
    "\n",
    "except NameError as n:\n",
    "    print(\"z is not defined\\n\",n)\n",
    "\n",
    "print(\"completed\")"
   ]
  },
  {
   "cell_type": "code",
   "execution_count": 21,
   "id": "7a6cf2db",
   "metadata": {},
   "outputs": [
    {
     "name": "stdout",
     "output_type": "stream",
     "text": [
      "do not divide number by zero\n",
      "out of try except blocks\n"
     ]
    }
   ],
   "source": [
    "a = 10\n",
    "b = 0\n",
    "try:\n",
    "    c = a/b\n",
    "    print(c)\n",
    "    \n",
    "except TypeError:\n",
    "    print(\"unsupported operation\")\n",
    "except ZeroDivisionError:                                     \n",
    "    print(\"do not divide number by zero\")\n",
    "\n",
    "print(\"out of try except blocks\")\n",
    "    "
   ]
  },
  {
   "cell_type": "code",
   "execution_count": 22,
   "id": "ab74e5c7",
   "metadata": {},
   "outputs": [
    {
     "ename": "Exception",
     "evalue": "sorry, no numbers below zero",
     "output_type": "error",
     "traceback": [
      "\u001b[1;31m---------------------------------------------------------------------------\u001b[0m",
      "\u001b[1;31mException\u001b[0m                                 Traceback (most recent call last)",
      "Cell \u001b[1;32mIn[22], line 6\u001b[0m\n\u001b[0;32m      3\u001b[0m x \u001b[38;5;241m=\u001b[39m \u001b[38;5;241m-\u001b[39m\u001b[38;5;241m15\u001b[39m\n\u001b[0;32m      5\u001b[0m \u001b[38;5;28;01mif\u001b[39;00m x\u001b[38;5;241m<\u001b[39m\u001b[38;5;241m0\u001b[39m:\n\u001b[1;32m----> 6\u001b[0m     \u001b[38;5;28;01mraise\u001b[39;00m \u001b[38;5;167;01mException\u001b[39;00m(\u001b[38;5;124m\"\u001b[39m\u001b[38;5;124msorry, no numbers below zero\u001b[39m\u001b[38;5;124m\"\u001b[39m)\n",
      "\u001b[1;31mException\u001b[0m: sorry, no numbers below zero"
     ]
    }
   ],
   "source": [
    "#we can also explicitly raise an exception\n",
    "\n",
    "x = -15\n",
    "\n",
    "if x<0:\n",
    "    raise Exception(\"sorry, no numbers below zero\")"
   ]
  },
  {
   "cell_type": "code",
   "execution_count": 24,
   "id": "3a605dea",
   "metadata": {},
   "outputs": [
    {
     "ename": "AssertionError",
     "evalue": "compatible with linux only",
     "output_type": "error",
     "traceback": [
      "\u001b[1;31m---------------------------------------------------------------------------\u001b[0m",
      "\u001b[1;31mAssertionError\u001b[0m                            Traceback (most recent call last)",
      "Cell \u001b[1;32mIn[24], line 2\u001b[0m\n\u001b[0;32m      1\u001b[0m \u001b[38;5;28;01mimport\u001b[39;00m \u001b[38;5;21;01msys\u001b[39;00m\n\u001b[1;32m----> 2\u001b[0m \u001b[38;5;28;01massert\u001b[39;00m(\u001b[38;5;124m\"\u001b[39m\u001b[38;5;124mlinux\u001b[39m\u001b[38;5;124m\"\u001b[39m \u001b[38;5;129;01min\u001b[39;00m sys\u001b[38;5;241m.\u001b[39mplatform), \u001b[38;5;124m\"\u001b[39m\u001b[38;5;124mcompatible with linux only\u001b[39m\u001b[38;5;124m\"\u001b[39m\n",
      "\u001b[1;31mAssertionError\u001b[0m: compatible with linux only"
     ]
    }
   ],
   "source": [
    "import sys\n",
    "assert(\"linux\" in sys.platform), \"compatible with linux only\""
   ]
  },
  {
   "cell_type": "code",
   "execution_count": 5,
   "id": "fe6b4756",
   "metadata": {},
   "outputs": [
    {
     "name": "stdout",
     "output_type": "stream",
     "text": [
      "1\n",
      "The person is not eligible for voting\n"
     ]
    }
   ],
   "source": [
    "#CUSTOM EXCEPTION\n",
    "\n",
    "class AgeError(Exception):\n",
    "    \"raises an exception if age is less than 18\"\n",
    "    pass\n",
    "try:\n",
    "    age = int(input())\n",
    "    if age<18:\n",
    "        raise AgeError\n",
    "    else:\n",
    "        print(\"The person is eligible for voting\")\n",
    "except AgeError:\n",
    "    print(\"The person is not eligible for voting\")"
   ]
  },
  {
   "cell_type": "code",
   "execution_count": null,
   "id": "3c3345d8",
   "metadata": {},
   "outputs": [],
   "source": []
  }
 ],
 "metadata": {
  "kernelspec": {
   "display_name": "Python 3 (ipykernel)",
   "language": "python",
   "name": "python3"
  },
  "language_info": {
   "codemirror_mode": {
    "name": "ipython",
    "version": 3
   },
   "file_extension": ".py",
   "mimetype": "text/x-python",
   "name": "python",
   "nbconvert_exporter": "python",
   "pygments_lexer": "ipython3",
   "version": "3.12.1"
  }
 },
 "nbformat": 4,
 "nbformat_minor": 5
}
