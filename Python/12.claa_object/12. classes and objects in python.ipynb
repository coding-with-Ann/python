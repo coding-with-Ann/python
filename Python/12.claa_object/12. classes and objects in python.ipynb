{
 "cells": [
  {
   "cell_type": "code",
   "execution_count": 1,
   "id": "3f040e73",
   "metadata": {},
   "outputs": [],
   "source": [
    "#A class is a virtual entity or blueprint for creating objects\n",
    "#A class comes into existance when it is instantiated      (not same as initialize)\n",
    "#when a class is defined, only the description of the object is defined. \n",
    "#Therefore no memory or storage is allocated at that point\n",
    "\n",
    "# syntax\n",
    "# class ClassName:\n",
    "     #statements\n",
    "\n",
    "#The first string inside the class is a doc string and has brief description of the class\n",
    "\n",
    "#object is an instance of a class \n",
    "#The process of creation of object is called instantiation\n",
    "#You need to create an object of the class if you want to use the class attributes in another class or method\n",
    "\n",
    "#INIT METHOD\n",
    "#__init__() is similar to constructors in java\n",
    "#All classes in python have a _init_() that is executed when class is being instantiated\n",
    "#use the __init__() to assign values to object properties"
   ]
  },
  {
   "cell_type": "code",
   "execution_count": 2,
   "id": "5edef09f",
   "metadata": {},
   "outputs": [],
   "source": [
    "class NewClass:\n",
    "    x = 50"
   ]
  },
  {
   "cell_type": "code",
   "execution_count": 3,
   "id": "c379736a",
   "metadata": {},
   "outputs": [
    {
     "data": {
      "text/plain": [
       "50"
      ]
     },
     "execution_count": 3,
     "metadata": {},
     "output_type": "execute_result"
    }
   ],
   "source": [
    "NewClass.x"
   ]
  },
  {
   "cell_type": "code",
   "execution_count": 6,
   "id": "6b9b2c22",
   "metadata": {},
   "outputs": [
    {
     "name": "stdout",
     "output_type": "stream",
     "text": [
      "100\n"
     ]
    }
   ],
   "source": [
    "class NewClass1:\n",
    "    x = 100\n",
    "#create object\n",
    "r = NewClass1()\n",
    "print(r.x)"
   ]
  },
  {
   "cell_type": "code",
   "execution_count": 8,
   "id": "91f8e193",
   "metadata": {},
   "outputs": [
    {
     "name": "stdout",
     "output_type": "stream",
     "text": [
      "10 Anderson\n"
     ]
    }
   ],
   "source": [
    "#self parameter\n",
    "class Student:\n",
    "    \n",
    "    id = 10\n",
    "    name = 'Anderson'\n",
    "    def display(self):                  #self refers to the current class object and accesses the class variables\n",
    "        print(self.id, self.name)       #we can use anything else but it must be the first parameter of the class\n",
    "\n",
    "s = Student()\n",
    "s.display()\n"
   ]
  },
  {
   "cell_type": "code",
   "execution_count": 1,
   "id": "8e00b322",
   "metadata": {},
   "outputs": [
    {
     "name": "stdout",
     "output_type": "stream",
     "text": [
      "14\n",
      "This is a student class\n"
     ]
    }
   ],
   "source": [
    "#doc string(first string inside a class)\n",
    "class Student:\n",
    "    \"This is a student class\"\n",
    "    age = 14\n",
    "    def welcome(self):\n",
    "        print(\"Hi welcome\")\n",
    "        \n",
    "print(Student.age)\n",
    "print(Student.__doc__)"
   ]
  },
  {
   "cell_type": "code",
   "execution_count": 10,
   "id": "a7aae7bb",
   "metadata": {},
   "outputs": [
    {
     "name": "stdout",
     "output_type": "stream",
     "text": [
      "Harry\n",
      "29-10-1992\n"
     ]
    }
   ],
   "source": [
    "#init function (__init__())\n",
    "class Student:\n",
    "    def __init__(self, name, dob):\n",
    "        self.name = name\n",
    "        self.dob = dob\n",
    "s1 = Student('Harry', '29-10-1992')\n",
    "print(s1.name)\n",
    "print(s1.dob)"
   ]
  },
  {
   "cell_type": "code",
   "execution_count": 11,
   "id": "e3914df4",
   "metadata": {},
   "outputs": [
    {
     "name": "stdout",
     "output_type": "stream",
     "text": [
      "virat\n"
     ]
    }
   ],
   "source": [
    "#modify objects\n",
    "s1.name = 'virat'\n",
    "print(s1.name)"
   ]
  },
  {
   "cell_type": "code",
   "execution_count": 12,
   "id": "730ec251",
   "metadata": {},
   "outputs": [
    {
     "ename": "AttributeError",
     "evalue": "'Student' object has no attribute 'name'",
     "output_type": "error",
     "traceback": [
      "\u001b[1;31m---------------------------------------------------------------------------\u001b[0m",
      "\u001b[1;31mAttributeError\u001b[0m                            Traceback (most recent call last)",
      "Cell \u001b[1;32mIn[12], line 3\u001b[0m\n\u001b[0;32m      1\u001b[0m \u001b[38;5;66;03m#delete property \u001b[39;00m\n\u001b[0;32m      2\u001b[0m \u001b[38;5;28;01mdel\u001b[39;00m s1\u001b[38;5;241m.\u001b[39mname\n\u001b[1;32m----> 3\u001b[0m \u001b[38;5;28mprint\u001b[39m(\u001b[43ms1\u001b[49m\u001b[38;5;241;43m.\u001b[39;49m\u001b[43mname\u001b[49m) \u001b[38;5;66;03m#throws an error cause name is deleted\u001b[39;00m\n",
      "\u001b[1;31mAttributeError\u001b[0m: 'Student' object has no attribute 'name'"
     ]
    }
   ],
   "source": [
    "#delete property of a class\n",
    "del s1.name\n",
    "print(s1.name) #throws an error cos name is deleted"
   ]
  },
  {
   "cell_type": "code",
   "execution_count": 13,
   "id": "9fe52875",
   "metadata": {},
   "outputs": [
    {
     "ename": "NameError",
     "evalue": "name 's1' is not defined",
     "output_type": "error",
     "traceback": [
      "\u001b[1;31m---------------------------------------------------------------------------\u001b[0m",
      "\u001b[1;31mNameError\u001b[0m                                 Traceback (most recent call last)",
      "Cell \u001b[1;32mIn[13], line 3\u001b[0m\n\u001b[0;32m      1\u001b[0m \u001b[38;5;66;03m#delete all the obects in class\u001b[39;00m\n\u001b[0;32m      2\u001b[0m \u001b[38;5;28;01mdel\u001b[39;00m s1   \u001b[38;5;66;03m#deletes all objects present inside the class\u001b[39;00m\n\u001b[1;32m----> 3\u001b[0m \u001b[38;5;28mprint\u001b[39m(\u001b[43ms1\u001b[49m\u001b[38;5;241m.\u001b[39mdob)\n",
      "\u001b[1;31mNameError\u001b[0m: name 's1' is not defined"
     ]
    }
   ],
   "source": [
    "#delete all the obects in class\n",
    "del s1   #deletes all objects present inside the class\n",
    "print(s1.dob)      #throws an error cause dob and all other objects are deleted"
   ]
  },
  {
   "cell_type": "code",
   "execution_count": 15,
   "id": "12f08b5c",
   "metadata": {},
   "outputs": [
    {
     "name": "stdout",
     "output_type": "stream",
     "text": [
      "hi my name is  puppy\n"
     ]
    }
   ],
   "source": [
    "class Animal:\n",
    "    def __init__(self, animal):\n",
    "        self.name = animal\n",
    "    def greet(self):\n",
    "        print(\"hi my name is \", self.name)\n",
    "        \n",
    "A1 = Animal('puppy')\n",
    "A1.greet()"
   ]
  },
  {
   "cell_type": "code",
   "execution_count": null,
   "id": "e9ed2810",
   "metadata": {},
   "outputs": [],
   "source": []
  }
 ],
 "metadata": {
  "kernelspec": {
   "display_name": "Python 3 (ipykernel)",
   "language": "python",
   "name": "python3"
  },
  "language_info": {
   "codemirror_mode": {
    "name": "ipython",
    "version": 3
   },
   "file_extension": ".py",
   "mimetype": "text/x-python",
   "name": "python",
   "nbconvert_exporter": "python",
   "pygments_lexer": "ipython3",
   "version": "3.11.2"
  }
 },
 "nbformat": 4,
 "nbformat_minor": 5
}
