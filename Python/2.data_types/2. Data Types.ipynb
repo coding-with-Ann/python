{
 "cells": [
  {
   "cell_type": "code",
   "execution_count": 1,
   "id": "7473225a",
   "metadata": {},
   "outputs": [],
   "source": [
    "#list, tuple, range, dictionary, set\n",
    "\n",
    "#find(), split(), binary datatype"
   ]
  },
  {
   "cell_type": "code",
   "execution_count": 1,
   "id": "5e954e69",
   "metadata": {},
   "outputs": [],
   "source": [
    "#NUMERIC TYPES : int, float, complex\n",
    "#TEXT TYPES : strings\n",
    "#SEQUENCE TYPES : LIST, TUPLE, RANGE\n",
    "#MAPPING TYPE : dict\n",
    "#SET DATATYPE : set\n",
    "#BOOLEAN TYPE :bool\n",
    "#BINARY TYPES :bytes, bytearray, memoryview\n"
   ]
  },
  {
   "cell_type": "code",
   "execution_count": 1,
   "id": "e80b8aa8",
   "metadata": {},
   "outputs": [
    {
     "name": "stdout",
     "output_type": "stream",
     "text": [
      "1.0\n",
      "2.0\n"
     ]
    }
   ],
   "source": [
    "a = 10 #int\n",
    "a= 1 + 2j #complex\n",
    "print(a.real) # to extract real value of complex number\n",
    "print(a.imag) #for imaginary"
   ]
  },
  {
   "cell_type": "code",
   "execution_count": 2,
   "id": "17373f07",
   "metadata": {},
   "outputs": [
    {
     "name": "stdout",
     "output_type": "stream",
     "text": [
      "7\n",
      "o\n"
     ]
    }
   ],
   "source": [
    "#TYPE CASTING\n",
    "x = 7.8\n",
    "y = int(x)\n",
    "print(y)\n",
    "\n",
    "#boolean\n",
    "c = True  #T capital\n",
    "type(c)\n",
    "\n",
    "str1 = \"Hello world\"\n",
    "print(str1[-4])"
   ]
  },
  {
   "cell_type": "code",
   "execution_count": 4,
   "id": "cd069a0a",
   "metadata": {},
   "outputs": [
    {
     "name": "stdout",
     "output_type": "stream",
     "text": [
      "Hello\n",
      "1\n"
     ]
    }
   ],
   "source": [
    "#slicing\n",
    "print(str1[0:5])\n",
    "\n",
    "#find\n",
    "print(str1.find(\"e\"))   #maybe find is only available for strings"
   ]
  },
  {
   "cell_type": "code",
   "execution_count": 2,
   "id": "1c0c6fa3",
   "metadata": {},
   "outputs": [
    {
     "name": "stdout",
     "output_type": "stream",
     "text": [
      "<class 'str'>\n",
      "['Thi', ',i', ',orange']\n",
      "<class 'list'>\n"
     ]
    }
   ],
   "source": [
    "#list datatype\n",
    "split1 = \"This,is,orange\"\n",
    "print(type(split1))       #string\n",
    "l1 = split1.split(\",\")\n",
    "print(l1)\n",
    "print(type(l1))          #list"
   ]
  },
  {
   "cell_type": "code",
   "execution_count": 4,
   "id": "ac8064ad",
   "metadata": {},
   "outputs": [
    {
     "data": {
      "text/plain": [
       "['a', '1', 'hello']"
      ]
     },
     "execution_count": 4,
     "metadata": {},
     "output_type": "execute_result"
    }
   ],
   "source": [
    "list1 = ['a', '1', 'hello']\n",
    "list1"
   ]
  },
  {
   "cell_type": "code",
   "execution_count": 5,
   "id": "ea05336b",
   "metadata": {},
   "outputs": [
    {
     "name": "stdout",
     "output_type": "stream",
     "text": [
      "['a', '1', 'hello', '2', 'world']\n",
      "['a', '1', 'hello', '2', 'world', 'a', '1', 'hello', '2', 'world']\n"
     ]
    }
   ],
   "source": [
    "list2 = ['2', 'world']\n",
    "list1 +=list2\n",
    "print(list1)\n",
    "print(list1*2)"
   ]
  },
  {
   "cell_type": "code",
   "execution_count": 38,
   "id": "e0543785",
   "metadata": {},
   "outputs": [
    {
     "name": "stdout",
     "output_type": "stream",
     "text": [
      "('a', 'b', 'c', 'd', 'e', 'f', 'g')\n",
      "('a', 'b', 'c', 'd', 'a', 'b', 'c', 'd')\n"
     ]
    }
   ],
   "source": [
    "#tuple\n",
    "tup1 = ('a', 'b', 'c', 'd')\n",
    "type(tup1)\n",
    "\n",
    "tup2 = ('e', 'f', 'g')\n",
    "print(tup1 + tup2)\n",
    "\n",
    "print(tup1 *2)"
   ]
  },
  {
   "cell_type": "code",
   "execution_count": 3,
   "id": "91fd176a",
   "metadata": {},
   "outputs": [
    {
     "name": "stdout",
     "output_type": "stream",
     "text": [
      "{1: 'lion', 2: 'tiger', 3: 'dog'}\n",
      "<class 'dict'> 3\n"
     ]
    }
   ],
   "source": [
    "#Mapping - dictionary\n",
    "\n",
    "dict1 = {1:\"lion\", 2:\"tiger\", 3:\"dog\"}\n",
    "print(dict1)\n",
    "print(type(dict1), len(dict1))"
   ]
  },
  {
   "cell_type": "code",
   "execution_count": 4,
   "id": "7670a126",
   "metadata": {},
   "outputs": [
    {
     "data": {
      "text/plain": [
       "{1, 2, 3, 4, 5}"
      ]
     },
     "execution_count": 4,
     "metadata": {},
     "output_type": "execute_result"
    }
   ],
   "source": [
    "#set\n",
    "#set is an unordered collection of unique values\n",
    "set1 = {1,1,2,3,3,4,5}\n",
    "set1\n"
   ]
  },
  {
   "cell_type": "code",
   "execution_count": 6,
   "id": "eeeb1574",
   "metadata": {},
   "outputs": [
    {
     "name": "stdout",
     "output_type": "stream",
     "text": [
      "{1, 2, 3, 4, 5, 'b', 'a'}\n",
      "{3, 4}\n",
      "{1, 2, 5}\n"
     ]
    }
   ],
   "source": [
    "set2 = {'a', 'b', 3, 4}\n",
    "\n",
    "print(set1 | set2) #or operation\n",
    "\n",
    "print(set1 & set2)\n",
    "\n",
    "print(set1 - set2)  # returns unique values present in set 1 and not present in set 2"
   ]
  },
  {
   "cell_type": "code",
   "execution_count": 49,
   "id": "ec3d2bb7",
   "metadata": {},
   "outputs": [
    {
     "name": "stdout",
     "output_type": "stream",
     "text": [
      "<class 'range'>\n",
      "range(0, 4)\n"
     ]
    }
   ],
   "source": [
    "#range\n",
    "\n",
    "x = range(4)\n",
    "print(type(x))\n",
    "print(x)"
   ]
  },
  {
   "cell_type": "code",
   "execution_count": 10,
   "id": "97269f0f",
   "metadata": {},
   "outputs": [
    {
     "name": "stdout",
     "output_type": "stream",
     "text": [
      "b'Hello world'\n",
      "<class 'bytes'>\n"
     ]
    }
   ],
   "source": [
    "#Binary datatypes\n",
    "\n",
    "x = b\"Hello world\"\n",
    "print(x)\n",
    "print(type(x))\n"
   ]
  },
  {
   "cell_type": "code",
   "execution_count": 13,
   "id": "c5290f41",
   "metadata": {},
   "outputs": [
    {
     "name": "stdout",
     "output_type": "stream",
     "text": [
      "111\n"
     ]
    }
   ],
   "source": [
    "x[4]  #*** returns the ascii value of character present at fourth index as x is binary datatype\n",
    "print(x[4])"
   ]
  },
  {
   "cell_type": "code",
   "execution_count": 1,
   "id": "e82cb16a",
   "metadata": {},
   "outputs": [
    {
     "name": "stdout",
     "output_type": "stream",
     "text": [
      "<class 'str'>\n",
      "[' ', 'M', 'e', 's', 's', 'i', ' ', 'i', 's', ' ', 'f', 'r', 'o', 'm', ' ', 'a', 'r', 'g', 'e', 'n', 't', 'i', 'n', 'a']\n",
      "<class 'list'>\n",
      "{'m', 't', 's', 'r', 'e', 'M', 'o', ' ', 'a', 'n', 'i', 'f', 'g'}\n",
      "<class 'set'>\n"
     ]
    }
   ],
   "source": [
    "#TYPE CONVERSION\n",
    "\n",
    "s = \" Messi is from argentina\"\n",
    "print(type(s))\n",
    "\n",
    "l1 = list(s)\n",
    "print(l1)\n",
    "print(type(l1))\n",
    "\n",
    "s1 = set(l1)\n",
    "print(s1)\n",
    "print(type(s1))"
   ]
  },
  {
   "cell_type": "code",
   "execution_count": null,
   "id": "7f698bab",
   "metadata": {},
   "outputs": [],
   "source": []
  }
 ],
 "metadata": {
  "kernelspec": {
   "display_name": "Python 3 (ipykernel)",
   "language": "python",
   "name": "python3"
  },
  "language_info": {
   "codemirror_mode": {
    "name": "ipython",
    "version": 3
   },
   "file_extension": ".py",
   "mimetype": "text/x-python",
   "name": "python",
   "nbconvert_exporter": "python",
   "pygments_lexer": "ipython3",
   "version": "3.12.1"
  }
 },
 "nbformat": 4,
 "nbformat_minor": 5
}
