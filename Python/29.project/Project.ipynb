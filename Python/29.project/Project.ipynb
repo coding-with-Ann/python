{
 "cells": [
  {
   "cell_type": "code",
   "execution_count": null,
   "id": "ea601aac",
   "metadata": {},
   "outputs": [],
   "source": [
    "#MULTI PLAYER DICE PROJECT\n",
    "import random\n",
    "\n",
    "def dice_game():\n",
    "    \n",
    "    no_of_players = (input(\"Please enter no of players(2 to 4) or 'q' to exit: \"))\n",
    "    print()\n",
    "    \n",
    "    if no_of_players == 'q':   # function exit condition\n",
    "        return\n",
    "    no_of_players = int(no_of_players)\n",
    "\n",
    "    if  no_of_players>4 or no_of_players<2:\n",
    "            print(\"sorry! Invalid number\")\n",
    "            dice_game()\n",
    "    else:\n",
    "        i=0\n",
    "        for i in range(no_of_players):\n",
    "            sum=0\n",
    "            no_of_chances = int(input(\"please enter the no of chances you want\"))\n",
    "\n",
    "            for j in range(no_of_chances):\n",
    "                rolled_value = random.randint(1,6)\n",
    "\n",
    "                if rolled_value == 1:\n",
    "                    print(\"sorry you lost the score\")\n",
    "                    sum =0\n",
    "                    if i == no_of_players-1:\n",
    "                        if j == no_of_chances-1:\n",
    "                            i=0\n",
    "                            break\n",
    "                    break\n",
    "\n",
    "                sum += rolled_value\n",
    "                print(\"your score after\", j, \"attempt is \" , sum)\n",
    "\n",
    "                if sum >= 20:\n",
    "                    break\n",
    "              \n",
    "\n",
    "            if sum >= 20:\n",
    "                print(\"you won the game\")\n",
    "                break\n",
    "                \n",
    "        dice_game()    \n",
    "dice_game()"
   ]
  },
  {
   "cell_type": "code",
   "execution_count": null,
   "id": "af55cfac",
   "metadata": {},
   "outputs": [],
   "source": [
    "#"
   ]
  }
 ],
 "metadata": {
  "kernelspec": {
   "display_name": "Python 3 (ipykernel)",
   "language": "python",
   "name": "python3"
  },
  "language_info": {
   "codemirror_mode": {
    "name": "ipython",
    "version": 3
   },
   "file_extension": ".py",
   "mimetype": "text/x-python",
   "name": "python",
   "nbconvert_exporter": "python",
   "pygments_lexer": "ipython3",
   "version": "3.11.2"
  }
 },
 "nbformat": 4,
 "nbformat_minor": 5
}
