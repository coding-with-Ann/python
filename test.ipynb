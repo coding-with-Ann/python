{
 "cells": [
  {
   "cell_type": "code",
   "execution_count": 2,
   "metadata": {},
   "outputs": [
    {
     "name": "stdout",
     "output_type": "stream",
     "text": [
      "hello\n"
     ]
    }
   ],
   "source": [
    "print('hello')"
   ]
  },
  {
   "cell_type": "code",
   "execution_count": 19,
   "metadata": {},
   "outputs": [
    {
     "name": "stdout",
     "output_type": "stream",
     "text": [
      "<class 'float'>\n",
      "<class 'int'>\n"
     ]
    }
   ],
   "source": [
    "name = 88.7\n",
    "print(type(name))\n",
    "\n",
    "st = print(type(int(name)))\n"
   ]
  },
  {
   "cell_type": "code",
   "execution_count": 22,
   "metadata": {},
   "outputs": [
    {
     "name": "stdout",
     "output_type": "stream",
     "text": [
      "2.0\n",
      "3.0\n"
     ]
    }
   ],
   "source": [
    "a = 2+3j\n",
    "print(a.real)\n",
    "print(a.imag)"
   ]
  },
  {
   "cell_type": "code",
   "execution_count": 63,
   "metadata": {},
   "outputs": [
    {
     "name": "stdout",
     "output_type": "stream",
     "text": [
      "5\n",
      "5\n",
      "dict_keys(['a1', 'b1', 'c1'])\n",
      "dict_values([100, 200, 300])\n",
      "dict_items([('a1', 100), ('b1', 200), ('c1', 300)])\n"
     ]
    }
   ],
   "source": [
    "a = [1,2,3,5]\n",
    "print(a[3])\n",
    "\n",
    "b = (2,3,5,6)\n",
    "print(b[2])\n"
   ]
  },
  {
   "cell_type": "code",
   "execution_count": 68,
   "metadata": {},
   "outputs": [
    {
     "name": "stdout",
     "output_type": "stream",
     "text": [
      "dict_keys(['a1', 'b1', 'c1'])\n",
      "dict_values([100, 200, 300])\n",
      "dict_items([('a1', 100), ('b1', 200), ('c1', 300)])\n",
      "b1\n"
     ]
    }
   ],
   "source": [
    "c = {'a1': 100, 'b1': 200, 'c1':300}\n",
    "print(c.keys())\n",
    "print(c.values())\n",
    "print(c.items())\n",
    "\n",
    "for key, value in c.items():\n",
    "    if(value == 200):\n",
    "        print(key)\n",
    "        "
   ]
  },
  {
   "cell_type": "code",
   "execution_count": 72,
   "metadata": {},
   "outputs": [
    {
     "name": "stdout",
     "output_type": "stream",
     "text": [
      "[[1, 3, 5, 6]]\n"
     ]
    }
   ],
   "source": [
    "l = list()\n",
    "l.append([1,3,5,6])\n",
    "print(l)"
   ]
  },
  {
   "cell_type": "code",
   "execution_count": 104,
   "metadata": {},
   "outputs": [
    {
     "name": "stdout",
     "output_type": "stream",
     "text": [
      "(2, 4)\n",
      "[2, 4, 456]\n",
      "(2, 4, 456, 555)\n",
      "[2, 456, 555]\n"
     ]
    }
   ],
   "source": [
    "t = tuple()\n",
    "t1 = t+ (2,4)\n",
    "print(t1)\n",
    "\n",
    "ll = list(t1)\n",
    "ll.append(456)\n",
    "print(ll)\n",
    "tuple(ll)\n",
    "ll.append(555)\n",
    "print(tuple(ll))\n",
    "ll.pop(1)\n",
    "print(ll)"
   ]
  },
  {
   "cell_type": "code",
   "execution_count": 106,
   "metadata": {},
   "outputs": [
    {
     "name": "stdout",
     "output_type": "stream",
     "text": [
      "a 100\n",
      "b 200\n",
      "c 300\n",
      "{'a': 100, 'b': 200, 'c': 300, 'd': 400}\n"
     ]
    },
    {
     "data": {
      "text/plain": [
       "{'a': 100, 'b': 200, 'c': 300, 'e': 'hello'}"
      ]
     },
     "execution_count": 106,
     "metadata": {},
     "output_type": "execute_result"
    }
   ],
   "source": [
    "dict1 = {'a':100, 'b':200, 'c':300}\n",
    "for key, value in dict1.items():\n",
    "    print(key,value)\n",
    "\n",
    "dict1['d'] = 400\n",
    "print(dict1)\n",
    "\n",
    "dict1['e'] = 'hello'\n",
    "\n",
    "dict1.pop('d')\n",
    "dict1"
   ]
  },
  {
   "cell_type": "code",
   "execution_count": 112,
   "metadata": {},
   "outputs": [
    {
     "data": {
      "text/plain": [
       "1"
      ]
     },
     "execution_count": 112,
     "metadata": {},
     "output_type": "execute_result"
    }
   ],
   "source": [
    "b = (2,3,5,6)\n",
    "b.count(2)\n",
    "b.index(3)"
   ]
  },
  {
   "cell_type": "code",
   "execution_count": 127,
   "metadata": {},
   "outputs": [
    {
     "name": "stdout",
     "output_type": "stream",
     "text": [
      "125679"
     ]
    }
   ],
   "source": []
  },
  {
   "cell_type": "code",
   "execution_count": 9,
   "metadata": {},
   "outputs": [
    {
     "data": {
      "text/plain": [
       "7"
      ]
     },
     "execution_count": 9,
     "metadata": {},
     "output_type": "execute_result"
    }
   ],
   "source": [
    "l1 = [4,5,6,7,8]\n",
    "l2 = lambda a,b : a+b\n",
    "l2(3,4)"
   ]
  },
  {
   "cell_type": "code",
   "execution_count": 15,
   "metadata": {},
   "outputs": [
    {
     "name": "stdout",
     "output_type": "stream",
     "text": [
      "<map object at 0x748dabf69cc0>\n",
      "[529, 25, 36, 64, 81]\n"
     ]
    }
   ],
   "source": [
    "nums = [23,5,6,8,9]\n",
    "result = map(lambda a : a*a, nums)\n",
    "print(result)\n",
    "\n",
    "data = list(result)\n",
    "print(data)"
   ]
  },
  {
   "cell_type": "code",
   "execution_count": 4,
   "metadata": {},
   "outputs": [
    {
     "name": "stdout",
     "output_type": "stream",
     "text": [
      "<filter object at 0x78eb71703070>\n",
      "[3, 4, 5]\n"
     ]
    }
   ],
   "source": [
    "numbers = [1,2,3,4,5]\n",
    "greater = filter(lambda x : x>2, numbers)\n",
    "print(greater)\n",
    "num = list(greater)\n",
    "print(num)"
   ]
  },
  {
   "cell_type": "code",
   "execution_count": 7,
   "metadata": {},
   "outputs": [
    {
     "name": "stdout",
     "output_type": "stream",
     "text": [
      "15\n"
     ]
    }
   ],
   "source": [
    "from functools import reduce\n",
    "numbers = [1,2,3,4,5]\n",
    "sum = reduce(lambda x,y : x+y, numbers)\n",
    "print(sum)"
   ]
  },
  {
   "cell_type": "code",
   "execution_count": 26,
   "metadata": {},
   "outputs": [
    {
     "name": "stdout",
     "output_type": "stream",
     "text": [
      "cat meows\n",
      "cats are omnivorous\n"
     ]
    }
   ],
   "source": [
    "class Cat:\n",
    "    def __init__(self):\n",
    "        self.name = 'kitty'\n",
    "\n",
    "    def cat_sound(self):\n",
    "        print('cat meows')\n",
    "\n",
    "    def cat_food(self):\n",
    "        print('cats are omnivorous')\n",
    "\n",
    "cat = Cat()\n",
    "cat.cat_sound()\n",
    "cat.cat_food()"
   ]
  },
  {
   "cell_type": "code",
   "execution_count": 23,
   "metadata": {},
   "outputs": [
    {
     "name": "stdout",
     "output_type": "stream",
     "text": [
      "cat meows\n"
     ]
    },
    {
     "data": {
      "text/plain": [
       "'kitty'"
      ]
     },
     "execution_count": 23,
     "metadata": {},
     "output_type": "execute_result"
    }
   ],
   "source": [
    "cat1 = Cat()\n",
    "cat1.cat_sound()\n",
    "Cat().name"
   ]
  },
  {
   "cell_type": "code",
   "execution_count": 2,
   "metadata": {},
   "outputs": [
    {
     "name": "stdout",
     "output_type": "stream",
     "text": [
      "kitty\n"
     ]
    }
   ],
   "source": [
    "class Cat:\n",
    "    name = 'kitty'  # Class attribute\n",
    "\n",
    "    \n",
    "    def __init__(self, planet):\n",
    "        self.planet = planet\n",
    "        \n",
    "    def get_planet(self):\n",
    "        print(self.planet)\n",
    "\n",
    "    @classmethod\n",
    "    def cat_sound(self):\n",
    "        print('cat meows')\n",
    "\n",
    "    @classmethod\n",
    "    def cat_food(self):\n",
    "        print('cats are omnivorous')\n",
    "\n",
    "# Accessing the class attribute without creating an instance\n",
    "cat = Cat('Earth')\n",
    "print(Cat.name)  # Output: kitty\n"
   ]
  },
  {
   "cell_type": "code",
   "execution_count": 55,
   "metadata": {},
   "outputs": [
    {
     "name": "stdout",
     "output_type": "stream",
     "text": [
      "cat meows\n",
      "Earth\n"
     ]
    }
   ],
   "source": [
    "Cat.cat_sound()\n",
    "Cat.name\n",
    "cat.get_planet()"
   ]
  },
  {
   "cell_type": "code",
   "execution_count": 3,
   "metadata": {},
   "outputs": [
    {
     "name": "stdout",
     "output_type": "stream",
     "text": [
      "lion roars\n"
     ]
    },
    {
     "data": {
      "text/plain": [
       "'animal'"
      ]
     },
     "execution_count": 3,
     "metadata": {},
     "output_type": "execute_result"
    }
   ],
   "source": [
    "class Lion(Cat):\n",
    "    def __init__(self, planet, category):\n",
    "        super().__init__(planet)\n",
    "        self.category = category \n",
    "\n",
    "    def lion_sound(self):\n",
    "        print('lion roars')\n",
    "\n",
    "lion = Lion('earth', 'animal')\n",
    "lion.lion_sound()\n",
    "lion.planet\n",
    "lion.category"
   ]
  },
  {
   "cell_type": "code",
   "execution_count": 4,
   "metadata": {},
   "outputs": [
    {
     "name": "stdout",
     "output_type": "stream",
     "text": [
      "tiger can't roar\n"
     ]
    },
    {
     "data": {
      "text/plain": [
       "'Venus'"
      ]
     },
     "execution_count": 4,
     "metadata": {},
     "output_type": "execute_result"
    }
   ],
   "source": [
    "class Tiger(Lion):\n",
    "    def __init__(self, planet, category):\n",
    "        super().__init__(category, planet)\n",
    "\n",
    "    def tiger_sound(self):\n",
    "        print(\"tiger can't roar\")\n",
    "\n",
    "tiger = Tiger('Animal', 'Venus')\n",
    "tiger.tiger_sound()\n",
    "tiger.planet"
   ]
  },
  {
   "cell_type": "code",
   "execution_count": 13,
   "metadata": {},
   "outputs": [
    {
     "name": "stdout",
     "output_type": "stream",
     "text": [
      "this is tiger sound\n"
     ]
    }
   ],
   "source": [
    "class Tiger_Child(Tiger):\n",
    "\n",
    "    def tiger_sound(self):\n",
    "        print('this is tiger sound')\n",
    "\n",
    "tiger_child = Tiger_Child('moon', 'animal')\n",
    "tiger_child.tiger_sound()"
   ]
  },
  {
   "cell_type": "code",
   "execution_count": 21,
   "metadata": {},
   "outputs": [
    {
     "name": "stdout",
     "output_type": "stream",
     "text": [
      "a1 4\n",
      "a2 2\n",
      "a3 3\n"
     ]
    }
   ],
   "source": [
    "a = {'a1':1,'a2':2,'a3':3, 'a1':4}\n",
    "\n",
    "for key, value in a.items():\n",
    "    print(key, value)"
   ]
  },
  {
   "cell_type": "code",
   "execution_count": 26,
   "metadata": {},
   "outputs": [
    {
     "name": "stdout",
     "output_type": "stream",
     "text": [
      "{1, 2, 3, 4}\n"
     ]
    }
   ],
   "source": [
    "set = {1,2,3,4}\n",
    "print(set)"
   ]
  },
  {
   "cell_type": "code",
   "execution_count": null,
   "metadata": {},
   "outputs": [],
   "source": [
    "l = [3,5,7,3,6,8]\n",
    "def linearsearch(arr, target):\n",
    "    for index, value in enumerate(arr):\n",
    "        if value == target:\n",
    "            return index\n",
    "        else:\n",
    "            return -1\n",
    "        \n",
    "found_at = linearsearch(l, 3)\n",
    "print('element is found at index ', found_at)\n",
    "            "
   ]
  }
 ],
 "metadata": {
  "kernelspec": {
   "display_name": "Python 3",
   "language": "python",
   "name": "python3"
  },
  "language_info": {
   "codemirror_mode": {
    "name": "ipython",
    "version": 3
   },
   "file_extension": ".py",
   "mimetype": "text/x-python",
   "name": "python",
   "nbconvert_exporter": "python",
   "pygments_lexer": "ipython3",
   "version": "3.12.3"
  }
 },
 "nbformat": 4,
 "nbformat_minor": 2
}
