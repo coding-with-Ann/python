{
 "cells": [
  {
   "cell_type": "code",
   "execution_count": 1,
   "id": "5c1aaea5",
   "metadata": {},
   "outputs": [],
   "source": [
    "# The variable which is declared inside a class and outside a method is called a static variable or class variable\n",
    "#class name with dot and variable is also a static variable\n",
    "#className.variable=value is a class variable\n",
    "#we can create, update, access and delete class variable using class name but we can only access class variable using object.\n",
    "#class variables are the variables that are shared among all instannces of a class.\n",
    "#Instance variables are unique for each instance.\n",
    "\n",
    "# INSTANCE VARIABLE\n",
    "#when a variable is created for object it is called istance variable\n",
    "# self.a=10 is a instance variable\n",
    "# obj.instancevar = 30 is also an instance variable\n",
    "\n",
    "# INSTANCE METHOD\n",
    "#By default the methods that we create in class are instance methods.\n",
    "#Instance method can also be called as object method because we create these methods for objects\n",
    "#we can create, access, update and delete object attributes using instance methods.\n",
    "#we can access instance method only using objects.\n",
    "\n",
    "# CLASS METHOD\n",
    "#Class methods belong to the class,with class methods we can perform operations only on class variables\n",
    "#we can't perform operations on instance variables using class methods\n",
    "#we can access class variable using object and class, simillarly we can access class method using class and object.\n",
    "# syntax:\n",
    "#     @classmethod\n",
    "#     def classmethod(cls, parameters):\n",
    "#         body\n",
    "\n",
    "#Static method\n",
    "# Static method is used to do a general task, In static method reference is not passed.\n",
    "#static method can be accessed by both class and object\n",
    "#when we want a method that has nothing to do with instance variables and class variables, we use static method.\n",
    "# syntax\n",
    "# @staticmethod\n",
    "# def stm():\n",
    "#     pass\n",
    "    \n",
    "\n",
    "\n",
    "\n",
    "#POLYMORPHISM( having MANY FORMS)\n",
    "# For example if a person has wife, children, and works at a bank then that one person is having a wife, childen and works \n",
    "#at bank, so he has more than one form, so he is an example of polymorphism.\n",
    "#same method name but different implementations\n",
    "# OPerator overloading: An operator having many forms, like + is used as additon operator and concatenation operator.\n",
    "#print() is also an example of polymorphism because it can give single parameter or multiple parameters and any type of data.\n",
    "#method overloading and method overriding are concepts of polymorphism. ********\n",
    "\n",
    "#Compile time polymorphism(static binding): Polymorphism at compile time (Method over loading, operator overloading are examples CTP)\n",
    "#Run time polymorphism(Dynamic binding): method overriding is an example of polymorphism.\n",
    "\n",
    "#METHOD OVERLOADING\n",
    "# If a class contains more than one method with same name but but different data types, different no of parameters or both, it is\n",
    "# called method overloading\n",
    "#Python doesnt support method overloading by default but we can use it using a module called multipledispatch\n",
    "# use pip install modulename to install multipledispatch  @dispatch(decorators concept) ******\n",
    "#we can aslo use *args to add to perform operations without using this concept******\n",
    "\n",
    "#METHOD OVERRIDING\n",
    "#when we have same method in super class and subclass,if we call the method using subclass then, the method in subclass will\n",
    "#be called but not the method in superclass, this is called method overriding.\n",
    "# RULES FOR OVERRIDING\n",
    "#INHERITANCE MUST BE DONE BETWEEN TWO CLASSES OTHERWISE METHOD OVERRIDING WONT BE THERE\n",
    "#DELCARE TWO CLASSES WITH SAME METHOD NAME AND SAME PARAMETERS\n",
    "#IF WE ACCESS THE METHOD IN SUPER CLASS METHOD USING SUPERCLASS OBJECT METHOD OVERIDING WONT HAPPEN\n",
    "\n",
    "\n",
    "\n",
    "\n",
    "#ENCAPSULATION\n",
    "#Combining related things into a single unit.\n",
    "#We can restict access to variables or methods\n",
    "# unlike java we cant use private keyword in python\n",
    "#we can use access modifiers to restrict data access of child classes from parent class. ****\n",
    "#In python we denote private attributes using _ as prefix that is single underscore _ or double underscore __ as \n",
    "#These attributes can be accessed only inside the class and cant be accessed outside the class\n",
    "#single underscore works as a protected access modifier and double underscore works as private access modifier\n",
    "#_  protected(It will be similar to data in public access modifier)   it can only access that class and deerived class data\n",
    "#__ private   data can be accessed only in that class.\n",
    "#private members can be accessed outside the class using methods, we cant access private members directly using objects.\n",
    "#by using name mangling we can access private members outside the class.\n",
    "\n",
    "#In python protected and private can be used as public.\n",
    "\n",
    "# NAME MANGLING\n",
    "# atleast 2 leading underscores and atmost 1 trailing underscore\n",
    "#to access private members using object and from child class we can use name mangling.\n",
    "\n",
    "\n",
    "\n",
    "\n",
    "#ABSTRACTION\n",
    "#The process of handling complexity by hiding unnecessary information from user is called Abstraction.\n",
    "#ENCAPSULATION AND ABSTRACTION ARE OFTEN USED AS SYNONYMS\n",
    "#ABSTRACTION IS USED TO HIDE INTERNAL DETAILS AND SHOW ONLY FUNCTIONALITIES\n",
    "#eg: you know how to turn ON and off a light but you dont know whats happining behind the socket\n",
    "#ATM\n",
    "\n",
    "#If a class contains one or more abstract methods, it is called ABSTRACT CLASS\n",
    "\n",
    "# IF A METHOD IS DECLARED WITHOUT IMPLEMENTATION, IT IS CALLED ABSTRACT METHOD.\n",
    "\n",
    "#AN ABSTRACT CLASS CANT BE INSTANTIATED WHICH MEANS U CANT CREATE OBJECTS FOR THIS CLASS \n",
    "\n",
    "#IT CAN ONLY BE USED FOR INHERITING THE FUNCTIONALITIES\n",
    "\n",
    "#A normal method in abstract class is called concrete method\n",
    "\n",
    "#All the abstract methods in abstract class must be implemented in child class otherwise, we'll get error.\n",
    "\n",
    "#when we reate classes if the classes have same methods but the implementation is different then we create abstract classes."
   ]
  },
  {
   "cell_type": "code",
   "execution_count": 3,
   "id": "c6d04cbb",
   "metadata": {},
   "outputs": [
    {
     "name": "stdout",
     "output_type": "stream",
     "text": [
      "bmw year of manifacture 2021\n",
      "ducati year of manifacture 2020\n"
     ]
    }
   ],
   "source": [
    "class Bikes:\n",
    "    def __init__(self, brandname, year):\n",
    "        self.brandname = brandname\n",
    "        self.year = year\n",
    "        \n",
    "bmw = Bikes(\"bmw\", 2021)\n",
    "ducati = Bikes(\"ducati\", 2020)\n",
    "print(\"{} year of manifacture {}\".format(bmw.brandname, bmw.year))\n",
    "print(\"{} year of manifacture {}\".format(ducati.brandname, ducati.year))\n"
   ]
  },
  {
   "cell_type": "code",
   "execution_count": 6,
   "id": "8ca0a2e0",
   "metadata": {},
   "outputs": [
    {
     "name": "stdout",
     "output_type": "stream",
     "text": [
      "bmw top speed is 200\n",
      "bmw is geared \n"
     ]
    }
   ],
   "source": [
    "class Bikes:\n",
    "    def __init__(self, brandname, year):\n",
    "        self.brandname = brandname\n",
    "        self.year = year\n",
    "    def topspeed(self, topspeed):\n",
    "        return \"{} top speed is {}\".format(self.brandname, topspeed)\n",
    "    def type(self):\n",
    "        return \"{} is geared \".format(self.brandname)\n",
    "bmw = Bikes(\"bmw\", 2021)\n",
    "print(bmw.topspeed(200))\n",
    "print(bmw.type())"
   ]
  },
  {
   "cell_type": "code",
   "execution_count": 11,
   "id": "e6106114",
   "metadata": {},
   "outputs": [
    {
     "name": "stdout",
     "output_type": "stream",
     "text": [
      "Animal making sound\n",
      "cat meows\n"
     ]
    }
   ],
   "source": [
    "#SINGLE LEVEL INHERITANCE\n",
    "class Animal:\n",
    "    def sound(self):\n",
    "        print(\"Animal making sound\")\n",
    "class Cat(Animal):               #Inherits animal\n",
    "    def meow(self):\n",
    "        print(\"cat meows\")\n",
    "\n",
    "cat = Cat()\n",
    "cat.sound()\n",
    "cat.meow()\n"
   ]
  },
  {
   "cell_type": "code",
   "execution_count": 13,
   "id": "7c5d11eb",
   "metadata": {},
   "outputs": [
    {
     "name": "stdout",
     "output_type": "stream",
     "text": [
      "Animal making sound\n",
      "cat meows\n",
      "Eating bread\n"
     ]
    }
   ],
   "source": [
    "#MULTI LEVEL INHERITANCE\n",
    "\n",
    "class Animal:\n",
    "    def sound(self):\n",
    "        print(\"Animal making sound\")\n",
    "class Cat(Animal):\n",
    "    def meow(self):\n",
    "        print(\"cat meows\")\n",
    "class Catchild(Cat):\n",
    "    def eat(self):\n",
    "        print(\"Eating bread\")\n",
    "\n",
    "catchild = Catchild()\n",
    "catchild.sound()\n",
    "catchild.meow()\n",
    "catchild.eat()"
   ]
  },
  {
   "cell_type": "code",
   "execution_count": 19,
   "id": "da2867b0",
   "metadata": {},
   "outputs": [
    {
     "name": "stdout",
     "output_type": "stream",
     "text": [
      "parrot can fly\n",
      "penguin cant fly\n"
     ]
    }
   ],
   "source": [
    "#polymorphism\n",
    "class Parrot:\n",
    "    def fly(self):\n",
    "        print(\"parrot can fly\")\n",
    "    def swim(self):\n",
    "        print(\"parrot cant swim\")\n",
    "\n",
    "class Penguin:\n",
    "    def fly(self):\n",
    "        print(\"penguin cant fly\")\n",
    "    def swim(self):\n",
    "        print(\"penguin can swim\")\n",
    "\n",
    "def flying_test(bird):       #in the method flying test whatever instance of bird object will be\n",
    "    bird.fly()               #the corresponding method will be invoked\n",
    "    \n",
    "prt = Parrot()\n",
    "png = Penguin()\n",
    "flying_test(prt)\n",
    "flying_test(png)\n",
    "        \n",
    "        "
   ]
  },
  {
   "cell_type": "code",
   "execution_count": 2,
   "id": "54f26598",
   "metadata": {},
   "outputs": [
    {
     "name": "stdout",
     "output_type": "stream",
     "text": [
      "900000 selling price: \n"
     ]
    }
   ],
   "source": [
    "#ENCAPSULATION\n",
    "class Cars:\n",
    "    def __init__(self):\n",
    "        self.__maxprice = 900000\n",
    "    def sell(self):\n",
    "        print(\"{} selling price: \".format(self.__maxprice))\n",
    "    def setMaxprice(self, price):\n",
    "        self.__maxprice = price\n",
    "\n",
    "cars = Cars()\n",
    "# cars.sell()\n",
    "\n",
    "cars.__maxprice = 100000  #trying to modify a private variable using cars object\n",
    "cars.sell()               #we cant directly modify the private variable           #***\n",
    "\n",
    "# cars.setMaxprice(100000)  #we can modify the private variavle from the method   #****\n",
    "# cars.sell()"
   ]
  },
  {
   "cell_type": "code",
   "execution_count": 29,
   "id": "0dd6f40d",
   "metadata": {},
   "outputs": [
    {
     "name": "stdout",
     "output_type": "stream",
     "text": [
      "harry\n",
      "Ron\n"
     ]
    }
   ],
   "source": [
    "#Hierarchical inheritance\n",
    "class Employee():\n",
    "    def __init__(self, name, age ,salary):\n",
    "        self.name = name\n",
    "        self.age = age\n",
    "        self.salary = salary\n",
    "class ChildEmployee1(Employee):\n",
    "    def __init__(self, name, age ,salary):\n",
    "        self.name = name\n",
    "        self.age = age\n",
    "        self.salary = salary\n",
    "\n",
    "class ChildEmployee2(Employee):\n",
    "    def __init__(self, name, age ,salary):\n",
    "        self.name = name\n",
    "        self.age = age\n",
    "        self.salary = salary\n",
    "    \n",
    "#emp = Employee(\"A\", 21, 100000)        #child classes can access these\n",
    "\n",
    "emp1 = ChildEmployee1(\"harry\", 20, 50000)\n",
    "emp2 = ChildEmployee2(\"Ron\", 20, 45000)\n",
    "\n",
    "print(emp1.name)\n",
    "print(emp2.name)\n",
    "    "
   ]
  },
  {
   "cell_type": "code",
   "execution_count": 34,
   "id": "cc9ce7aa",
   "metadata": {},
   "outputs": [
    {
     "name": "stdout",
     "output_type": "stream",
     "text": [
      "The milage is 30km/hr\n"
     ]
    }
   ],
   "source": [
    "#Abstraction\n",
    "\n",
    "class Car():\n",
    "    def milage(self):    #giving just method signature, no deinition\n",
    "        pass             #child classes which will inherit the abstract class will be giving the defintion\n",
    "\n",
    "class BMW(Car):\n",
    "    def milage(self):                       #child class implemented the method of abstract parent class\n",
    "        print(\"The milage is 30km/hr\")\n",
    "        \n",
    "class Jaguar(Car):\n",
    "    def milage(self):\n",
    "        print(\"The milage is 35km/hr\")\n",
    "class Ferrari(Car):\n",
    "    def milage(self):\n",
    "        print(\"The milage is 40km/hr\")\n",
    "class benz(Car):\n",
    "    def milage(self):\n",
    "        print(\"The milage is 39km/hr\")\n",
    "        \n",
    "b = BMW()\n",
    "b.milage()\n",
    "        \n",
    "    \n",
    "# we have to implement all abstract class methods in child class otherwise we'll gives error."
   ]
  },
  {
   "cell_type": "code",
   "execution_count": 1,
   "id": "3bd48cbf",
   "metadata": {},
   "outputs": [
    {
     "ename": "TypeError",
     "evalue": "Can't instantiate abstract class Abs with abstract method mtd",
     "output_type": "error",
     "traceback": [
      "\u001b[1;31m---------------------------------------------------------------------------\u001b[0m",
      "\u001b[1;31mTypeError\u001b[0m                                 Traceback (most recent call last)",
      "Cell \u001b[1;32mIn[1], line 7\u001b[0m\n\u001b[0;32m      4\u001b[0m     \u001b[38;5;129m@abstractmethod\u001b[39m\n\u001b[0;32m      5\u001b[0m     \u001b[38;5;28;01mdef\u001b[39;00m \u001b[38;5;21mmtd\u001b[39m(\u001b[38;5;28mself\u001b[39m):\n\u001b[0;32m      6\u001b[0m         \u001b[38;5;28;01mpass\u001b[39;00m\n\u001b[1;32m----> 7\u001b[0m obj1 \u001b[38;5;241m=\u001b[39m \u001b[43mAbs\u001b[49m\u001b[43m(\u001b[49m\u001b[43m)\u001b[49m\n\u001b[0;32m      8\u001b[0m obj1\u001b[38;5;241m.\u001b[39mmtd()\n",
      "\u001b[1;31mTypeError\u001b[0m: Can't instantiate abstract class Abs with abstract method mtd"
     ]
    }
   ],
   "source": [
    "# If a class inherits ABC class and contains abstract method we call it a abstract class\n",
    "#Normal method in a abstract class is called concrete method.\n",
    "\n",
    "from abc import ABC, abstractmethod\n",
    "class Abs(ABC):\n",
    "    @abstractmethod\n",
    "    def mtd(self):\n",
    "        pass\n",
    "    def mtd1(self):\n",
    "        print(\"This is a concrete method\") #this is not a abstract method because it doesnt contain abstract method decorator\n",
    "                                            # and contains implementation its present in abstract class so it is called a\n",
    "                                                #concrete method.\n",
    "obj1 = Abs()\n",
    "obj1.mtd()\n"
   ]
  },
  {
   "cell_type": "code",
   "execution_count": 11,
   "id": "24671a36",
   "metadata": {},
   "outputs": [
    {
     "name": "stdout",
     "output_type": "stream",
     "text": [
      "10\n",
      "2\n",
      "2\n",
      "1\n"
     ]
    }
   ],
   "source": [
    "class Varmtds:\n",
    "    clsvar=2                 #class variable\n",
    "    def __init__(self, m1,m2,m3):\n",
    "        self.m1=m1                 #instance variables\n",
    "        self.m2=m2\n",
    "        self.m3=m3\n",
    "    def totalMarks(self):    \n",
    "        return self.m1+self.m2+self.m3    #instance method to perform operation on instance variables\n",
    "    \n",
    "    @classmethod             #class method to perform operation on class variables\n",
    "    def clsmtd(cls):        #cls\n",
    "        return cls.clsvar\n",
    "    \n",
    "    @staticmethod            #to perform general operations on other than class variables and instance variables\n",
    "    def stmtd(n1,n2):       #here we are not concerned about instance variable and class variable\n",
    "        return n1-n2\n",
    "    \n",
    "obj1=Varmtds(2,3,5)\n",
    "print(obj1.totalMarks())\n",
    "print(obj1.clsmtd())        #used class\n",
    "print(Varmtds.clsmtd())     #used object\n",
    "print(obj1.stmtd(5,4))\n",
    "        \n",
    "    "
   ]
  },
  {
   "cell_type": "code",
   "execution_count": 1,
   "id": "1f1ffd34",
   "metadata": {},
   "outputs": [],
   "source": [
    "#Decorators\n",
    "# Dccorators take another fn and modifies and returns the function or method without changing the source code.\n"
   ]
  },
  {
   "cell_type": "code",
   "execution_count": 1,
   "id": "a539cd1f",
   "metadata": {},
   "outputs": [],
   "source": [
    "#DUNDER METHOD\n",
    "# DUNDER MEANS DOUBLE UNDSERSCORE\n",
    "# If a method has double underscore front and back then it is called a dunder method\n",
    "# __init__() is a dunder method\n",
    "# Dunder methods are default methods, means when we create a class by default these methods will be in that class.\n",
    "# because every class we create in python inherits object class, object class has dunder methods so the class that we derived\n",
    "# from object class also contains these methods.\n",
    "#OBJEXXT CLASS IS THE PARENT CLASS OF EVERY CLASS BY DEFAULT.\n",
    "#Dunder methods are also called magical methods or special methods\n",
    "#These dunder methods will be USEFUL TO OVERRIDE the built-in methods."
   ]
  },
  {
   "cell_type": "code",
   "execution_count": 9,
   "id": "71d3cad8",
   "metadata": {},
   "outputs": [
    {
     "name": "stdout",
     "output_type": "stream",
     "text": [
      "Method of child class\n"
     ]
    }
   ],
   "source": [
    "class Ordpnt:\n",
    "    def mtd(self):\n",
    "        print(\"Method of parent class\")\n",
    "class Ordcld(Ordpnt):\n",
    "    def mtd(self):\n",
    "        print(\"Method of child class\")\n",
    "\n",
    "obj1=Ordpnt()\n",
    "obj2=Ordcld()\n",
    "obj2.mtd()"
   ]
  },
  {
   "cell_type": "code",
   "execution_count": 12,
   "id": "76c6f8ee",
   "metadata": {},
   "outputs": [
    {
     "name": "stdout",
     "output_type": "stream",
     "text": [
      "10\n",
      "10\n",
      "10\n"
     ]
    }
   ],
   "source": [
    "#NAME MANGLING\n",
    "class A:\n",
    "    __a=10\n",
    "    \n",
    "class B(A):\n",
    "    def getPrivateVariable(self):\n",
    "        print(self._A__a)    #_A\n",
    "obj1=A()\n",
    "obj2=B()\n",
    "print(obj1._A__a)         #_A\n",
    "obj2.getPrivateVariable()\n",
    "print(obj2._A__a)           #_A"
   ]
  },
  {
   "cell_type": "code",
   "execution_count": null,
   "id": "23f6a310",
   "metadata": {},
   "outputs": [],
   "source": []
  }
 ],
 "metadata": {
  "kernelspec": {
   "display_name": "Python 3 (ipykernel)",
   "language": "python",
   "name": "python3"
  },
  "language_info": {
   "codemirror_mode": {
    "name": "ipython",
    "version": 3
   },
   "file_extension": ".py",
   "mimetype": "text/x-python",
   "name": "python",
   "nbconvert_exporter": "python",
   "pygments_lexer": "ipython3",
   "version": "3.12.1"
  }
 },
 "nbformat": 4,
 "nbformat_minor": 5
}
