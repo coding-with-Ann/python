{
 "cells": [
  {
   "cell_type": "code",
   "execution_count": 1,
   "id": "a14f74a9",
   "metadata": {},
   "outputs": [],
   "source": [
    "#INHERITANCE\n",
    "\n",
    "#syntax of Inheritance\n",
    "# class BaseClass:\n",
    "#     def\n",
    "# class ChildClass(BaseClass):\n",
    "#     def\n",
    "\n",
    "#single level inheritance  --> class A --> class B\n",
    "#multilevel inheritance  -->  class A --> class B --> class C\n",
    "#Hierarchical inheritance ==> class A\n",
    "    #                            |\n",
    "    #                         --  ---\n",
    "    #                         |     |\n",
    "    #                     class B   class C\n",
    "\n",
    "#Multiple inheritance -- > one child inherits the properties multiple parents"
   ]
  },
  {
   "cell_type": "code",
   "execution_count": 4,
   "id": "09e84fdc",
   "metadata": {},
   "outputs": [
    {
     "name": "stdout",
     "output_type": "stream",
     "text": [
      "Homosapiens can speak\n",
      "Man talking\n"
     ]
    }
   ],
   "source": [
    "#single level inheritance\n",
    "class Homosapiens():\n",
    "    def speak(self):\n",
    "        print(\"Homosapiens can speak\")\n",
    "class Man(Homosapiens):\n",
    "    def talk(self):\n",
    "        print(\"Man talking\")\n",
    "        \n",
    "m = Man()\n",
    "m.speak()\n",
    "m.talk()\n",
    "\n",
    "        "
   ]
  },
  {
   "cell_type": "code",
   "execution_count": 11,
   "id": "d0416974",
   "metadata": {},
   "outputs": [
    {
     "name": "stdout",
     "output_type": "stream",
     "text": [
      "man child eating\n",
      "Man walking\n",
      "Homosapiens can speak\n"
     ]
    }
   ],
   "source": [
    "#MultiLevel Inheritance\n",
    "class Homosapiens():\n",
    "    def speak(self):\n",
    "        print(\"Homosapiens can speak\")\n",
    "        \n",
    "class Man(Homosapiens):\n",
    "    def walk(self):\n",
    "        print(\"Man walking\")\n",
    "        \n",
    "class ManChild(Man):\n",
    "    def eat(self):\n",
    "        print(\"man child eating\")\n",
    "\n",
    "mc = ManChild()\n",
    "mc.eat()\n",
    "mc.walk()\n",
    "mc.speak()"
   ]
  },
  {
   "cell_type": "code",
   "execution_count": 17,
   "id": "a95497ac",
   "metadata": {},
   "outputs": [
    {
     "data": {
      "text/plain": [
       "600"
      ]
     },
     "execution_count": 17,
     "metadata": {},
     "output_type": "execute_result"
    }
   ],
   "source": [
    "#Multiple Inheritance(Two parents, one child)\n",
    "\n",
    "class Calculation1:\n",
    "    def sum(self, x, y):\n",
    "        return x+y\n",
    "class Calculation2:\n",
    "    def substraction(self, x, y):\n",
    "        return x-y\n",
    "class Derived(Calculation1, Calculation2):\n",
    "    def multiplication(self, x, y):\n",
    "        return x*y;\n",
    "    \n",
    "d = Derived()\n",
    "d.sum(40,80)\n",
    "d.substraction(40,80)\n",
    "d.multiplication(20,30)\n"
   ]
  },
  {
   "cell_type": "code",
   "execution_count": 20,
   "id": "b6d8cb18",
   "metadata": {},
   "outputs": [
    {
     "name": "stdout",
     "output_type": "stream",
     "text": [
      "channels are telecasted through antenna\n",
      "channels are telecasted through antenna\n",
      "channels are telecasted through antenna\n",
      "\n",
      "channels are telecasted through cable connection\n",
      "Videos can be tethered through output devices\n",
      "YOu can watch movies on OTT plotforms\n"
     ]
    }
   ],
   "source": [
    "#hierarchical Inheritance(one parent, multiple childs)\n",
    "\n",
    "class BlackAndWhiteTv:\n",
    "    def antenna(self):\n",
    "        print(\"channels are telecasted through antenna\")\n",
    "class ColourTv(BlackAndWhiteTv):\n",
    "    def cable(self):\n",
    "        print(\"channels are telecasted through cable connection\")\n",
    "class WifiLedTv(BlackAndWhiteTv):\n",
    "    def bluetoothTethering(self):\n",
    "        print(\"Videos can be tethered through output devices\")\n",
    "class SmartTv(BlackAndWhiteTv):\n",
    "    def androidApplications(self):\n",
    "        print(\"YOu can watch movies on OTT plotforms\")\n",
    "        \n",
    "a1 = ColourTv()\n",
    "a2 = WifiLedTv()\n",
    "a3 = SmartTv()\n",
    "\n",
    "a1.antenna()\n",
    "a2.antenna()\n",
    "a3.antenna()\n",
    "print()\n",
    "a1.cable()\n",
    "a2.bluetoothTethering()\n",
    "a3.androidApplications()"
   ]
  },
  {
   "cell_type": "code",
   "execution_count": 29,
   "id": "e1edd6fe",
   "metadata": {},
   "outputs": [
    {
     "name": "stdout",
     "output_type": "stream",
     "text": [
      "Harry potter\n"
     ]
    }
   ],
   "source": [
    "#__init__()\n",
    "# init fn is a constructor in python language\n",
    "# It is called by default whenever you instantiate an object\n",
    "\n",
    "class Person:\n",
    "    def __init__(self, fname, lname):\n",
    "        self.firstname = fname\n",
    "        self.lastname = lname\n",
    "    def printname(self):\n",
    "        print(self.firstname, self.lastname)\n",
    "        \n",
    "class Student(Person):\n",
    "    def __init__(self,fname, lname):\n",
    "        Person.__init__(self,fname,lname)    #no :    #invoking the constructor of person class\n",
    "\n",
    "s = Student(\"Harry\", \"potter\")   #when we call the student class, by default the init method is invoked and the parameters \n",
    "s.printname()                    #in it are initialised with harry and potter. Then we called the constructor of person class\n",
    "                                 #so values will be assigned in person class. when we call printname method it prints"
   ]
  },
  {
   "cell_type": "code",
   "execution_count": 27,
   "id": "2db0f736",
   "metadata": {},
   "outputs": [
    {
     "name": "stdout",
     "output_type": "stream",
     "text": [
      "Harry potter\n"
     ]
    }
   ],
   "source": [
    "#we can also use super keyword instead of using class name in above code\n",
    "#SUPER KEYWORD ***\n",
    "\n",
    "class Person:\n",
    "    def __init__(self, fname, lname):\n",
    "        self.firstname = fname\n",
    "        self.lastname = lname\n",
    "    def printname(self):\n",
    "        print(self.firstname, self.lastname)\n",
    "        \n",
    "class Student(Person):\n",
    "    def __init__(self,fname, lname):\n",
    "        super().__init__(fname,lname)   #no self no :  ***\n",
    "x = Student(\"Harry\", \"potter\")\n",
    "x.printname()"
   ]
  },
  {
   "cell_type": "code",
   "execution_count": 36,
   "id": "268e1613",
   "metadata": {},
   "outputs": [
    {
     "name": "stdout",
     "output_type": "stream",
     "text": [
      "True\n",
      "False\n"
     ]
    }
   ],
   "source": [
    "#issubclass() method(returns true or false)\n",
    "#is used to check if derived class issubclass of super class\n",
    "\n",
    "#SYNTAX\n",
    "#issubclass(derivedclass,superclass)\n",
    "\n",
    "class Calculation1:\n",
    "    def sum(self, x,y):\n",
    "        return x+y\n",
    "    \n",
    "class Calculation2:\n",
    "    def Multiplication(self, x,y):\n",
    "        return x*y\n",
    "\n",
    "class Derived(Calculation1,Calculation2):\n",
    "    def divide(self,a,b):\n",
    "        return a/b\n",
    "#we will check which class is a subclass of which one\n",
    "d = Derived()\n",
    "print(issubclass(Derived, Calculation2))\n",
    "print(issubclass(Calculation2, Derived))"
   ]
  },
  {
   "cell_type": "code",
   "execution_count": 44,
   "id": "f0117435",
   "metadata": {},
   "outputs": [
    {
     "name": "stdout",
     "output_type": "stream",
     "text": [
      "True\n",
      "False\n",
      "True\n",
      "True\n"
     ]
    }
   ],
   "source": [
    "#isinstance() method\n",
    "#\n",
    "class Calculation1:\n",
    "    def sum(self, x,y):\n",
    "        return x+y\n",
    "    \n",
    "class Calculation2:\n",
    "    def Multiplication(self, x,y):\n",
    "        return x*y\n",
    "\n",
    "class Derived(Calculation1,Calculation2):\n",
    "    def divide(self,a,b):\n",
    "        return a/b\n",
    "    \n",
    "d = Derived()\n",
    "c = Calculation1()\n",
    "print(isinstance(d, Derived))   #To check if the object is instance of a class or not\n",
    "print(isinstance(c, Derived))\n",
    "print(isinstance(d, Calculation1))\n",
    "print(isinstance(d, Calculation2))"
   ]
  },
  {
   "cell_type": "code",
   "execution_count": null,
   "id": "1a1024e2",
   "metadata": {},
   "outputs": [],
   "source": []
  }
 ],
 "metadata": {
  "kernelspec": {
   "display_name": "Python 3 (ipykernel)",
   "language": "python",
   "name": "python3"
  },
  "language_info": {
   "codemirror_mode": {
    "name": "ipython",
    "version": 3
   },
   "file_extension": ".py",
   "mimetype": "text/x-python",
   "name": "python",
   "nbconvert_exporter": "python",
   "pygments_lexer": "ipython3",
   "version": "3.11.2"
  }
 },
 "nbformat": 4,
 "nbformat_minor": 5
}
