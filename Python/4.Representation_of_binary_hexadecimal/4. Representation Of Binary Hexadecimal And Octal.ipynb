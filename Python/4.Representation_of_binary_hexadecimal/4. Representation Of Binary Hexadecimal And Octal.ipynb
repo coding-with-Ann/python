{
 "cells": [
  {
   "cell_type": "code",
   "execution_count": 1,
   "id": "8b046db3",
   "metadata": {},
   "outputs": [],
   "source": [
    "#All integers can be represented as binary, hexadecial and octal\n",
    "#To resesent integer as a binary in python we have to prefix it by -- 0b or 0B\n",
    "#                         Octal                                    -- 0o or 0O\n",
    "#                         Hexa decimal                             -- 0x or 0X \n",
    "\n",
    "#abs()\n",
    "\n",
    "#random, randrange, choice and other fns"
   ]
  },
  {
   "cell_type": "code",
   "execution_count": 3,
   "id": "b8219d4f",
   "metadata": {},
   "outputs": [
    {
     "data": {
      "text/plain": [
       "216"
      ]
     },
     "execution_count": 3,
     "metadata": {},
     "output_type": "execute_result"
    }
   ],
   "source": [
    "0b11011000          #kinda implicit type conversion"
   ]
  },
  {
   "cell_type": "code",
   "execution_count": 8,
   "id": "2ca8a50f",
   "metadata": {},
   "outputs": [
    {
     "data": {
      "text/plain": [
       "10"
      ]
     },
     "execution_count": 8,
     "metadata": {},
     "output_type": "execute_result"
    }
   ],
   "source": [
    "0o12"
   ]
  },
  {
   "cell_type": "code",
   "execution_count": 10,
   "id": "999607ba",
   "metadata": {},
   "outputs": [
    {
     "data": {
      "text/plain": [
       "18"
      ]
     },
     "execution_count": 10,
     "metadata": {},
     "output_type": "execute_result"
    }
   ],
   "source": [
    "0x12"
   ]
  },
  {
   "cell_type": "code",
   "execution_count": 12,
   "id": "540c8fff",
   "metadata": {},
   "outputs": [
    {
     "data": {
      "text/plain": [
       "18"
      ]
     },
     "execution_count": 12,
     "metadata": {},
     "output_type": "execute_result"
    }
   ],
   "source": [
    "0X12"
   ]
  },
  {
   "cell_type": "code",
   "execution_count": 4,
   "id": "10751ded",
   "metadata": {},
   "outputs": [
    {
     "name": "stdout",
     "output_type": "stream",
     "text": [
      "2/3\n",
      "6/5\n"
     ]
    }
   ],
   "source": [
    "#FRACTIONS\n",
    "from fractions import Fraction as f    # F capital in fraction \n",
    "\n",
    "print(f(1,3)+f(1,3))\n",
    "\n",
    "print(1/f(5,6))"
   ]
  },
  {
   "cell_type": "code",
   "execution_count": 18,
   "id": "a55ef39d",
   "metadata": {},
   "outputs": [
    {
     "name": "stdout",
     "output_type": "stream",
     "text": [
      "9.8\n"
     ]
    }
   ],
   "source": [
    "#NUMBER FUNCTIONS\n",
    "#Absolute fn will turn any -ve number to positive\n",
    "x = -9.8\n",
    "print(abs(x))"
   ]
  },
  {
   "cell_type": "code",
   "execution_count": 3,
   "id": "0c7cecc4",
   "metadata": {},
   "outputs": [
    {
     "name": "stdout",
     "output_type": "stream",
     "text": [
      "3.141592653589793\n",
      "2.718281828459045\n",
      "22026.465794806718\n",
      "3.0\n",
      "720\n",
      "2.0\n",
      "-43\n",
      "-44\n",
      "32.0\n"
     ]
    }
   ],
   "source": [
    "import math\n",
    "print(math.pi)\n",
    "print(math.e)   #value of exponent e\n",
    "print(math.exp(10))    # e power 10\n",
    "print(math.log10(1000))\n",
    "print(math.factorial(6))\n",
    "print(math.sqrt(4))\n",
    "print(math.ceil(-43.5))   # ceiling fn gives the greatest value of the number wrote in the ceiling fn \n",
    "print(math.floor(-43.5))  # The floor fn returns the lowest value of the number entered\n",
    "print(math.pow(2, 5))"
   ]
  },
  {
   "cell_type": "code",
   "execution_count": 4,
   "id": "31c7edbb",
   "metadata": {},
   "outputs": [
    {
     "name": "stdout",
     "output_type": "stream",
     "text": [
      "99\n",
      "1\n"
     ]
    }
   ],
   "source": [
    "print(max(1,2,3,99,66))\n",
    "print(min(1,2,3,99.66))"
   ]
  },
  {
   "cell_type": "code",
   "execution_count": 44,
   "id": "66e21f20",
   "metadata": {},
   "outputs": [
    {
     "name": "stdout",
     "output_type": "stream",
     "text": [
      "1.0\n",
      "-1.0\n",
      "0.0\n",
      "0.9999999999999999\n"
     ]
    }
   ],
   "source": [
    "#TRIGONOMETRIC FNS\n",
    "\n",
    "print(math.cos(0))\n",
    "print(math.cos(math.pi))\n",
    "print(math.tan(0))\n",
    "print(math.tan(math.pi/4))"
   ]
  },
  {
   "cell_type": "code",
   "execution_count": 4,
   "id": "b52d59d4",
   "metadata": {},
   "outputs": [
    {
     "name": "stdout",
     "output_type": "stream",
     "text": [
      "18\n",
      "0.029359699914762616\n"
     ]
    }
   ],
   "source": [
    "#RANDOM NUMBER FUNCTIONS\n",
    "import random\n",
    "print(random.randrange(10,20))  #with range\n",
    "print(random.random())          #without range"
   ]
  },
  {
   "cell_type": "code",
   "execution_count": 9,
   "id": "1bda96fb",
   "metadata": {},
   "outputs": [
    {
     "name": "stdout",
     "output_type": "stream",
     "text": [
      "4\n"
     ]
    }
   ],
   "source": [
    "x = ['1','2','3','4','5']\n",
    "print(random.choice(x))    # random.choce() returns any random value from string, list or tuple"
   ]
  },
  {
   "cell_type": "code",
   "execution_count": null,
   "id": "ffec0b46",
   "metadata": {},
   "outputs": [],
   "source": []
  }
 ],
 "metadata": {
  "kernelspec": {
   "display_name": "Python 3 (ipykernel)",
   "language": "python",
   "name": "python3"
  },
  "language_info": {
   "codemirror_mode": {
    "name": "ipython",
    "version": 3
   },
   "file_extension": ".py",
   "mimetype": "text/x-python",
   "name": "python",
   "nbconvert_exporter": "python",
   "pygments_lexer": "ipython3",
   "version": "3.11.2"
  }
 },
 "nbformat": 4,
 "nbformat_minor": 5
}
