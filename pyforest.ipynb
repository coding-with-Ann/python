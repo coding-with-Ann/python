{
 "cells": [
  {
   "cell_type": "markdown",
   "id": "485c8772",
   "metadata": {},
   "source": [
    "## pyforest - lazy import of all python data science libraries\n",
    "It imports all python data science libraries only when you need them\n",
    "If we dont use a library it wont be imported\n",
    "\n",
    "- pip install pyforest\n",
    "- active_imports()    to see all the imported modules"
   ]
  }
 ],
 "metadata": {
  "kernelspec": {
   "display_name": "Python 3",
   "language": "python",
   "name": "python3"
  },
  "language_info": {
   "codemirror_mode": {
    "name": "ipython",
    "version": 3
   },
   "file_extension": ".py",
   "mimetype": "text/x-python",
   "name": "python",
   "nbconvert_exporter": "python",
   "pygments_lexer": "ipython3",
   "version": "3.12.1"
  }
 },
 "nbformat": 4,
 "nbformat_minor": 5
}
