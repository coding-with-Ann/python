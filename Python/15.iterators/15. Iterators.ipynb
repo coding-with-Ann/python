{
 "cells": [
  {
   "cell_type": "code",
   "execution_count": null,
   "id": "9b661ac4",
   "metadata": {},
   "outputs": [],
   "source": [
    "#Pyhton iterator is an object that can iterate through iterables\n",
    "#like list, tuple, dict, sets and returns data, one element at a time.\n",
    "#They are implemented in forloops, comphrensions, generators etc but are hidden.\n",
    "\n",
    "#Lists, tuple, dict and sets are all iterable objects and they possess an iter() method which is used to get iterator.\n",
    "\n",
    "#Pyhton iterator internally implements iterator protocol which consists of methods __iter__(), __next__()\n",
    "#These two methods are implicitly implemented by python for any internal implicit iterator object.\n",
    "#To write any custom iterator we have to overide these two methods\n",
    "\n",
    "#The iteratror object is initialised using the iter() method and use next() method inorder to traverse through it.\n",
    "\n",
    "#STOP ITERATION EXCEPTION\n",
    "#When we reach end of an iterable or there is no data to return or if iteration goes on forever then \n",
    "#python will raise stop iteration exception.\n",
    "# To prevent these condition we use stop iteration statement to raise an error in the __next__() method"
   ]
  },
  {
   "cell_type": "code",
   "execution_count": null,
   "id": "475cdf4b",
   "metadata": {},
   "outputs": [],
   "source": [
    "list1 = [4,17,60,33]\n",
    "my_iter = iter(list1)\n",
    "print(next(my_iter))\n",
    "print(next(my_iter))\n",
    "print(my_iter.__next__())   #same output but with differnt syntax\n",
    "print(my_iter.__next__())\n",
    "#Now the list has reached end, if we try to iterate futher we will get stop iteration exception\n",
    "print(my_iter.__next__())"
   ]
  },
  {
   "cell_type": "code",
   "execution_count": 1,
   "id": "24874a01",
   "metadata": {},
   "outputs": [
    {
     "name": "stdout",
     "output_type": "stream",
     "text": [
      "H\n",
      "e\n",
      "l\n",
      "l\n",
      "o\n"
     ]
    }
   ],
   "source": [
    "iterable_value = \"Hello\"\n",
    "iterable_obj = iter(iterable_value)\n",
    "while True:\n",
    "    try:\n",
    "        item = next(iterable_obj)\n",
    "        print(item)\n",
    "    except StopIteration: \n",
    "        break"
   ]
  },
  {
   "cell_type": "code",
   "execution_count": null,
   "id": "b5679777",
   "metadata": {},
   "outputs": [],
   "source": [
    "list2 = [4,17,60,33]\n",
    "for i in list2:\n",
    "    print(i, end = ' ')"
   ]
  },
  {
   "cell_type": "code",
   "execution_count": null,
   "id": "34de7fd2",
   "metadata": {},
   "outputs": [],
   "source": [
    "#CUSTOM ITERATOR    ***\n",
    "class Addsix:\n",
    "    def __init__(self, max=0):\n",
    "        self.max = max\n",
    "    def __iter__(self):\n",
    "        self.n = 0\n",
    "        return self   #***\n",
    "    def __next__(self):\n",
    "        if self.n <=self.max:\n",
    "            result = self.n+6\n",
    "            self.n +=1\n",
    "            return result\n",
    "        else:\n",
    "            raise StopIteration\n",
    "            \n",
    "numbers = Addsix(9)   #invoking class and iteration stops when value is 10\n",
    "i = iter(numbers)  #converted may be class objects to iterators. Inorder to invoke class as an\n",
    "                   #iterator it is mandatory that u have to override the iter and next methods which we have done above\n",
    "print(next(i))\n",
    "print(next(i))\n",
    "print(next(i))\n",
    "print(next(i))\n",
    "print(next(i))\n",
    "\n",
    "\n"
   ]
  },
  {
   "cell_type": "code",
   "execution_count": null,
   "id": "8b02d23e",
   "metadata": {},
   "outputs": [],
   "source": [
    "class MyNumbers:\n",
    "    def __iter__(self):\n",
    "        self.a = 1\n",
    "        return self\n",
    "    def __next__(self):\n",
    "        if self.a<=20:\n",
    "            x = self.a\n",
    "            self.a+=1\n",
    "            return x\n",
    "        else:\n",
    "            raise StopIteration\n",
    "\n",
    "mynumber = MyNumbers()\n",
    "myiter = iter(mynumber)\n",
    "\n",
    "for x in myiter:\n",
    "    print(next(i))"
   ]
  },
  {
   "cell_type": "code",
   "execution_count": null,
   "id": "9afb7e10",
   "metadata": {},
   "outputs": [],
   "source": []
  }
 ],
 "metadata": {
  "kernelspec": {
   "display_name": "Python 3 (ipykernel)",
   "language": "python",
   "name": "python3"
  },
  "language_info": {
   "codemirror_mode": {
    "name": "ipython",
    "version": 3
   },
   "file_extension": ".py",
   "mimetype": "text/x-python",
   "name": "python",
   "nbconvert_exporter": "python",
   "pygments_lexer": "ipython3",
   "version": "3.11.2"
  }
 },
 "nbformat": 4,
 "nbformat_minor": 5
}
